{
 "cells": [
  {
   "cell_type": "markdown",
   "metadata": {
    "id": "J1tOS7oWba4s"
   },
   "source": [
    "# Large language models (LLMs): Part II\n",
    "\n",
    "Author: Archit Vasan , including materials on LLMs by Varuni Sastri, and discussion/editorial work by Taylor Childers, Carlo Graziani, Bethany Lusch, and Venkat Vishwanath (Argonne)\n",
    "\n",
    "Inspiration from the blog posts \"The Illustrated Transformer\" and \"The Illustrated GPT2\" by Jay Alammar, highly recommended reading.\n",
    "\n",
    "Before you begin, make sure that you have your environment set up and your repo refreshed, as described in previous lessons, and reviewed in the accompanying 'Readme.md' file. Make sure that you select the kernel 'datascience/conda-2023-01-10' at the top-left of the Jupyter notebook."
   ]
  },
  {
   "cell_type": "markdown",
   "metadata": {},
   "source": [
    "## Overview\n",
    "1. Training and inference using Hugging Face\n",
    "2. Elements of an LLM\n",
    "3. Attention mechanisms\n",
    "4. Positional encoding\n",
    "5. Output layers\n",
    "6. Training loops"
   ]
  },
  {
   "cell_type": "code",
   "execution_count": null,
   "metadata": {},
   "outputs": [],
   "source": [
    "import os\n",
    "os.environ[\"HTTP_PROXY\"]=\"http://proxy-01.pub.alcf.anl.gov:3128\"\n",
    "os.environ[\"HTTPS_PROXY\"]=\"http://proxy-01.pub.alcf.anl.gov:3128\"\n",
    "os.environ[\"http_proxy\"]=\"http://proxy-01.pub.alcf.anl.gov:3128\"\n",
    "os.environ[\"https_proxy\"]=\"http://proxy-01.pub.alcf.anl.gov:3128\"\n",
    "os.environ[\"ftp_proxy\"]=\"http://proxy-01.pub.alcf.anl.gov:3128\" "
   ]
  },
  {
   "cell_type": "markdown",
   "metadata": {},
   "source": [
    "## LLM training and inference using HuggingFace"
   ]
  },
  {
   "cell_type": "markdown",
   "metadata": {},
   "source": [
    "<img src=\"images/hf-logo-with-title.png\" alt=\"Drawing\" style=\"width: 300px;\"/>\n",
    "HuggingFace is a platform and community that provides open-source library tools and resources like pre-trained models and datasets.\n",
    "Refer to the following links for more information :\n",
    "\n",
    "https://huggingface.co/docs/hub/index\n",
    "\n",
    "https://huggingface.co/docs/transformers/en/index"
   ]
  },
  {
   "cell_type": "markdown",
   "metadata": {},
   "source": [
    "Warning: _Large Language Models are only as good as their training data. They have no ethics, no judgement, or editing ability. We will be using some pretrained models from Hugging Face which used wide samples of internet hosted text. The datasets have not been strictly filtered to restrict all malign content so the generated text may be surprisingly dark or questionable. They do not reflect our core values and are only used for demonstration purposes._"
   ]
  },
  {
   "cell_type": "markdown",
   "metadata": {},
   "source": [
    "### Inference\n",
    "\n",
    "We can use the Huggingface pipeline with a pretrained GPT2 model to generate text given a prompt."
   ]
  },
  {
   "cell_type": "code",
   "execution_count": 33,
   "metadata": {
    "scrolled": true
   },
   "outputs": [
    {
     "data": {
      "text/plain": [
       "[{'generated_text': \"My dog really wanted to go, and now that he's going, it's been like 20 minutes\"},\n",
       " {'generated_text': 'My dog really wanted to be one of those nice big-breed kids,\" said Mark Goh'},\n",
       " {'generated_text': 'My dog really wanted to go on a date with me and I wanted her to date me, so'},\n",
       " {'generated_text': 'My dog really wanted to leave with us. It was just, just, he wanted to eat.'},\n",
       " {'generated_text': 'My dog really wanted to find something, and we were looking for a dog that would care for my'}]"
      ]
     },
     "execution_count": 33,
     "metadata": {},
     "output_type": "execute_result"
    }
   ],
   "source": [
    "from transformers import AutoTokenizer,AutoModelForCausalLM, AutoConfig\n",
    "input_text = \"My dog really wanted to\"\n",
    "from transformers import pipeline\n",
    "generator = pipeline(\"text-generation\", model=\"openai-community/gpt2\")\n",
    "generator(input_text, max_length=20, num_return_sequences=5)"
   ]
  },
  {
   "cell_type": "markdown",
   "metadata": {},
   "source": [
    "We will cover  evaluation metrics,as well as safe and responsibilities practices when using LLMs in **Session 8**."
   ]
  },
  {
   "cell_type": "markdown",
   "metadata": {},
   "source": [
    "### Training"
   ]
  },
  {
   "cell_type": "markdown",
   "metadata": {},
   "source": [
    "We can also load in our own dataset and train a model with this data as follows:"
   ]
  },
  {
   "cell_type": "code",
   "execution_count": 34,
   "metadata": {
    "scrolled": true
   },
   "outputs": [
    {
     "name": "stdout",
     "output_type": "stream",
     "text": [
      "Defaulting to user installation because normal site-packages is not writeable\n",
      "Requirement already satisfied: accelerate in c:\\users\\joseph marincel\\appdata\\roaming\\python\\python39\\site-packages (0.27.2)\n",
      "Requirement already satisfied: psutil in c:\\programdata\\anaconda3\\lib\\site-packages (from accelerate) (5.8.0)\n",
      "Requirement already satisfied: numpy>=1.17 in c:\\programdata\\anaconda3\\lib\\site-packages (from accelerate) (1.21.5)\n",
      "Requirement already satisfied: huggingface-hub in c:\\users\\joseph marincel\\appdata\\roaming\\python\\python39\\site-packages (from accelerate) (0.21.3)\n",
      "Requirement already satisfied: pyyaml in c:\\programdata\\anaconda3\\lib\\site-packages (from accelerate) (6.0)\n",
      "Requirement already satisfied: safetensors>=0.3.1 in c:\\users\\joseph marincel\\appdata\\roaming\\python\\python39\\site-packages (from accelerate) (0.4.2)\n",
      "Requirement already satisfied: packaging>=20.0 in c:\\programdata\\anaconda3\\lib\\site-packages (from accelerate) (21.3)\n",
      "Requirement already satisfied: torch>=1.10.0 in c:\\users\\joseph marincel\\appdata\\roaming\\python\\python39\\site-packages (from accelerate) (2.2.1)\n",
      "Requirement already satisfied: pyparsing!=3.0.5,>=2.0.2 in c:\\programdata\\anaconda3\\lib\\site-packages (from packaging>=20.0->accelerate) (3.0.4)\n",
      "Requirement already satisfied: networkx in c:\\programdata\\anaconda3\\lib\\site-packages (from torch>=1.10.0->accelerate) (2.7.1)\n",
      "Requirement already satisfied: sympy in c:\\programdata\\anaconda3\\lib\\site-packages (from torch>=1.10.0->accelerate) (1.10.1)\n",
      "Requirement already satisfied: fsspec in c:\\users\\joseph marincel\\appdata\\roaming\\python\\python39\\site-packages (from torch>=1.10.0->accelerate) (2024.2.0)\n",
      "Requirement already satisfied: typing-extensions>=4.8.0 in c:\\users\\joseph marincel\\appdata\\roaming\\python\\python39\\site-packages (from torch>=1.10.0->accelerate) (4.10.0)\n",
      "Requirement already satisfied: filelock in c:\\programdata\\anaconda3\\lib\\site-packages (from torch>=1.10.0->accelerate) (3.6.0)\n",
      "Requirement already satisfied: jinja2 in c:\\programdata\\anaconda3\\lib\\site-packages (from torch>=1.10.0->accelerate) (2.11.3)\n",
      "Requirement already satisfied: tqdm>=4.42.1 in c:\\programdata\\anaconda3\\lib\\site-packages (from huggingface-hub->accelerate) (4.64.0)\n",
      "Requirement already satisfied: requests in c:\\programdata\\anaconda3\\lib\\site-packages (from huggingface-hub->accelerate) (2.27.1)\n",
      "Requirement already satisfied: colorama in c:\\programdata\\anaconda3\\lib\\site-packages (from tqdm>=4.42.1->huggingface-hub->accelerate) (0.4.4)\n",
      "Requirement already satisfied: MarkupSafe>=0.23 in c:\\programdata\\anaconda3\\lib\\site-packages (from jinja2->torch>=1.10.0->accelerate) (2.0.1)\n",
      "Requirement already satisfied: idna<4,>=2.5 in c:\\programdata\\anaconda3\\lib\\site-packages (from requests->huggingface-hub->accelerate) (3.3)\n",
      "Requirement already satisfied: certifi>=2017.4.17 in c:\\programdata\\anaconda3\\lib\\site-packages (from requests->huggingface-hub->accelerate) (2021.10.8)\n",
      "Requirement already satisfied: charset-normalizer~=2.0.0 in c:\\programdata\\anaconda3\\lib\\site-packages (from requests->huggingface-hub->accelerate) (2.0.4)\n",
      "Requirement already satisfied: urllib3<1.27,>=1.21.1 in c:\\programdata\\anaconda3\\lib\\site-packages (from requests->huggingface-hub->accelerate) (1.26.9)\n",
      "Requirement already satisfied: mpmath>=0.19 in c:\\programdata\\anaconda3\\lib\\site-packages (from sympy->torch>=1.10.0->accelerate) (1.2.1)\n"
     ]
    }
   ],
   "source": [
    "!pip install accelerate -U"
   ]
  },
  {
   "cell_type": "code",
   "execution_count": 35,
   "metadata": {},
   "outputs": [],
   "source": [
    "from transformers import TextDataset,DataCollatorForLanguageModeling\n",
    "\n",
    "def load_dataset(train_path,test_path,tokenizer):\n",
    "    train_dataset = TextDataset(\n",
    "          tokenizer=tokenizer,\n",
    "          file_path=train_path,\n",
    "          block_size=128) \n",
    "    test_dataset = TextDataset(\n",
    "          tokenizer=tokenizer,\n",
    "          file_path=test_path,\n",
    "          block_size=128)   \n",
    "    data_collator = DataCollatorForLanguageModeling(\n",
    "        tokenizer=tokenizer, mlm=False,\n",
    "    )\n",
    "    return train_dataset,test_dataset,data_collator"
   ]
  },
  {
   "cell_type": "code",
   "execution_count": 36,
   "metadata": {},
   "outputs": [
    {
     "name": "stderr",
     "output_type": "stream",
     "text": [
      "C:\\Users\\Joseph Marincel\\AppData\\Roaming\\Python\\Python39\\site-packages\\transformers\\data\\datasets\\language_modeling.py:53: FutureWarning: This dataset will be removed from the library soon, preprocessing should be handled with the 🤗 Datasets library. You can have a look at this example script for pointers: https://github.com/huggingface/transformers/blob/main/examples/pytorch/language-modeling/run_mlm.py\n",
      "  warnings.warn(\n"
     ]
    },
    {
     "ename": "ValueError",
     "evalue": "Input file path dataset/train_input.txt not found",
     "output_type": "error",
     "traceback": [
      "\u001b[1;31m---------------------------------------------------------------------------\u001b[0m",
      "\u001b[1;31mValueError\u001b[0m                                Traceback (most recent call last)",
      "Input \u001b[1;32mIn [36]\u001b[0m, in \u001b[0;36m<cell line: 6>\u001b[1;34m()\u001b[0m\n\u001b[0;32m      3\u001b[0m tokenizer \u001b[38;5;241m=\u001b[39m AutoTokenizer\u001b[38;5;241m.\u001b[39mfrom_pretrained(\u001b[38;5;124m\"\u001b[39m\u001b[38;5;124mopenai-community/gpt2\u001b[39m\u001b[38;5;124m\"\u001b[39m)\n\u001b[0;32m      4\u001b[0m model \u001b[38;5;241m=\u001b[39m AutoModelForCausalLM\u001b[38;5;241m.\u001b[39mfrom_pretrained(\u001b[38;5;124m\"\u001b[39m\u001b[38;5;124mopenai-community/gpt2\u001b[39m\u001b[38;5;124m\"\u001b[39m)\n\u001b[1;32m----> 6\u001b[0m train_dataset,test_dataset,data_collator \u001b[38;5;241m=\u001b[39m \u001b[43mload_dataset\u001b[49m\u001b[43m(\u001b[49m\u001b[38;5;124;43m'\u001b[39;49m\u001b[38;5;124;43mdataset/train_input.txt\u001b[39;49m\u001b[38;5;124;43m'\u001b[39;49m\u001b[43m,\u001b[49m\u001b[38;5;124;43m'\u001b[39;49m\u001b[38;5;124;43mdataset/test_input.txt\u001b[39;49m\u001b[38;5;124;43m'\u001b[39;49m\u001b[43m,\u001b[49m\u001b[43m \u001b[49m\u001b[43mtokenizer\u001b[49m\u001b[43m)\u001b[49m\n\u001b[0;32m      8\u001b[0m \u001b[38;5;28;01mfrom\u001b[39;00m \u001b[38;5;21;01mtransformers\u001b[39;00m \u001b[38;5;28;01mimport\u001b[39;00m Trainer, TrainingArguments\n\u001b[0;32m     10\u001b[0m training_args \u001b[38;5;241m=\u001b[39m TrainingArguments(\n\u001b[0;32m     11\u001b[0m     output_dir\u001b[38;5;241m=\u001b[39m\u001b[38;5;124m\"\u001b[39m\u001b[38;5;124m./gpt2\u001b[39m\u001b[38;5;124m\"\u001b[39m, \u001b[38;5;66;03m#The output directory\u001b[39;00m\n\u001b[0;32m     12\u001b[0m     overwrite_output_dir\u001b[38;5;241m=\u001b[39m\u001b[38;5;28;01mTrue\u001b[39;00m, \u001b[38;5;66;03m#overwrite the content of the output directory\u001b[39;00m\n\u001b[1;32m   (...)\u001b[0m\n\u001b[0;32m     19\u001b[0m     prediction_loss_only\u001b[38;5;241m=\u001b[39m\u001b[38;5;28;01mTrue\u001b[39;00m,\n\u001b[0;32m     20\u001b[0m     )\n",
      "Input \u001b[1;32mIn [35]\u001b[0m, in \u001b[0;36mload_dataset\u001b[1;34m(train_path, test_path, tokenizer)\u001b[0m\n\u001b[0;32m      3\u001b[0m \u001b[38;5;28;01mdef\u001b[39;00m \u001b[38;5;21mload_dataset\u001b[39m(train_path,test_path,tokenizer):\n\u001b[1;32m----> 4\u001b[0m     train_dataset \u001b[38;5;241m=\u001b[39m \u001b[43mTextDataset\u001b[49m\u001b[43m(\u001b[49m\n\u001b[0;32m      5\u001b[0m \u001b[43m          \u001b[49m\u001b[43mtokenizer\u001b[49m\u001b[38;5;241;43m=\u001b[39;49m\u001b[43mtokenizer\u001b[49m\u001b[43m,\u001b[49m\n\u001b[0;32m      6\u001b[0m \u001b[43m          \u001b[49m\u001b[43mfile_path\u001b[49m\u001b[38;5;241;43m=\u001b[39;49m\u001b[43mtrain_path\u001b[49m\u001b[43m,\u001b[49m\n\u001b[0;32m      7\u001b[0m \u001b[43m          \u001b[49m\u001b[43mblock_size\u001b[49m\u001b[38;5;241;43m=\u001b[39;49m\u001b[38;5;241;43m128\u001b[39;49m\u001b[43m)\u001b[49m \n\u001b[0;32m      8\u001b[0m     test_dataset \u001b[38;5;241m=\u001b[39m TextDataset(\n\u001b[0;32m      9\u001b[0m           tokenizer\u001b[38;5;241m=\u001b[39mtokenizer,\n\u001b[0;32m     10\u001b[0m           file_path\u001b[38;5;241m=\u001b[39mtest_path,\n\u001b[0;32m     11\u001b[0m           block_size\u001b[38;5;241m=\u001b[39m\u001b[38;5;241m128\u001b[39m)   \n\u001b[0;32m     12\u001b[0m     data_collator \u001b[38;5;241m=\u001b[39m DataCollatorForLanguageModeling(\n\u001b[0;32m     13\u001b[0m         tokenizer\u001b[38;5;241m=\u001b[39mtokenizer, mlm\u001b[38;5;241m=\u001b[39m\u001b[38;5;28;01mFalse\u001b[39;00m,\n\u001b[0;32m     14\u001b[0m     )\n",
      "File \u001b[1;32m~\\AppData\\Roaming\\Python\\Python39\\site-packages\\transformers\\data\\datasets\\language_modeling.py:60\u001b[0m, in \u001b[0;36mTextDataset.__init__\u001b[1;34m(self, tokenizer, file_path, block_size, overwrite_cache, cache_dir)\u001b[0m\n\u001b[0;32m     53\u001b[0m warnings\u001b[38;5;241m.\u001b[39mwarn(\n\u001b[0;32m     54\u001b[0m     DEPRECATION_WARNING\u001b[38;5;241m.\u001b[39mformat(\n\u001b[0;32m     55\u001b[0m         \u001b[38;5;124m\"\u001b[39m\u001b[38;5;124mhttps://github.com/huggingface/transformers/blob/main/examples/pytorch/language-modeling/run_mlm.py\u001b[39m\u001b[38;5;124m\"\u001b[39m\n\u001b[0;32m     56\u001b[0m     ),\n\u001b[0;32m     57\u001b[0m     \u001b[38;5;167;01mFutureWarning\u001b[39;00m,\n\u001b[0;32m     58\u001b[0m )\n\u001b[0;32m     59\u001b[0m \u001b[38;5;28;01mif\u001b[39;00m os\u001b[38;5;241m.\u001b[39mpath\u001b[38;5;241m.\u001b[39misfile(file_path) \u001b[38;5;129;01mis\u001b[39;00m \u001b[38;5;28;01mFalse\u001b[39;00m:\n\u001b[1;32m---> 60\u001b[0m     \u001b[38;5;28;01mraise\u001b[39;00m \u001b[38;5;167;01mValueError\u001b[39;00m(\u001b[38;5;124mf\u001b[39m\u001b[38;5;124m\"\u001b[39m\u001b[38;5;124mInput file path \u001b[39m\u001b[38;5;132;01m{\u001b[39;00mfile_path\u001b[38;5;132;01m}\u001b[39;00m\u001b[38;5;124m not found\u001b[39m\u001b[38;5;124m\"\u001b[39m)\n\u001b[0;32m     62\u001b[0m block_size \u001b[38;5;241m=\u001b[39m block_size \u001b[38;5;241m-\u001b[39m tokenizer\u001b[38;5;241m.\u001b[39mnum_special_tokens_to_add(pair\u001b[38;5;241m=\u001b[39m\u001b[38;5;28;01mFalse\u001b[39;00m)\n\u001b[0;32m     64\u001b[0m directory, filename \u001b[38;5;241m=\u001b[39m os\u001b[38;5;241m.\u001b[39mpath\u001b[38;5;241m.\u001b[39msplit(file_path)\n",
      "\u001b[1;31mValueError\u001b[0m: Input file path dataset/train_input.txt not found"
     ]
    }
   ],
   "source": [
    "from transformers import AutoTokenizer,AutoModelForCausalLM\n",
    "\n",
    "tokenizer = AutoTokenizer.from_pretrained(\"openai-community/gpt2\")\n",
    "model = AutoModelForCausalLM.from_pretrained(\"openai-community/gpt2\")\n",
    "\n",
    "train_dataset,test_dataset,data_collator = load_dataset('dataset/train_input.txt','dataset/test_input.txt', tokenizer)\n",
    "\n",
    "from transformers import Trainer, TrainingArguments\n",
    "\n",
    "training_args = TrainingArguments(\n",
    "    output_dir=\"./gpt2\", #The output directory\n",
    "    overwrite_output_dir=True, #overwrite the content of the output directory\n",
    "    num_train_epochs=3, # number of training epochs\n",
    "    per_device_train_batch_size=32, # batch size for training\n",
    "    per_device_eval_batch_size=64,  # batch size for evaluation\n",
    "    eval_steps = 40, # Number of update steps between two evaluations.\n",
    "    save_steps=80, # after # steps model is saved \n",
    "    warmup_steps=50,# number of warmup steps for learning rate scheduler\n",
    "    prediction_loss_only=True,\n",
    "    )\n",
    "\n",
    "trainer = Trainer(\n",
    "    model=model,\n",
    "    args=training_args,\n",
    "    data_collator=data_collator,\n",
    "    train_dataset=train_dataset,\n",
    "    eval_dataset=test_dataset,\n",
    ")"
   ]
  },
  {
   "cell_type": "markdown",
   "metadata": {},
   "source": [
    "## What is going on below the hood?"
   ]
  },
  {
   "cell_type": "markdown",
   "metadata": {},
   "source": [
    "There are two components that are \"black-boxes\" here:\n",
    "1. The method for tokenization\n",
    "2. The model that generates novel text.\n",
    "\n",
    "Carlo Graziani already gave a great explanation of tokenization last week and how this affects embeddings (https://github.com/argonne-lcf/ai-science-training-series/blob/main/04_intro_to_llms/Sequential_Data_Models.ipynb)"
   ]
  },
  {
   "cell_type": "markdown",
   "metadata": {},
   "source": [
    "Today we will take a closer look at how the model is designed to deal with language."
   ]
  },
  {
   "cell_type": "markdown",
   "metadata": {},
   "source": [
    "Let's look inside GPT2! GPT2 incorporates the `GPT2LMHeadModel` architecture so let's inspect this more closely."
   ]
  },
  {
   "cell_type": "code",
   "execution_count": 37,
   "metadata": {
    "scrolled": true
   },
   "outputs": [
    {
     "name": "stdout",
     "output_type": "stream",
     "text": [
      "GPT2LMHeadModel(\n",
      "  (transformer): GPT2Model(\n",
      "    (wte): Embedding(50257, 768)\n",
      "    (wpe): Embedding(1024, 768)\n",
      "    (drop): Dropout(p=0.1, inplace=False)\n",
      "    (h): ModuleList(\n",
      "      (0-11): 12 x GPT2Block(\n",
      "        (ln_1): LayerNorm((768,), eps=1e-05, elementwise_affine=True)\n",
      "        (attn): GPT2Attention(\n",
      "          (c_attn): Conv1D()\n",
      "          (c_proj): Conv1D()\n",
      "          (attn_dropout): Dropout(p=0.1, inplace=False)\n",
      "          (resid_dropout): Dropout(p=0.1, inplace=False)\n",
      "        )\n",
      "        (ln_2): LayerNorm((768,), eps=1e-05, elementwise_affine=True)\n",
      "        (mlp): GPT2MLP(\n",
      "          (c_fc): Conv1D()\n",
      "          (c_proj): Conv1D()\n",
      "          (act): NewGELUActivation()\n",
      "          (dropout): Dropout(p=0.1, inplace=False)\n",
      "        )\n",
      "      )\n",
      "    )\n",
      "    (ln_f): LayerNorm((768,), eps=1e-05, elementwise_affine=True)\n",
      "  )\n",
      "  (lm_head): Linear(in_features=768, out_features=50257, bias=False)\n",
      ")\n"
     ]
    }
   ],
   "source": [
    "from transformers import GPT2Tokenizer, GPT2LMHeadModel\n",
    "model = GPT2LMHeadModel.from_pretrained('gpt2')\n",
    "print(model)"
   ]
  },
  {
   "cell_type": "markdown",
   "metadata": {},
   "source": [
    "## General elements of an LLM"
   ]
  },
  {
   "cell_type": "markdown",
   "metadata": {},
   "source": [
    "GPT-2 is an example of the popular Transformer architecture. \n"
   ]
  },
  {
   "cell_type": "markdown",
   "metadata": {
    "id": "cig2mvfguetQ"
   },
   "source": [
    "<img src=\"images/decoder_only_block.png\" alt=\"Drawing\" style=\"width: 200px;\"/>\n",
    "Image credit: https://arxiv.org/pdf/1706.03762.pdf"
   ]
  },
  {
   "cell_type": "markdown",
   "metadata": {},
   "source": [
    "The gray section in this figure is the Transfomer Decoder and it is the main mechanism GPT2 uses to encode context of language into its predictions.\n",
    "\n",
    "<img src=\"images/transformer-decoder-intro.png\" alt=\"Drawing\" style=\"width: 600px;\"/>\n",
    "Image credit: https://jalammar.github.io/illustrated-gpt2/"
   ]
  },
  {
   "cell_type": "markdown",
   "metadata": {},
   "source": [
    "The Transformer-Decoder is composed of Decoder blocks stacked ontop of each other where each contains two types of layers: \n",
    "1. Masked Self-Attention and \n",
    "2. Feed Forward Neural Networks."
   ]
  },
  {
   "cell_type": "markdown",
   "metadata": {},
   "source": [
    "You have already discussed Feed Forward Neural Networks in detail in the other lectures in this series. To review this, please look at https://github.com/argonne-lcf/ai-science-training-series/blob/main/02_intro_neural_networks/01_introduction_mnist.ipynb"
   ]
  },
  {
   "cell_type": "markdown",
   "metadata": {},
   "source": [
    "In this lecture, we will \n",
    "* First, discuss attention mechanisms at length as this is arguably the greatest contribution by Transformers.\n",
    "* Second, extend the discussion from last week (https://github.com/argonne-lcf/ai-science-training-series/blob/main/04_intro_to_llms/Sequential_Data_Models.ipynb) on embedding input data while taking into account position.\n",
    "* Third, discuss outputting real text/sequences from the models.\n",
    "* Fourth, build a training loop for a mini-LLM."
   ]
  },
  {
   "cell_type": "markdown",
   "metadata": {},
   "source": [
    "**Let's set up all the imports we will need**"
   ]
  },
  {
   "cell_type": "code",
   "execution_count": 5,
   "metadata": {
    "scrolled": true
   },
   "outputs": [
    {
     "data": {
      "text/plain": [
       "<torch._C.Generator at 0x263cf1648b0>"
      ]
     },
     "execution_count": 5,
     "metadata": {},
     "output_type": "execute_result"
    }
   ],
   "source": [
    "## IMPORTS\n",
    "\n",
    "import torch\n",
    "import torch.nn as nn\n",
    "from torch.nn import functional as F\n",
    "torch.manual_seed(1337)\n",
    "# hyperparameters\n",
    "batch_size = 16 # how many independent sequences will we process in parallel?\n",
    "block_size = 32 # what is the maximum context length for predictions?\n",
    "max_iters = 5000\n",
    "eval_interval = 100\n",
    "learning_rate = 1e-3\n",
    "device = 'cuda' if torch.cuda.is_available() else 'cpu'\n",
    "eval_iters = 200\n",
    "n_embd = 64\n",
    "n_head = 4 ## so head_size = 16\n",
    "n_layer = 4\n",
    "dropout = 0.0\n",
    "# ------------\n",
    "\n",
    "torch.manual_seed(1337)"
   ]
  },
  {
   "cell_type": "markdown",
   "metadata": {
    "id": "BowLYFlCrDrr"
   },
   "source": [
    "## Attention mechanisms\n",
    "\n",
    "Suppose the following sentence is an input sentence we want to translate using an LLM:\n",
    "\n",
    "`”The animal didn't cross the street because it was too tired”`\n",
    "\n",
    "Last week, Carlo mentioned that the Transformer learns an embedding of all words allowing interpretation of meanings of words.\n",
    "\n",
    "<img src=\"images/viz-bert-voc-verbs.png\" alt=\"Drawing\" style=\"width: 400px;\"/>\n",
    "\n",
    "So, if the model did a good job in token embedding, it will \"know\" what all the words in this sentence mean. "
   ]
  },
  {
   "cell_type": "markdown",
   "metadata": {},
   "source": [
    "But to understand a full sentence, the model also need to understand what each word means in relation to other words.\n",
    "\n",
    "For example, when we read the sentence:\n",
    "`”The animal didn't cross the street because it was too tired”`\n",
    "we know intuitively that the word `\"it\"` refers to `\"animal\"`, the state for `\"it\"` is `\"tired\"`, and the associated action is `\"didn't cross\"`.\n",
    "\n",
    "However, the model needs a way to learn all of this information in a simple yet generalizable way.\n",
    "What makes Transformers particularly powerful compared to earlier sequential architectures is how it encodes context with the **self-attention mechanism**.\n",
    "\n",
    "As the model processes each word in the input sequence, attention looks at other positions in the input sequence for clues to a better understanding for this word."
   ]
  },
  {
   "cell_type": "markdown",
   "metadata": {},
   "source": [
    "<img src=\"images/transformer_self-attention_visualization.png\" alt=\"Drawing\" style=\"width: 300px;\"/>"
   ]
  },
  {
   "cell_type": "markdown",
   "metadata": {
    "id": "UGbAi0cJ7x3a"
   },
   "source": [
    "Image credit: https://jalammar.github.io/illustrated-transformer/"
   ]
  },
  {
   "cell_type": "markdown",
   "metadata": {},
   "source": [
    "Self-attention mechanisms use 3 vectors to encode the context of a word in a sequence with another word:\n",
    "1. Query: the word representation we score other words against using the other word's keys\n",
    "2. Key: labels for the words in a sequence that we match against the query\n",
    "3. Value: actual word representation. We will use the queries and keys to score the word's relevance to the query, and multiply this by the value. \n",
    "\n",
    "An analogy provided by Jay Alammar is thinking about attention as choosing a file from a file cabinet according to information on a post-it note. You can use the post-it note (query) to identify the folder (key) that most matches the topic you are looking up. Then you access the contents of the file (value) according to its relevance to your query."
   ]
  },
  {
   "cell_type": "markdown",
   "metadata": {},
   "source": [
    "<img src=\"images/self-attention-example-folders-3.png\" alt=\"Drawing\" style=\"width: 500px;\"/>\n",
    "Image credit: https://jalammar.github.io/illustrated-gpt2/"
   ]
  },
  {
   "cell_type": "markdown",
   "metadata": {},
   "source": [
    "In our models, we can encode queries, keys, and values using simple linear layers with the same size (`sequence length, head_size`). During the training process, these layers will be updated to best encode context."
   ]
  },
  {
   "cell_type": "code",
   "execution_count": 39,
   "metadata": {},
   "outputs": [],
   "source": [
    "C = 32 # channels\n",
    "head_size = 16\n",
    "\n",
    "key = nn.Linear(C, head_size, bias=False)\n",
    "query = nn.Linear(C, head_size, bias=False)\n",
    "value = nn.Linear(C, head_size, bias=False)"
   ]
  },
  {
   "cell_type": "markdown",
   "metadata": {
    "id": "Jzf9VE_AqWeR"
   },
   "source": [
    "The algorithm for self-attention is as follows:\n",
    "\n",
    "1. Generate query, key and value vectors for each word\n",
    "2. Calculate a score for each word in the input sentence against each other.\n",
    "3. Divide the scores by the square root of the dimension of the key vectors to stabilize the gradients. This is then passed through a softmax operation.\n",
    "4. Multiply each value vector by the softmax score.\n",
    "5. Sum up the weighted value vectors to produce the output.\n"
   ]
  },
  {
   "cell_type": "markdown",
   "metadata": {},
   "source": [
    "<img src=\"images/self-attention-output.png\" alt=\"Drawing\" style=\"width: 450px;\"/>"
   ]
  },
  {
   "cell_type": "markdown",
   "metadata": {
    "id": "yOwm-NkXA8U3"
   },
   "source": [
    "Image credit: https://jalammar.github.io/illustrated-transformer/"
   ]
  },
  {
   "cell_type": "markdown",
   "metadata": {},
   "source": [
    "Let's see how attention is performed in the code."
   ]
  },
  {
   "cell_type": "code",
   "execution_count": 1,
   "metadata": {},
   "outputs": [],
   "source": [
    "import torch\n",
    "import torch.nn as nn\n",
    "from torch.nn import functional as F\n",
    "torch.manual_seed(1337)\n",
    "B,T,C = 4,8,32 # batch, time, channels\n",
    "x = torch.randn(B,T,C)\n",
    "\n",
    "# Here we want the wei to be data dependent - ie gather info from the past but in a data dependant way\n",
    "\n",
    "head_size = 16\n",
    "key = nn.Linear(C, head_size, bias=False)\n",
    "query = nn.Linear(C, head_size, bias=False)\n",
    "value = nn.Linear(C, head_size, bias=False)\n",
    "k = key(x)   # (B, T, 16) # each token here (totally B*T) produce a key and query in parallel and independently\n",
    "q = query(x) # (B, T, 16)\n",
    "v = value(x)\n",
    "\n",
    "wei =  q @ k.transpose(-2, -1) * head_size**-0.5 # (B, T, 16) @ (B, 16, T) ---> (B, T, T). #\n",
    "wei = F.softmax(wei, dim=-1) # exponentiate and normalize giving a nice distibution that sums to 1 and\n",
    "                             # now it tells us that in a data dependent manner how much of info to aggregate from\n",
    "\n",
    "out = wei @ v # aggregate the attention scores and value vector.\n"
   ]
  },
  {
   "cell_type": "code",
   "execution_count": 41,
   "metadata": {
    "scrolled": false
   },
   "outputs": [
    {
     "name": "stdout",
     "output_type": "stream",
     "text": [
      "tensor([[ 0.0618, -0.0091, -0.3488,  0.3208,  0.2971, -0.1573, -0.0561,  0.1068,\n",
      "          0.0368,  0.0139, -0.0017,  0.3110,  0.1404, -0.0158,  0.1853,  0.4290],\n",
      "        [ 0.1578, -0.0971, -0.4256,  0.3538,  0.3621, -0.2392, -0.0536,  0.1759,\n",
      "          0.1115,  0.0282, -0.0649,  0.3641,  0.1928,  0.0261,  0.2162,  0.3758],\n",
      "        [ 0.1293,  0.0759, -0.2946,  0.2292,  0.2215, -0.0710, -0.0107,  0.1616,\n",
      "         -0.0930, -0.0877,  0.0567,  0.1899,  0.0311, -0.0894,  0.0309,  0.5471],\n",
      "        [ 0.1247,  0.1400, -0.2436,  0.1819,  0.1976,  0.0338, -0.0028,  0.1124,\n",
      "         -0.1477, -0.0748,  0.0650,  0.1392, -0.0314, -0.0989,  0.0613,  0.5433],\n",
      "        [ 0.0667,  0.1845, -0.2135,  0.2813,  0.2064,  0.0873,  0.0084,  0.2055,\n",
      "         -0.1130, -0.1466,  0.0459,  0.1923, -0.0275, -0.1107,  0.0065,  0.4674],\n",
      "        [ 0.1924,  0.1693, -0.1568,  0.2284,  0.1620,  0.0737,  0.0443,  0.2519,\n",
      "         -0.1912, -0.1979,  0.0832,  0.0713, -0.0826, -0.0848, -0.1047,  0.6089],\n",
      "        [ 0.1184,  0.0884, -0.2652,  0.2560,  0.1840,  0.0284, -0.0621,  0.1181,\n",
      "         -0.0880,  0.0104,  0.1123,  0.1850,  0.0369, -0.0730,  0.0663,  0.5242],\n",
      "        [ 0.1243,  0.0453, -0.3412,  0.2709,  0.2335, -0.0948, -0.0421,  0.2143,\n",
      "         -0.0330, -0.0313,  0.0520,  0.2378,  0.1084, -0.0959,  0.0300,  0.4707]],\n",
      "       grad_fn=<SelectBackward0>)\n"
     ]
    }
   ],
   "source": [
    "print(out[0])"
   ]
  },
  {
   "cell_type": "markdown",
   "metadata": {
    "id": "4lwyFlxKW6oA"
   },
   "source": [
    "### Multi-head attention\n",
    "\n",
    "In practice, multiple attention heads are used which\n",
    "1. Expands the model’s ability to focus on different positions and prevent the attention to be dominated by the word itself.\n",
    "2. Have multiple “representation subspaces”. Have multiple sets of Query/Key/Value weight matrices"
   ]
  },
  {
   "cell_type": "markdown",
   "metadata": {},
   "source": [
    "<img src=\"images/transformer_multi-headed_self-attention-recap.png\" alt=\"Drawing\" style=\"width: 700px;\"/>"
   ]
  },
  {
   "cell_type": "markdown",
   "metadata": {
    "id": "6oHsezdVBIaf"
   },
   "source": [
    "Image credit: https://jalammar.github.io/illustrated-transformer/"
   ]
  },
  {
   "cell_type": "markdown",
   "metadata": {},
   "source": [
    "### Let's see attention mechanisms in action!"
   ]
  },
  {
   "cell_type": "markdown",
   "metadata": {},
   "source": [
    "We are going to use the powerful visualization tool bertviz, which allows an interactive experience of the attention mechanisms. Normally these mechanisms are abstracted away but this will allow us to inspect our model in more detail."
   ]
  },
  {
   "cell_type": "code",
   "execution_count": 42,
   "metadata": {
    "scrolled": true
   },
   "outputs": [
    {
     "name": "stdout",
     "output_type": "stream",
     "text": [
      "Defaulting to user installation because normal site-packages is not writeable\n",
      "Requirement already satisfied: bertviz in c:\\users\\joseph marincel\\appdata\\roaming\\python\\python39\\site-packages (1.4.0)\n",
      "Requirement already satisfied: sentencepiece in c:\\users\\joseph marincel\\appdata\\roaming\\python\\python39\\site-packages (from bertviz) (0.2.0)\n",
      "Requirement already satisfied: requests in c:\\programdata\\anaconda3\\lib\\site-packages (from bertviz) (2.27.1)\n",
      "Requirement already satisfied: regex in c:\\programdata\\anaconda3\\lib\\site-packages (from bertviz) (2022.3.15)\n",
      "Requirement already satisfied: torch>=1.0 in c:\\users\\joseph marincel\\appdata\\roaming\\python\\python39\\site-packages (from bertviz) (2.2.1)\n",
      "Requirement already satisfied: boto3 in c:\\programdata\\anaconda3\\lib\\site-packages (from bertviz) (1.21.32)\n",
      "Requirement already satisfied: tqdm in c:\\programdata\\anaconda3\\lib\\site-packages (from bertviz) (4.64.0)\n",
      "Requirement already satisfied: transformers>=2.0 in c:\\users\\joseph marincel\\appdata\\roaming\\python\\python39\\site-packages (from bertviz) (4.38.2)\n",
      "Requirement already satisfied: fsspec in c:\\users\\joseph marincel\\appdata\\roaming\\python\\python39\\site-packages (from torch>=1.0->bertviz) (2024.2.0)\n",
      "Requirement already satisfied: typing-extensions>=4.8.0 in c:\\users\\joseph marincel\\appdata\\roaming\\python\\python39\\site-packages (from torch>=1.0->bertviz) (4.10.0)\n",
      "Requirement already satisfied: jinja2 in c:\\programdata\\anaconda3\\lib\\site-packages (from torch>=1.0->bertviz) (2.11.3)\n",
      "Requirement already satisfied: filelock in c:\\programdata\\anaconda3\\lib\\site-packages (from torch>=1.0->bertviz) (3.6.0)\n",
      "Requirement already satisfied: networkx in c:\\programdata\\anaconda3\\lib\\site-packages (from torch>=1.0->bertviz) (2.7.1)\n",
      "Requirement already satisfied: sympy in c:\\programdata\\anaconda3\\lib\\site-packages (from torch>=1.0->bertviz) (1.10.1)\n",
      "Requirement already satisfied: tokenizers<0.19,>=0.14 in c:\\users\\joseph marincel\\appdata\\roaming\\python\\python39\\site-packages (from transformers>=2.0->bertviz) (0.15.2)\n",
      "Requirement already satisfied: safetensors>=0.4.1 in c:\\users\\joseph marincel\\appdata\\roaming\\python\\python39\\site-packages (from transformers>=2.0->bertviz) (0.4.2)\n",
      "Requirement already satisfied: pyyaml>=5.1 in c:\\programdata\\anaconda3\\lib\\site-packages (from transformers>=2.0->bertviz) (6.0)\n",
      "Requirement already satisfied: huggingface-hub<1.0,>=0.19.3 in c:\\users\\joseph marincel\\appdata\\roaming\\python\\python39\\site-packages (from transformers>=2.0->bertviz) (0.21.3)\n",
      "Requirement already satisfied: packaging>=20.0 in c:\\programdata\\anaconda3\\lib\\site-packages (from transformers>=2.0->bertviz) (21.3)\n",
      "Requirement already satisfied: numpy>=1.17 in c:\\programdata\\anaconda3\\lib\\site-packages (from transformers>=2.0->bertviz) (1.21.5)\n",
      "Requirement already satisfied: pyparsing!=3.0.5,>=2.0.2 in c:\\programdata\\anaconda3\\lib\\site-packages (from packaging>=20.0->transformers>=2.0->bertviz) (3.0.4)\n",
      "Requirement already satisfied: colorama in c:\\programdata\\anaconda3\\lib\\site-packages (from tqdm->bertviz) (0.4.4)\n",
      "Requirement already satisfied: botocore<1.25.0,>=1.24.32 in c:\\programdata\\anaconda3\\lib\\site-packages (from boto3->bertviz) (1.24.32)\n",
      "Requirement already satisfied: jmespath<2.0.0,>=0.7.1 in c:\\programdata\\anaconda3\\lib\\site-packages (from boto3->bertviz) (0.10.0)\n",
      "Requirement already satisfied: s3transfer<0.6.0,>=0.5.0 in c:\\programdata\\anaconda3\\lib\\site-packages (from boto3->bertviz) (0.5.0)\n",
      "Requirement already satisfied: python-dateutil<3.0.0,>=2.1 in c:\\programdata\\anaconda3\\lib\\site-packages (from botocore<1.25.0,>=1.24.32->boto3->bertviz) (2.8.2)\n",
      "Requirement already satisfied: urllib3<1.27,>=1.25.4 in c:\\programdata\\anaconda3\\lib\\site-packages (from botocore<1.25.0,>=1.24.32->boto3->bertviz) (1.26.9)\n",
      "Requirement already satisfied: six>=1.5 in c:\\programdata\\anaconda3\\lib\\site-packages (from python-dateutil<3.0.0,>=2.1->botocore<1.25.0,>=1.24.32->boto3->bertviz) (1.16.0)\n",
      "Requirement already satisfied: MarkupSafe>=0.23 in c:\\programdata\\anaconda3\\lib\\site-packages (from jinja2->torch>=1.0->bertviz) (2.0.1)\n",
      "Requirement already satisfied: certifi>=2017.4.17 in c:\\programdata\\anaconda3\\lib\\site-packages (from requests->bertviz) (2021.10.8)\n",
      "Requirement already satisfied: charset-normalizer~=2.0.0 in c:\\programdata\\anaconda3\\lib\\site-packages (from requests->bertviz) (2.0.4)\n",
      "Requirement already satisfied: idna<4,>=2.5 in c:\\programdata\\anaconda3\\lib\\site-packages (from requests->bertviz) (3.3)\n",
      "Requirement already satisfied: mpmath>=0.19 in c:\\programdata\\anaconda3\\lib\\site-packages (from sympy->torch>=1.0->bertviz) (1.2.1)\n"
     ]
    }
   ],
   "source": [
    "!pip install bertviz"
   ]
  },
  {
   "cell_type": "markdown",
   "metadata": {},
   "source": [
    "Let's load in the model, GPT2 and look at the attention mechanisms. \n",
    "\n",
    "**Hint... click on the different blocks in the visualization to see the attention**"
   ]
  },
  {
   "cell_type": "code",
   "execution_count": 43,
   "metadata": {
    "scrolled": false
   },
   "outputs": [
    {
     "data": {
      "text/html": [
       "<script src=\"https://cdnjs.cloudflare.com/ajax/libs/require.js/2.3.6/require.min.js\"></script>"
      ],
      "text/plain": [
       "<IPython.core.display.HTML object>"
      ]
     },
     "metadata": {},
     "output_type": "display_data"
    },
    {
     "data": {
      "text/html": [
       "      \n",
       "        <div id=\"bertviz-4a605438c0e04c8a8ee23d2fea8179fb\" style=\"font-family:'Helvetica Neue', Helvetica, Arial, sans-serif;\">\n",
       "            <span style=\"user-select:none\">\n",
       "                \n",
       "            </span>\n",
       "            <div id='vis'></div>\n",
       "        </div>\n",
       "    "
      ],
      "text/plain": [
       "<IPython.core.display.HTML object>"
      ]
     },
     "metadata": {},
     "output_type": "display_data"
    },
    {
     "data": {
      "application/javascript": [
       "/**\n",
       " * @fileoverview Transformer Visualization D3 javascript code.\n",
       " *\n",
       " * Based on: https://github.com/tensorflow/tensor2tensor/blob/master/tensor2tensor/visualization/attention.js\n",
       " *\n",
       " * Change log:\n",
       " *\n",
       " * 02/01/19  Jesse Vig   Initial implementation\n",
       " * 12/31/20  Jesse Vig   Support multiple visualizations in single notebook.\n",
       " * 01/19/21  Jesse Vig   Support light/dark modes\n",
       " * 02/06/21  Jesse Vig   Move require config from separate jupyter notebook step\n",
       " * 05/03/21  Jesse Vig   Adjust visualization height dynamically\n",
       " * 03/23/22  Daniel SC   Update requirement URLs for d3 and jQuery (source of bug not allowing end result to be displayed on browsers)\n",
       " **/\n",
       "\n",
       "require.config({\n",
       "  paths: {\n",
       "      d3: 'https://cdnjs.cloudflare.com/ajax/libs/d3/5.7.0/d3.min',\n",
       "    jquery: 'https://cdnjs.cloudflare.com/ajax/libs/jquery/2.0.0/jquery.min',\n",
       "  }\n",
       "});\n",
       "\n",
       "requirejs(['jquery', 'd3'], function($, d3) {\n",
       "\n",
       "        const params = {\"attention\": [{\"name\": null, \"attn\": [[[[1.0, 0.0, 0.0, 0.0, 0.0, 0.0], [0.961219847202301, 0.03878015652298927, 0.0, 0.0, 0.0, 0.0], [0.7466979026794434, 0.11987315863370895, 0.13342894613742828, 0.0, 0.0, 0.0], [0.5885030031204224, 0.13792069256305695, 0.2121373564004898, 0.061438970267772675, 0.0, 0.0], [0.657085657119751, 0.08996301889419556, 0.1275128573179245, 0.08361566811800003, 0.04182283580303192, 0.0], [0.2728872001171112, 0.11203355342149734, 0.1663985401391983, 0.08467112481594086, 0.1695273369550705, 0.19448217749595642]], [[1.0, 0.0, 0.0, 0.0, 0.0, 0.0], [0.010616553016006947, 0.9893833994865417, 0.0, 0.0, 0.0, 0.0], [0.0024677535984665155, 0.008448002859950066, 0.9890841841697693, 0.0, 0.0, 0.0], [0.00012328448065090925, 0.0018733146134763956, 0.013126957230269909, 0.9848763942718506, 0.0, 0.0], [0.0010669539915397763, 0.0011366248363628983, 0.003034989582374692, 0.001573505811393261, 0.9931879043579102, 0.0], [0.00019792020611930639, 0.0010528132552281022, 0.0015437380643561482, 0.0009642774821259081, 3.4924432839034125e-05, 0.9962062835693359]], [[1.0, 0.0, 0.0, 0.0, 0.0, 0.0], [0.47578442096710205, 0.524215579032898, 0.0, 0.0, 0.0, 0.0], [0.5906046032905579, 0.2486611008644104, 0.16073434054851532, 0.0, 0.0, 0.0], [0.5529290437698364, 0.18856699764728546, 0.14457567036151886, 0.11392832547426224, 0.0, 0.0], [0.4509407877922058, 0.16486792266368866, 0.17318034172058105, 0.1174800917506218, 0.0935308113694191, 0.0], [0.42572468519210815, 0.17328646779060364, 0.15651948750019073, 0.07022644579410553, 0.08087010681629181, 0.09337276220321655]], [[1.0, 0.0, 0.0, 0.0, 0.0, 0.0], [0.6133623123168945, 0.38663768768310547, 0.0, 0.0, 0.0, 0.0], [0.06098514795303345, 0.0325346402823925, 0.9064802527427673, 0.0, 0.0, 0.0], [0.006717085372656584, 0.00040128850378096104, 0.7572957873344421, 0.23558583855628967, 0.0, 0.0], [0.037227652966976166, 0.002948854584246874, 0.10081075131893158, 0.041422661393880844, 0.817590057849884, 0.0], [0.04989774152636528, 0.0003075825225096196, 0.0024198247119784355, 0.0034334948286414146, 0.0006823899457231164, 0.9432590007781982]], [[1.0, 0.0, 0.0, 0.0, 0.0, 0.0], [0.9489555954933167, 0.051044464111328125, 0.0, 0.0, 0.0, 0.0], [0.6821407675743103, 0.1395241618156433, 0.17833498120307922, 0.0, 0.0, 0.0], [0.20366328954696655, 0.056414894759655, 0.06399302929639816, 0.6759288311004639, 0.0, 0.0], [0.3419547379016876, 0.0672544315457344, 0.0792618989944458, 0.17836196720600128, 0.3331669569015503, 0.0], [0.09464013576507568, 0.0074282134883105755, 0.006983976811170578, 0.007184373214840889, 0.018724260851740837, 0.865039050579071]], [[1.0, 0.0, 0.0, 0.0, 0.0, 0.0], [0.3383462429046631, 0.6616537570953369, 0.0, 0.0, 0.0, 0.0], [0.07855993509292603, 0.006165449041873217, 0.9152746200561523, 0.0, 0.0, 0.0], [0.016775960102677345, 0.00040376983815804124, 0.0033404543064534664, 0.9794798493385315, 0.0, 0.0], [0.027600426226854324, 0.00044415233423933387, 0.0006541680195368826, 0.0002266183728352189, 0.971074640750885, 0.0], [0.010248231701552868, 3.7015714042354375e-05, 0.0001606411678949371, 2.7341977329342626e-05, 1.0187343832512852e-05, 0.98951655626297]], [[1.0, 0.0, 0.0, 0.0, 0.0, 0.0], [0.982503354549408, 0.017496665939688683, 0.0, 0.0, 0.0, 0.0], [0.8874197006225586, 0.05467937886714935, 0.057900846004486084, 0.0, 0.0, 0.0], [0.6849910616874695, 0.1228068619966507, 0.04972026124596596, 0.14248184859752655, 0.0, 0.0], [0.601585328578949, 0.09881890565156937, 0.07070114463567734, 0.16652549803256989, 0.06236906349658966, 0.0], [0.32325059175491333, 0.12567412853240967, 0.044321779161691666, 0.0707697793841362, 0.06606651842594147, 0.3699171245098114]], [[1.0, 0.0, 0.0, 0.0, 0.0, 0.0], [0.9191647171974182, 0.08083529025316238, 0.0, 0.0, 0.0, 0.0], [0.45986407995224, 0.39703109860420227, 0.14310482144355774, 0.0, 0.0, 0.0], [0.30038732290267944, 0.2218172401189804, 0.38161519169807434, 0.09618023037910461, 0.0, 0.0], [0.1896391361951828, 0.13763722777366638, 0.20173488557338715, 0.236321821808815, 0.2346668541431427, 0.0], [0.1541045606136322, 0.09489506483078003, 0.11902555078268051, 0.10277961939573288, 0.43172186613082886, 0.09747330099344254]], [[1.0, 0.0, 0.0, 0.0, 0.0, 0.0], [0.364999920129776, 0.6350001096725464, 0.0, 0.0, 0.0, 0.0], [0.24595218896865845, 0.5519202351570129, 0.2021275758743286, 0.0, 0.0, 0.0], [0.27213597297668457, 0.40738627314567566, 0.2518620789051056, 0.06861574947834015, 0.0, 0.0], [0.10242550820112228, 0.16683611273765564, 0.5248050689697266, 0.05445463955402374, 0.15147869288921356, 0.0], [0.25029507279396057, 0.22198128700256348, 0.18899968266487122, 0.10677117854356766, 0.1303267776966095, 0.10162604600191116]], [[1.0, 0.0, 0.0, 0.0, 0.0, 0.0], [0.6990506649017334, 0.300949364900589, 0.0, 0.0, 0.0, 0.0], [0.5107942223548889, 0.2948642075061798, 0.1943415403366089, 0.0, 0.0, 0.0], [0.4604707360267639, 0.28051912784576416, 0.1917480230331421, 0.0672621801495552, 0.0, 0.0], [0.376484215259552, 0.21120662987232208, 0.20214545726776123, 0.10207024216651917, 0.10809352993965149, 0.0], [0.30138447880744934, 0.2045617550611496, 0.18250338733196259, 0.11019390821456909, 0.16291269659996033, 0.038443855941295624]], [[1.0, 0.0, 0.0, 0.0, 0.0, 0.0], [0.7131581902503967, 0.28684180974960327, 0.0, 0.0, 0.0, 0.0], [0.40588000416755676, 0.18063297867774963, 0.4134870171546936, 0.0, 0.0, 0.0], [0.26554611325263977, 0.1698586344718933, 0.33585935831069946, 0.22873593866825104, 0.0, 0.0], [0.3138541281223297, 0.1831669807434082, 0.14928360283374786, 0.053776707500219345, 0.2999185621738434, 0.0], [0.20466557145118713, 0.18731115758419037, 0.1595914363861084, 0.06381773203611374, 0.03642303869128227, 0.3481910228729248]], [[1.0, 0.0, 0.0, 0.0, 0.0, 0.0], [0.6586242914199829, 0.3413756787776947, 0.0, 0.0, 0.0, 0.0], [0.5917777419090271, 0.3160035312175751, 0.0922188013792038, 0.0, 0.0, 0.0], [0.5477152466773987, 0.23586955666542053, 0.061456020921468735, 0.1549593061208725, 0.0, 0.0], [0.4587061107158661, 0.22439999878406525, 0.07887424528598785, 0.0992034375667572, 0.13881626725196838, 0.0], [0.32743728160858154, 0.19600814580917358, 0.068057119846344, 0.0892510861158371, 0.11618072539567947, 0.20306558907032013]]], [[[1.0, 0.0, 0.0, 0.0, 0.0, 0.0], [0.9961552023887634, 0.0038448371924459934, 0.0, 0.0, 0.0, 0.0], [0.8594856858253479, 0.06906108558177948, 0.07145329564809799, 0.0, 0.0, 0.0], [0.380005419254303, 0.041275668889284134, 0.5496611595153809, 0.029057785868644714, 0.0, 0.0], [0.2144523411989212, 0.05088742449879646, 0.4317440092563629, 0.2586928904056549, 0.0442233681678772, 0.0], [0.11175289750099182, 0.017593108117580414, 0.027507465332746506, 0.040867775678634644, 0.7754665017127991, 0.026812193915247917]], [[1.0, 0.0, 0.0, 0.0, 0.0, 0.0], [0.9285967946052551, 0.07140326499938965, 0.0, 0.0, 0.0, 0.0], [0.6077286005020142, 0.31214284896850586, 0.08012859523296356, 0.0, 0.0, 0.0], [0.49429091811180115, 0.28503701090812683, 0.11849313229322433, 0.10217893123626709, 0.0, 0.0], [0.4183879792690277, 0.23117901384830475, 0.08340614289045334, 0.11365947872400284, 0.15336740016937256, 0.0], [0.4221585988998413, 0.1291714757680893, 0.08740920573472977, 0.10163753479719162, 0.21230269968509674, 0.04732051119208336]], [[1.0, 0.0, 0.0, 0.0, 0.0, 0.0], [0.9786475896835327, 0.021352380514144897, 0.0, 0.0, 0.0, 0.0], [0.7749121189117432, 0.06510371714830399, 0.15998417139053345, 0.0, 0.0, 0.0], [0.6484924554824829, 0.07483132183551788, 0.14751608669757843, 0.12916016578674316, 0.0, 0.0], [0.5224636793136597, 0.06921815872192383, 0.13823404908180237, 0.11106592416763306, 0.15901809930801392, 0.0], [0.3964517414569855, 0.0732581615447998, 0.12938141822814941, 0.10642430186271667, 0.14864003658294678, 0.14584431052207947]], [[1.0, 0.0, 0.0, 0.0, 0.0, 0.0], [0.5525906085968018, 0.44740942120552063, 0.0, 0.0, 0.0, 0.0], [0.5585008859634399, 0.2176259458065033, 0.22387316823005676, 0.0, 0.0, 0.0], [0.5143128633499146, 0.15964673459529877, 0.15491965413093567, 0.1711207777261734, 0.0, 0.0], [0.5039963722229004, 0.11401882767677307, 0.11974021792411804, 0.1255258321762085, 0.13671883940696716, 0.0], [0.5061842799186707, 0.08567394316196442, 0.0890301987528801, 0.09759818762540817, 0.10275726765394211, 0.11875618249177933]], [[1.0, 0.0, 0.0, 0.0, 0.0, 0.0], [0.9242545962333679, 0.07574541866779327, 0.0, 0.0, 0.0, 0.0], [0.8257424235343933, 0.07932537794113159, 0.0949321910738945, 0.0, 0.0, 0.0], [0.7306379675865173, 0.0857183113694191, 0.08043930679559708, 0.10320436209440231, 0.0, 0.0], [0.6383242607116699, 0.07886379957199097, 0.0781502053141594, 0.08758089691400528, 0.11708085983991623, 0.0], [0.5552157163619995, 0.07409121096134186, 0.06834887713193893, 0.07778602093458176, 0.09999323636293411, 0.12456494569778442]], [[1.0, 0.0, 0.0, 0.0, 0.0, 0.0], [0.8578915596008301, 0.14210841059684753, 0.0, 0.0, 0.0, 0.0], [0.6423038840293884, 0.16629022359848022, 0.19140596687793732, 0.0, 0.0, 0.0], [0.5530980229377747, 0.10609272867441177, 0.07821265608072281, 0.26259663701057434, 0.0, 0.0], [0.40121692419052124, 0.12223601341247559, 0.1934732049703598, 0.14164632558822632, 0.14142756164073944, 0.0], [0.4021258056163788, 0.1845075935125351, 0.07516812533140182, 0.05849040672183037, 0.1444634050130844, 0.13524460792541504]], [[1.0, 0.0, 0.0, 0.0, 0.0, 0.0], [0.9791558980941772, 0.020844057202339172, 0.0, 0.0, 0.0, 0.0], [0.8829841613769531, 0.06233251467347145, 0.0546833835542202, 0.0, 0.0, 0.0], [0.8105454444885254, 0.08617085218429565, 0.07321780920028687, 0.030065856873989105, 0.0, 0.0], [0.681981086730957, 0.04990820586681366, 0.08296555280685425, 0.08369524031877518, 0.10144984722137451, 0.0], [0.40566885471343994, 0.0733766108751297, 0.0860140398144722, 0.06170931085944176, 0.1322644203901291, 0.24096673727035522]], [[1.0, 0.0, 0.0, 0.0, 0.0, 0.0], [0.9670190811157227, 0.032980892807245255, 0.0, 0.0, 0.0, 0.0], [0.8449064493179321, 0.0851450264453888, 0.06994853168725967, 0.0, 0.0, 0.0], [0.7123571634292603, 0.07896046340465546, 0.055410776287317276, 0.1532716006040573, 0.0, 0.0], [0.6402611136436462, 0.0739755928516388, 0.044393088668584824, 0.14322128891944885, 0.09814891219139099, 0.0], [0.5073902010917664, 0.07523060590028763, 0.07754655182361603, 0.11362482607364655, 0.13947957754135132, 0.08672817796468735]], [[1.0, 0.0, 0.0, 0.0, 0.0, 0.0], [0.8487569093704224, 0.15124310553073883, 0.0, 0.0, 0.0, 0.0], [0.8415650129318237, 0.12107229232788086, 0.03736276179552078, 0.0, 0.0, 0.0], [0.7505517601966858, 0.11348948627710342, 0.061799611896276474, 0.0741591602563858, 0.0, 0.0], [0.6614714860916138, 0.10242654383182526, 0.05293433740735054, 0.07529723644256592, 0.1078704223036766, 0.0], [0.6014204621315002, 0.11340385675430298, 0.0563192293047905, 0.07096724212169647, 0.10906259715557098, 0.04882657155394554]], [[1.0, 0.0, 0.0, 0.0, 0.0, 0.0], [0.944548487663269, 0.055451519787311554, 0.0, 0.0, 0.0, 0.0], [0.8874569535255432, 0.054742082953453064, 0.05780095234513283, 0.0, 0.0, 0.0], [0.8281887769699097, 0.0689500942826271, 0.05903470516204834, 0.04382641240954399, 0.0, 0.0], [0.6429896950721741, 0.06747541576623917, 0.11629693955183029, 0.05417948216199875, 0.11905848979949951, 0.0], [0.7367824912071228, 0.05611906200647354, 0.06857284903526306, 0.034219563007354736, 0.07875372469425201, 0.02555241622030735]], [[1.0, 0.0, 0.0, 0.0, 0.0, 0.0], [0.0002913394710049033, 0.9997085928916931, 0.0, 0.0, 0.0, 0.0], [0.0007981216767802835, 0.5288336277008057, 0.4703682065010071, 0.0, 0.0, 0.0], [0.0007648480823263526, 0.34519830346107483, 0.3085266947746277, 0.3455101549625397, 0.0, 0.0], [0.0010283172596246004, 0.24135902523994446, 0.23320145905017853, 0.2555714547634125, 0.2688397467136383, 0.0], [0.000974681752268225, 0.1778968870639801, 0.1674315184354782, 0.18587613105773926, 0.18734435737133026, 0.28047648072242737]], [[1.0, 0.0, 0.0, 0.0, 0.0, 0.0], [0.8244929313659668, 0.1755070984363556, 0.0, 0.0, 0.0, 0.0], [0.1238686665892601, 0.044499825686216354, 0.8316314816474915, 0.0, 0.0, 0.0], [0.07924356311559677, 0.012965882197022438, 0.0015277164056897163, 0.9062628149986267, 0.0, 0.0], [0.08806419372558594, 0.021341072395443916, 0.0028886229265481234, 0.002845388138666749, 0.8848607540130615, 0.0], [0.0998322144150734, 0.03363391384482384, 0.005500006023794413, 0.002433054381981492, 0.0015082453610375524, 0.8570924997329712]]], [[[1.0, 0.0, 0.0, 0.0, 0.0, 0.0], [0.9646892547607422, 0.03531070798635483, 0.0, 0.0, 0.0, 0.0], [0.752915620803833, 0.08733486384153366, 0.15974949300289154, 0.0, 0.0, 0.0], [0.420228511095047, 0.09195113927125931, 0.2354983687400818, 0.2523220181465149, 0.0, 0.0], [0.3084893226623535, 0.05908145383000374, 0.3839130103588104, 0.1565915197134018, 0.09192471206188202, 0.0], [0.4479042589664459, 0.043293099850416183, 0.0796918049454689, 0.11081918329000473, 0.2212459295988083, 0.09704577177762985]], [[1.0, 0.0, 0.0, 0.0, 0.0, 0.0], [0.991096019744873, 0.008904017508029938, 0.0, 0.0, 0.0, 0.0], [0.9697675704956055, 0.026084497570991516, 0.004147919360548258, 0.0, 0.0, 0.0], [0.9082901477813721, 0.03320605307817459, 0.009421170689165592, 0.049082688987255096, 0.0, 0.0], [0.8949135541915894, 0.055445462465286255, 0.005577607546001673, 0.03150678426027298, 0.012556531466543674, 0.0], [0.8497739434242249, 0.028890086337924004, 0.003664793213829398, 0.03751985728740692, 0.03842790797352791, 0.04172343388199806]], [[1.0, 0.0, 0.0, 0.0, 0.0, 0.0], [0.9984525442123413, 0.0015474455431103706, 0.0, 0.0, 0.0, 0.0], [0.48947781324386597, 0.4812200367450714, 0.029302166774868965, 0.0, 0.0, 0.0], [0.11772168427705765, 0.13121210038661957, 0.6702313423156738, 0.08083495497703552, 0.0, 0.0], [0.13043706119060516, 0.040686819702386856, 0.26520389318466187, 0.41143563389778137, 0.15223664045333862, 0.0], [0.12661869823932648, 0.03275129571557045, 0.03567873314023018, 0.06039196997880936, 0.6021820306777954, 0.1423773169517517]], [[1.0, 0.0, 0.0, 0.0, 0.0, 0.0], [0.9805176854133606, 0.01948234625160694, 0.0, 0.0, 0.0, 0.0], [0.7948847413063049, 0.12061922997236252, 0.08449596911668777, 0.0, 0.0, 0.0], [0.5612359642982483, 0.15743133425712585, 0.2033969908952713, 0.07793568819761276, 0.0, 0.0], [0.42583775520324707, 0.10742027312517166, 0.15123659372329712, 0.08755016326904297, 0.2279551774263382, 0.0], [0.2475261390209198, 0.02418830618262291, 0.030395232141017914, 0.08586956560611725, 0.571433961391449, 0.04058681055903435]], [[1.0, 0.0, 0.0, 0.0, 0.0, 0.0], [0.9887767434120178, 0.011223225854337215, 0.0, 0.0, 0.0, 0.0], [0.757269024848938, 0.22317390143871307, 0.019557109102606773, 0.0, 0.0, 0.0], [0.5341881513595581, 0.22107580304145813, 0.17621822655200958, 0.06851769238710403, 0.0, 0.0], [0.1709529310464859, 0.08229431509971619, 0.5760219097137451, 0.1109759733080864, 0.05975488945841789, 0.0], [0.24871128797531128, 0.08880818635225296, 0.08980181068181992, 0.09729333221912384, 0.4413089454174042, 0.0340765006840229]], [[1.0, 0.0, 0.0, 0.0, 0.0, 0.0], [0.8422133922576904, 0.15778662264347076, 0.0, 0.0, 0.0, 0.0], [0.4684125781059265, 0.4610537588596344, 0.07053358852863312, 0.0, 0.0, 0.0], [0.2588140070438385, 0.46358931064605713, 0.185034841299057, 0.0925617665052414, 0.0, 0.0], [0.18399569392204285, 0.29154205322265625, 0.17031091451644897, 0.27172982692718506, 0.08242156356573105, 0.0], [0.16469866037368774, 0.24726979434490204, 0.08770564198493958, 0.22575005888938904, 0.17745350301265717, 0.09712236374616623]], [[1.0, 0.0, 0.0, 0.0, 0.0, 0.0], [0.9919946193695068, 0.008005395531654358, 0.0, 0.0, 0.0, 0.0], [0.9068724513053894, 0.04406513273715973, 0.04906242713332176, 0.0, 0.0, 0.0], [0.8582221865653992, 0.05534830689430237, 0.040419407188892365, 0.046010036021471024, 0.0, 0.0], [0.7855250835418701, 0.041242457926273346, 0.08369298279285431, 0.04887617379426956, 0.04066336527466774, 0.0], [0.7856318950653076, 0.050146423280239105, 0.04751260578632355, 0.027365900576114655, 0.056147512048482895, 0.03319564461708069]], [[1.0, 0.0, 0.0, 0.0, 0.0, 0.0], [0.9041034579277039, 0.09589657187461853, 0.0, 0.0, 0.0, 0.0], [0.5862314701080322, 0.07199830561876297, 0.3417702615261078, 0.0, 0.0, 0.0], [0.3878961503505707, 0.04660804569721222, 0.2027898132801056, 0.3627060353755951, 0.0, 0.0], [0.2665243446826935, 0.024533020332455635, 0.12211930751800537, 0.20041215419769287, 0.3864111304283142, 0.0], [0.23357392847537994, 0.020537326112389565, 0.09610331058502197, 0.13062264025211334, 0.229904904961586, 0.28925788402557373]], [[1.0, 0.0, 0.0, 0.0, 0.0, 0.0], [0.9639912247657776, 0.03600878641009331, 0.0, 0.0, 0.0, 0.0], [0.7075549364089966, 0.2542778551578522, 0.03816714137792587, 0.0, 0.0, 0.0], [0.2566528022289276, 0.20589327812194824, 0.016656646504998207, 0.5207973122596741, 0.0, 0.0], [0.10379377007484436, 0.04639098793268204, 0.008698645047843456, 0.7866849303245544, 0.05443162843585014, 0.0], [0.2214335948228836, 0.0337974950671196, 0.02902395650744438, 0.541292130947113, 0.15286117792129517, 0.021591627970337868]], [[1.0, 0.0, 0.0, 0.0, 0.0, 0.0], [0.9891703724861145, 0.010829639621078968, 0.0, 0.0, 0.0, 0.0], [0.7913152575492859, 0.1230965107679367, 0.08558818697929382, 0.0, 0.0, 0.0], [0.29546016454696655, 0.15808320045471191, 0.4217239022254944, 0.12473275512456894, 0.0, 0.0], [0.23441027104854584, 0.09886543452739716, 0.3316015899181366, 0.19713936746120453, 0.13798336684703827, 0.0], [0.19728374481201172, 0.057418402284383774, 0.06909023225307465, 0.16469822824001312, 0.2797278165817261, 0.23178157210350037]], [[1.0, 0.0, 0.0, 0.0, 0.0, 0.0], [0.9359127879142761, 0.0640871673822403, 0.0, 0.0, 0.0, 0.0], [0.7888627648353577, 0.086734838783741, 0.12440242618322372, 0.0, 0.0, 0.0], [0.6535120010375977, 0.07573555409908295, 0.09732567518949509, 0.17342686653137207, 0.0, 0.0], [0.5222764015197754, 0.0582788810133934, 0.09920482337474823, 0.17020851373672485, 0.15003135800361633, 0.0], [0.41088369488716125, 0.0473061129450798, 0.0726567879319191, 0.10560747981071472, 0.10550015419721603, 0.2580457925796509]], [[1.0, 0.0, 0.0, 0.0, 0.0, 0.0], [0.9683833122253418, 0.031616710126399994, 0.0, 0.0, 0.0, 0.0], [0.8965397477149963, 0.03887057304382324, 0.0645897164940834, 0.0, 0.0, 0.0], [0.826495349407196, 0.03213462606072426, 0.05196715518832207, 0.08940289914608002, 0.0, 0.0], [0.7718175053596497, 0.030402852222323418, 0.045827437192201614, 0.07118469476699829, 0.08076749742031097, 0.0], [0.7292330861091614, 0.021699871867895126, 0.0330747552216053, 0.04720095172524452, 0.06474559009075165, 0.10404571145772934]]], [[[1.0, 0.0, 0.0, 0.0, 0.0, 0.0], [0.9979567527770996, 0.002043284010142088, 0.0, 0.0, 0.0, 0.0], [0.9552940726280212, 0.00802531372755766, 0.03668058663606644, 0.0, 0.0, 0.0], [0.9254710078239441, 0.0027555753476917744, 0.0020629912614822388, 0.06971046328544617, 0.0, 0.0], [0.8660570979118347, 0.00388836907222867, 0.0006785993464291096, 0.000698147458024323, 0.12867775559425354, 0.0], [0.8455933928489685, 0.003780393162742257, 0.00025342300068587065, 6.02704421908129e-05, 0.00011820732470368966, 0.1501942127943039]], [[1.0, 0.0, 0.0, 0.0, 0.0, 0.0], [0.9262452721595764, 0.07375474274158478, 0.0, 0.0, 0.0, 0.0], [0.7717158794403076, 0.16241957247257233, 0.06586451083421707, 0.0, 0.0, 0.0], [0.8167633414268494, 0.07807186245918274, 0.06324050575494766, 0.04192419722676277, 0.0, 0.0], [0.6867167949676514, 0.07755228132009506, 0.1005696952342987, 0.05955106019973755, 0.0756101980805397, 0.0], [0.6421161890029907, 0.11014921963214874, 0.07688203454017639, 0.05403335765004158, 0.10333612561225891, 0.013483111746609211]], [[1.0, 0.0, 0.0, 0.0, 0.0, 0.0], [0.9395952820777893, 0.0604046992957592, 0.0, 0.0, 0.0, 0.0], [0.23004625737667084, 0.6617385149002075, 0.10821530967950821, 0.0, 0.0, 0.0], [0.26702114939689636, 0.36079633235931396, 0.3249630033969879, 0.04721951112151146, 0.0, 0.0], [0.595201849937439, 0.12269279360771179, 0.0630205050110817, 0.08916773647069931, 0.12991708517074585, 0.0], [0.10284478217363358, 0.02938005141913891, 0.013739065267145634, 0.04586036503314972, 0.7698517441749573, 0.038323983550071716]], [[1.0, 0.0, 0.0, 0.0, 0.0, 0.0], [0.9040980935096741, 0.09590187668800354, 0.0, 0.0, 0.0, 0.0], [0.3572383522987366, 0.627460777759552, 0.015300868079066277, 0.0, 0.0, 0.0], [0.5917990207672119, 0.27640441060066223, 0.10476091504096985, 0.02703561820089817, 0.0, 0.0], [0.7254419326782227, 0.049831319600343704, 0.014982872642576694, 0.17781314253807068, 0.03193070739507675, 0.0], [0.7612770199775696, 0.06158926710486412, 0.005942223593592644, 0.016426654532551765, 0.12677910923957825, 0.027985764667391777]], [[1.0, 0.0, 0.0, 0.0, 0.0, 0.0], [0.9947587847709656, 0.0052412403747439384, 0.0, 0.0, 0.0, 0.0], [0.9632415771484375, 0.017816409468650818, 0.018942024558782578, 0.0, 0.0, 0.0], [0.9671078324317932, 0.008509594947099686, 0.008562239818274975, 0.01582048088312149, 0.0, 0.0], [0.9340997338294983, 0.011952388100326061, 0.02018020488321781, 0.02675078809261322, 0.007016900461167097, 0.0], [0.9587237238883972, 0.004657106939703226, 0.003326775273308158, 0.006545276381075382, 0.010182436555624008, 0.01656450144946575]], [[1.0, 0.0, 0.0, 0.0, 0.0, 0.0], [0.9769991040229797, 0.023000916466116905, 0.0, 0.0, 0.0, 0.0], [0.7917608022689819, 0.1753321886062622, 0.03290707990527153, 0.0, 0.0, 0.0], [0.7949192523956299, 0.10531841963529587, 0.0402185320854187, 0.05954384058713913, 0.0, 0.0], [0.7097723484039307, 0.10552529245615005, 0.06597559154033661, 0.05765581130981445, 0.06107084080576897, 0.0], [0.7506598830223083, 0.026514483615756035, 0.02157607302069664, 0.034296728670597076, 0.08494461327791214, 0.08200817555189133]], [[1.0, 0.0, 0.0, 0.0, 0.0, 0.0], [0.9837515950202942, 0.01624837890267372, 0.0, 0.0, 0.0, 0.0], [0.5615503787994385, 0.08956825733184814, 0.3488813042640686, 0.0, 0.0, 0.0], [0.32928988337516785, 0.024114904925227165, 0.5428068041801453, 0.10378843545913696, 0.0, 0.0], [0.34330323338508606, 0.013086428865790367, 0.5121976137161255, 0.11146189272403717, 0.019950825721025467, 0.0], [0.4792800545692444, 0.01733364164829254, 0.11805406957864761, 0.061302777379751205, 0.20071932673454285, 0.12331003695726395]], [[1.0, 0.0, 0.0, 0.0, 0.0, 0.0], [0.9908847212791443, 0.009115300141274929, 0.0, 0.0, 0.0, 0.0], [0.5282712578773499, 0.32922595739364624, 0.14250285923480988, 0.0, 0.0, 0.0], [0.48788461089134216, 0.23368743062019348, 0.17578105628490448, 0.1026468500494957, 0.0, 0.0], [0.31444787979125977, 0.1806519776582718, 0.1687142252922058, 0.09506566822528839, 0.2411201447248459, 0.0], [0.5168761014938354, 0.03589720278978348, 0.026188161224126816, 0.04039733484387398, 0.187917560338974, 0.1927236169576645]], [[1.0, 0.0, 0.0, 0.0, 0.0, 0.0], [0.8750309944152832, 0.12496902048587799, 0.0, 0.0, 0.0, 0.0], [0.45506051182746887, 0.4900435209274292, 0.054895929992198944, 0.0, 0.0, 0.0], [0.2933717370033264, 0.5449912548065186, 0.0944429337978363, 0.06719407439231873, 0.0, 0.0], [0.4897083044052124, 0.2721002697944641, 0.06861981749534607, 0.14694780111312866, 0.022623883560299873, 0.0], [0.47290685772895813, 0.08103130757808685, 0.016052188351750374, 0.3067224323749542, 0.10120705515146255, 0.02208026498556137]], [[1.0, 0.0, 0.0, 0.0, 0.0, 0.0], [0.9630220532417297, 0.03697789087891579, 0.0, 0.0, 0.0, 0.0], [0.7557193040847778, 0.1643637865781784, 0.07991688698530197, 0.0, 0.0, 0.0], [0.694770336151123, 0.08409864455461502, 0.06382617354393005, 0.1573047786951065, 0.0, 0.0], [0.5821160078048706, 0.032977934926748276, 0.07936574518680573, 0.19441354274749756, 0.11112666130065918, 0.0], [0.5974529385566711, 0.04261106252670288, 0.06919734179973602, 0.14563500881195068, 0.12481765449047089, 0.02028597518801689]], [[1.0, 0.0, 0.0, 0.0, 0.0, 0.0], [0.9957822561264038, 0.004217818845063448, 0.0, 0.0, 0.0, 0.0], [0.9312832951545715, 0.010560241527855396, 0.05815647542476654, 0.0, 0.0, 0.0], [0.8435326218605042, 0.015695031732320786, 0.04575122147798538, 0.09502117335796356, 0.0, 0.0], [0.7724102139472961, 0.011981259100139141, 0.03504612669348717, 0.038767702877521515, 0.14179472625255585, 0.0], [0.7642905116081238, 0.009868832305073738, 0.008122789673507214, 0.013314420357346535, 0.048244062811136246, 0.156159445643425]], [[1.0, 0.0, 0.0, 0.0, 0.0, 0.0], [0.9701177477836609, 0.029882298782467842, 0.0, 0.0, 0.0, 0.0], [0.6564014554023743, 0.2250610738992691, 0.11853744834661484, 0.0, 0.0, 0.0], [0.6958049535751343, 0.1470188945531845, 0.07146032154560089, 0.08571583777666092, 0.0, 0.0], [0.6353272795677185, 0.13460682332515717, 0.03099430911242962, 0.05691632255911827, 0.1421552151441574, 0.0], [0.6779401898384094, 0.05365427955985069, 0.018006321042776108, 0.06284526735544205, 0.11038203537464142, 0.07717191427946091]]], [[[1.0, 0.0, 0.0, 0.0, 0.0, 0.0], [0.9822334051132202, 0.017766673117876053, 0.0, 0.0, 0.0, 0.0], [0.903766393661499, 0.06541506946086884, 0.030818430706858635, 0.0, 0.0, 0.0], [0.8119191527366638, 0.03679019585251808, 0.06056106090545654, 0.09072968363761902, 0.0, 0.0], [0.40546441078186035, 0.10383865982294083, 0.10211282968521118, 0.354341983795166, 0.034242141991853714, 0.0], [0.2282443791627884, 0.0172786395996809, 0.050554826855659485, 0.6015733480453491, 0.0941174179315567, 0.008231480605900288]], [[1.0, 0.0, 0.0, 0.0, 0.0, 0.0], [0.9873148202896118, 0.012685160152614117, 0.0, 0.0, 0.0, 0.0], [0.35445836186408997, 0.5317591428756714, 0.11378252506256104, 0.0, 0.0, 0.0], [0.07823354750871658, 0.7221354246139526, 0.10936666280031204, 0.09026430547237396, 0.0, 0.0], [0.21967977285385132, 0.4048425555229187, 0.12358125299215317, 0.20018845796585083, 0.051708027720451355, 0.0], [0.3608962893486023, 0.10459033399820328, 0.06983856111764908, 0.2976491153240204, 0.13869869709014893, 0.02832690440118313]], [[1.0, 0.0, 0.0, 0.0, 0.0, 0.0], [0.9732162356376648, 0.02678380347788334, 0.0, 0.0, 0.0, 0.0], [0.9167554974555969, 0.06145256385207176, 0.021791864186525345, 0.0, 0.0, 0.0], [0.8543080687522888, 0.08049599826335907, 0.03033498302102089, 0.03486098349094391, 0.0, 0.0], [0.8919219374656677, 0.04280761629343033, 0.02204497717320919, 0.02347058430314064, 0.019754791632294655, 0.0], [0.8116768598556519, 0.034135255962610245, 0.035676565021276474, 0.04748576134443283, 0.025397052988409996, 0.04562852904200554]], [[1.0, 0.0, 0.0, 0.0, 0.0, 0.0], [0.9502761363983154, 0.04972389340400696, 0.0, 0.0, 0.0, 0.0], [0.7637456655502319, 0.20073585212230682, 0.03551848605275154, 0.0, 0.0, 0.0], [0.6279091238975525, 0.037681445479393005, 0.19945426285266876, 0.13495512306690216, 0.0, 0.0], [0.6397063136100769, 0.027007268741726875, 0.0908200666308403, 0.20653849840164185, 0.035927895456552505, 0.0], [0.4559422433376312, 0.02164122648537159, 0.12939609587192535, 0.21800918877124786, 0.10379824787378311, 0.07121308147907257]], [[1.0, 0.0, 0.0, 0.0, 0.0, 0.0], [0.9498405456542969, 0.05015940964221954, 0.0, 0.0, 0.0, 0.0], [0.868872344493866, 0.08722200244665146, 0.04390567168593407, 0.0, 0.0, 0.0], [0.6937950253486633, 0.0635920837521553, 0.09179061651229858, 0.15082226693630219, 0.0, 0.0], [0.72665935754776, 0.043898917734622955, 0.046839889138936996, 0.0985182672739029, 0.08408361673355103, 0.0], [0.7848992943763733, 0.03714786097407341, 0.012907859869301319, 0.010539400391280651, 0.1207919493317604, 0.03371361643075943]], [[1.0, 0.0, 0.0, 0.0, 0.0, 0.0], [0.9891054034233093, 0.010894601233303547, 0.0, 0.0, 0.0, 0.0], [0.8929517269134521, 0.08700069785118103, 0.020047569647431374, 0.0, 0.0, 0.0], [0.7891116738319397, 0.09797289967536926, 0.08633245527744293, 0.026583025231957436, 0.0, 0.0], [0.8850634098052979, 0.03645012155175209, 0.05395462363958359, 0.012377236969769001, 0.012154554948210716, 0.0], [0.6861329674720764, 0.05720377340912819, 0.011636339128017426, 0.021660514175891876, 0.17488019168376923, 0.048486191779375076]], [[1.0, 0.0, 0.0, 0.0, 0.0, 0.0], [0.9396191835403442, 0.06038084626197815, 0.0, 0.0, 0.0, 0.0], [0.7851802110671997, 0.19751368463039398, 0.01730603538453579, 0.0, 0.0, 0.0], [0.7660509347915649, 0.15444675087928772, 0.03188294917345047, 0.047619398683309555, 0.0, 0.0], [0.7035233378410339, 0.05171414464712143, 0.07760990411043167, 0.1533903032541275, 0.013762440532445908, 0.0], [0.7121890783309937, 0.04994228109717369, 0.037725526839494705, 0.0864911675453186, 0.06541400402784348, 0.04823800176382065]], [[1.0, 0.0, 0.0, 0.0, 0.0, 0.0], [0.974072277545929, 0.02592778392136097, 0.0, 0.0, 0.0, 0.0], [0.7925394177436829, 0.011715608648955822, 0.1957450807094574, 0.0, 0.0, 0.0], [0.510676920413971, 0.0072967843152582645, 0.039619989693164825, 0.4424062669277191, 0.0, 0.0], [0.5862475633621216, 0.012099696323275566, 0.024585189297795296, 0.06737826019525528, 0.30968934297561646, 0.0], [0.3019624352455139, 0.007724015973508358, 0.011518118903040886, 0.046947311609983444, 0.22146756947040558, 0.4103805124759674]], [[1.0, 0.0, 0.0, 0.0, 0.0, 0.0], [0.9744554162025452, 0.025544650852680206, 0.0, 0.0, 0.0, 0.0], [0.9769195318222046, 0.015048524364829063, 0.008031905628740788, 0.0, 0.0, 0.0], [0.9060619473457336, 0.025875436142086983, 0.025954799726605415, 0.04210776463150978, 0.0, 0.0], [0.9400081038475037, 0.005556641612201929, 0.005828301887959242, 0.03175778687000275, 0.016849059611558914, 0.0], [0.9105739593505859, 0.001975220162421465, 0.00864673126488924, 0.013360855169594288, 0.035439614206552505, 0.030003702268004417]], [[1.0, 0.0, 0.0, 0.0, 0.0, 0.0], [0.9791666865348816, 0.02083336003124714, 0.0, 0.0, 0.0, 0.0], [0.8444865345954895, 0.13507813215255737, 0.02043537050485611, 0.0, 0.0, 0.0], [0.7903085947036743, 0.1455915868282318, 0.03753011301159859, 0.026569679379463196, 0.0, 0.0], [0.7298930883407593, 0.056496188044548035, 0.032735519111156464, 0.10400445759296417, 0.07687068730592728, 0.0], [0.5684194564819336, 0.04388813301920891, 0.026293432340025902, 0.08117113262414932, 0.2431478202342987, 0.03707992285490036]], [[1.0, 0.0, 0.0, 0.0, 0.0, 0.0], [0.9499867558479309, 0.05001327767968178, 0.0, 0.0, 0.0, 0.0], [0.9336170554161072, 0.05848868936300278, 0.007894262671470642, 0.0, 0.0, 0.0], [0.7897833585739136, 0.11071823537349701, 0.053601812571287155, 0.045896612107753754, 0.0, 0.0], [0.8859302997589111, 0.05752973258495331, 0.013743223622441292, 0.0033877412788569927, 0.03940896317362785, 0.0], [0.9337607622146606, 0.02647065930068493, 0.004523396957665682, 0.006190476473420858, 0.014132960699498653, 0.014921738766133785]], [[1.0, 0.0, 0.0, 0.0, 0.0, 0.0], [1.0, 1.8521648659231005e-09, 0.0, 0.0, 0.0, 0.0], [6.6759544097294565e-06, 0.9999804496765137, 1.2841440366173629e-05, 0.0, 0.0, 0.0], [2.2193095361444648e-08, 2.6684225939987982e-09, 0.9999971389770508, 2.813645323840319e-06, 0.0, 0.0], [1.014504391605442e-06, 4.463997882453441e-08, 0.00035356436274014413, 0.9993677735328674, 0.0002776246110443026, 0.0], [9.436640358018167e-10, 1.3820468207359493e-11, 5.017883331071005e-10, 2.965189649373201e-09, 0.9999971389770508, 2.8644042231462663e-06]]], [[[1.0, 0.0, 0.0, 0.0, 0.0, 0.0], [0.9948632121086121, 0.00513676879927516, 0.0, 0.0, 0.0, 0.0], [0.9274218082427979, 0.018323831260204315, 0.05425433814525604, 0.0, 0.0, 0.0], [0.9678993821144104, 0.004143423866480589, 0.004314443562179804, 0.02364281751215458, 0.0, 0.0], [0.8999069929122925, 0.0014671598328277469, 0.0002913369098678231, 0.0025850164238363504, 0.09574947506189346, 0.0], [0.9386115670204163, 0.00022248194727580994, 0.0006146656814962626, 0.001549562206491828, 0.030689379200339317, 0.028312362730503082]], [[1.0, 0.0, 0.0, 0.0, 0.0, 0.0], [0.9999959468841553, 4.042732143716421e-06, 0.0, 0.0, 0.0, 0.0], [0.9982761144638062, 3.261380015828763e-06, 0.001720654545351863, 0.0, 0.0, 0.0], [0.9998809099197388, 5.328845986696251e-08, 6.376209285008372e-07, 0.0001184712746180594, 0.0, 0.0], [0.9996154308319092, 3.473182630386873e-07, 3.892089495138862e-08, 4.4684205136036326e-07, 0.0003836959949694574, 0.0], [0.9994840621948242, 1.655020476221125e-08, 2.8715447797367233e-08, 1.063829472514044e-06, 0.00021266577823553234, 0.00030212008277885616]], [[1.0, 0.0, 0.0, 0.0, 0.0, 0.0], [0.9514136910438538, 0.048586342483758926, 0.0, 0.0, 0.0, 0.0], [0.5749938488006592, 0.3902819752693176, 0.034724120050668716, 0.0, 0.0, 0.0], [0.7442318797111511, 0.17524129152297974, 0.0756475180387497, 0.004879274405539036, 0.0, 0.0], [0.5232070684432983, 0.09429348260164261, 0.11381889879703522, 0.19979271292686462, 0.06888771802186966, 0.0], [0.4747246205806732, 0.05636608600616455, 0.04530375823378563, 0.06967302411794662, 0.3098028600215912, 0.044129714369773865]], [[1.0, 0.0, 0.0, 0.0, 0.0, 0.0], [0.8734648823738098, 0.1265350878238678, 0.0, 0.0, 0.0, 0.0], [0.6097903847694397, 0.35417357087135315, 0.03603607043623924, 0.0, 0.0, 0.0], [0.4598413407802582, 0.38697943091392517, 0.09960104525089264, 0.05357816070318222, 0.0, 0.0], [0.5722202658653259, 0.23636285960674286, 0.08344557136297226, 0.06921909749507904, 0.03875219449400902, 0.0], [0.5143574476242065, 0.16723066568374634, 0.09019380807876587, 0.0765446349978447, 0.10578073561191559, 0.04589271917939186]], [[1.0, 0.0, 0.0, 0.0, 0.0, 0.0], [0.981228768825531, 0.018771206960082054, 0.0, 0.0, 0.0, 0.0], [0.6142946481704712, 0.3503972887992859, 0.03530803322792053, 0.0, 0.0, 0.0], [0.5770681500434875, 0.328585147857666, 0.05508250370621681, 0.039264287799596786, 0.0, 0.0], [0.17188051342964172, 0.01104250829666853, 0.0545787438750267, 0.7326596975326538, 0.029838480055332184, 0.0], [0.3783011734485626, 0.01707007922232151, 0.021754145622253418, 0.44096922874450684, 0.06093832105398178, 0.08096709847450256]], [[1.0, 0.0, 0.0, 0.0, 0.0, 0.0], [0.9923112988471985, 0.007688724435865879, 0.0, 0.0, 0.0, 0.0], [0.9498788118362427, 0.01670975238084793, 0.03341144323348999, 0.0, 0.0, 0.0], [0.9961295127868652, 0.0008787278202362359, 0.0006868168711662292, 0.0023048471193760633, 0.0, 0.0], [0.9935757517814636, 0.003263498190790415, 0.0009993863059207797, 0.0002793224703054875, 0.0018820592667907476, 0.0], [0.9907532930374146, 0.0002134429814759642, 0.00045952422078698874, 0.0007905601523816586, 0.004424740560352802, 0.0033583587501198053]], [[1.0, 0.0, 0.0, 0.0, 0.0, 0.0], [0.9647740125656128, 0.035226017236709595, 0.0, 0.0, 0.0, 0.0], [0.8194127082824707, 0.13654398918151855, 0.04404325410723686, 0.0, 0.0, 0.0], [0.7584256529808044, 0.006878923159092665, 0.20653289556503296, 0.028162481263279915, 0.0, 0.0], [0.5298117399215698, 0.0026788089890033007, 0.07857980579137802, 0.3598386347293854, 0.029090996831655502, 0.0], [0.7544422149658203, 0.000367822329280898, 0.001971342833712697, 0.003240050282329321, 0.19423367083072662, 0.045744944363832474]], [[1.0, 0.0, 0.0, 0.0, 0.0, 0.0], [0.9749132394790649, 0.02508676052093506, 0.0, 0.0, 0.0, 0.0], [0.9306469559669495, 0.05705677717924118, 0.012296266853809357, 0.0, 0.0, 0.0], [0.9305250644683838, 0.05277109891176224, 0.011119452305138111, 0.005584412254393101, 0.0, 0.0], [0.8863325119018555, 0.012924131937325, 0.017724676057696342, 0.061501774936914444, 0.021516963839530945, 0.0], [0.7916848063468933, 0.015036128461360931, 0.031748007982969284, 0.033922065049409866, 0.03707979992032051, 0.09052911400794983]], [[1.0, 0.0, 0.0, 0.0, 0.0, 0.0], [0.9608501195907593, 0.039149895310401917, 0.0, 0.0, 0.0, 0.0], [0.9121274352073669, 0.022576462477445602, 0.06529607623815536, 0.0, 0.0, 0.0], [0.9364107251167297, 0.015584423206746578, 0.02454494871199131, 0.023459933698177338, 0.0, 0.0], [0.9454619288444519, 0.006762268021702766, 0.02202628180384636, 0.009137776680290699, 0.016611803323030472, 0.0], [0.8346161842346191, 0.0018816986121237278, 0.005609041545540094, 0.018873579800128937, 0.12449228018522263, 0.014527125284075737]], [[1.0, 0.0, 0.0, 0.0, 0.0, 0.0], [0.9964227080345154, 0.003577279159799218, 0.0, 0.0, 0.0, 0.0], [0.9713928699493408, 0.024453019723296165, 0.004154064226895571, 0.0, 0.0, 0.0], [0.9735793471336365, 0.019003361463546753, 0.0036644041538238525, 0.003752902615815401, 0.0, 0.0], [0.9586312174797058, 0.007116193883121014, 0.00921841524541378, 0.02272563800215721, 0.0023084841668605804, 0.0], [0.973607063293457, 0.008490574546158314, 0.003251250134781003, 0.003606440033763647, 0.00487746624276042, 0.006167224142700434]], [[1.0, 0.0, 0.0, 0.0, 0.0, 0.0], [0.97598797082901, 0.02401195652782917, 0.0, 0.0, 0.0, 0.0], [0.9460638165473938, 0.04211371764540672, 0.011822436936199665, 0.0, 0.0, 0.0], [0.8446812629699707, 0.042931076139211655, 0.05218205228447914, 0.060205649584531784, 0.0, 0.0], [0.9378372430801392, 0.033548563718795776, 0.008826437406241894, 0.002879226813092828, 0.016908444464206696, 0.0], [0.8124933838844299, 0.026967506855726242, 0.05999203398823738, 0.03445727005600929, 0.011011837050318718, 0.055078014731407166]], [[1.0, 0.0, 0.0, 0.0, 0.0, 0.0], [0.9001202583312988, 0.09987970441579819, 0.0, 0.0, 0.0, 0.0], [0.6271936297416687, 0.0798870325088501, 0.2929193079471588, 0.0, 0.0, 0.0], [0.7624078989028931, 0.027344314381480217, 0.03867948800325394, 0.17156827449798584, 0.0, 0.0], [0.7995964288711548, 0.014336274936795235, 0.014375649392604828, 0.02543853223323822, 0.14625301957130432, 0.0], [0.7851976156234741, 0.04204041510820389, 0.025253595784306526, 0.02908392995595932, 0.02930619567632675, 0.08911820501089096]]], [[[1.0, 0.0, 0.0, 0.0, 0.0, 0.0], [0.9954467415809631, 0.004553199280053377, 0.0, 0.0, 0.0, 0.0], [0.9356003999710083, 0.04476729780435562, 0.019632311537861824, 0.0, 0.0, 0.0], [0.5605556964874268, 0.09861967712640762, 0.29983240365982056, 0.040992263704538345, 0.0, 0.0], [0.5893710851669312, 0.11000960320234299, 0.08033651113510132, 0.1675403118133545, 0.05274250730872154, 0.0], [0.22305874526500702, 0.05680800974369049, 0.054679784923791885, 0.24733966588974, 0.3111245334148407, 0.10698923468589783]], [[1.0, 0.0, 0.0, 0.0, 0.0, 0.0], [0.930145263671875, 0.06985479593276978, 0.0, 0.0, 0.0, 0.0], [0.8936479687690735, 0.08535707741975784, 0.02099497988820076, 0.0, 0.0, 0.0], [0.8404536843299866, 0.10619218647480011, 0.023636745288968086, 0.029717400670051575, 0.0, 0.0], [0.8927384614944458, 0.024784736335277557, 0.008319011889398098, 0.051654521375894547, 0.022503184154629707, 0.0], [0.8646607398986816, 0.009503203444182873, 0.0024329889565706253, 0.0479675717651844, 0.04273219779133797, 0.03270340338349342]], [[1.0, 0.0, 0.0, 0.0, 0.0, 0.0], [0.9859625697135925, 0.01403739582747221, 0.0, 0.0, 0.0, 0.0], [0.9702037572860718, 0.016807053238153458, 0.012989125214517117, 0.0, 0.0, 0.0], [0.9524770379066467, 0.016064444556832314, 0.013456208631396294, 0.018002275377511978, 0.0, 0.0], [0.9332928657531738, 0.018971996381878853, 0.020146800205111504, 0.017023755237460136, 0.010564549826085567, 0.0], [0.9113593697547913, 0.012528621591627598, 0.022096160799264908, 0.017518602311611176, 0.01851789653301239, 0.01797935739159584]], [[1.0, 0.0, 0.0, 0.0, 0.0, 0.0], [0.9681769013404846, 0.03182306885719299, 0.0, 0.0, 0.0, 0.0], [0.9096420407295227, 0.07916675508022308, 0.01119122002273798, 0.0, 0.0, 0.0], [0.8379936218261719, 0.13078244030475616, 0.012140966951847076, 0.019082987681031227, 0.0, 0.0], [0.9116523265838623, 0.05451968312263489, 0.009499367326498032, 0.007465865928679705, 0.0168627742677927, 0.0], [0.8510286211967468, 0.07338224351406097, 0.008022508583962917, 0.0090831583365798, 0.04261009022593498, 0.015873335301876068]], [[1.0, 0.0, 0.0, 0.0, 0.0, 0.0], [0.9799023866653442, 0.02009766735136509, 0.0, 0.0, 0.0, 0.0], [0.9558742642402649, 0.02906324341893196, 0.015062490478157997, 0.0, 0.0, 0.0], [0.7943134903907776, 0.06074084714055061, 0.06907659769058228, 0.07586907595396042, 0.0, 0.0], [0.549432635307312, 0.03154708072543144, 0.05482013151049614, 0.05788073316216469, 0.3063194751739502, 0.0], [0.6453981995582581, 0.010770930908620358, 0.017528066411614418, 0.021579813212156296, 0.24958287179470062, 0.05514011159539223]], [[1.0, 0.0, 0.0, 0.0, 0.0, 0.0], [0.9506809115409851, 0.049319084733724594, 0.0, 0.0, 0.0, 0.0], [0.8553215265274048, 0.09256269037723541, 0.0521157942712307, 0.0, 0.0, 0.0], [0.8508521914482117, 0.047346025705337524, 0.04417738318443298, 0.057624273002147675, 0.0, 0.0], [0.769713282585144, 0.027885802090168, 0.031017282977700233, 0.06842492520809174, 0.1029588058590889, 0.0], [0.7931896448135376, 0.04052203521132469, 0.02924216166138649, 0.04478142037987709, 0.04894714802503586, 0.0433175265789032]], [[1.0, 0.0, 0.0, 0.0, 0.0, 0.0], [0.9770310521125793, 0.022968897596001625, 0.0, 0.0, 0.0, 0.0], [0.9429817199707031, 0.017321448773145676, 0.03969679772853851, 0.0, 0.0, 0.0], [0.9144346117973328, 0.008583561517298222, 0.01303580030798912, 0.06394593417644501, 0.0, 0.0], [0.9222431182861328, 0.003644014475867152, 0.0037402601446956396, 0.010410326533019543, 0.059962186962366104, 0.0], [0.9198878407478333, 0.003082263981923461, 0.003482743864879012, 0.004206800367683172, 0.02125428430736065, 0.04808593541383743]], [[1.0, 0.0, 0.0, 0.0, 0.0, 0.0], [0.977458119392395, 0.02254187874495983, 0.0, 0.0, 0.0, 0.0], [0.8929328918457031, 0.07475443929433823, 0.032312702387571335, 0.0, 0.0, 0.0], [0.8423510193824768, 0.05980285257101059, 0.03740086778998375, 0.06044526770710945, 0.0, 0.0], [0.7674633860588074, 0.03536340221762657, 0.04215511307120323, 0.06658637523651123, 0.08843174576759338, 0.0], [0.6182615756988525, 0.016110621392726898, 0.020167674869298935, 0.038688987493515015, 0.23146961629390717, 0.07530146837234497]], [[1.0, 0.0, 0.0, 0.0, 0.0, 0.0], [0.9634855389595032, 0.03651440888643265, 0.0, 0.0, 0.0, 0.0], [0.436394065618515, 0.5226369500160217, 0.04096900299191475, 0.0, 0.0, 0.0], [0.36086204648017883, 0.35129672288894653, 0.26551008224487305, 0.022331133484840393, 0.0, 0.0], [0.3942919969558716, 0.021704576909542084, 0.07794345170259476, 0.371689110994339, 0.13437089323997498, 0.0], [0.6310717463493347, 0.01698395237326622, 0.025942062959074974, 0.08615921437740326, 0.21832016110420227, 0.021522924304008484]], [[1.0, 0.0, 0.0, 0.0, 0.0, 0.0], [0.9988250136375427, 0.0011750231496989727, 0.0, 0.0, 0.0, 0.0], [0.9944871068000793, 0.000482639909023419, 0.005030225962400436, 0.0, 0.0, 0.0], [0.9981209635734558, 2.7051655706600286e-05, 0.00011307407839922234, 0.001738940947689116, 0.0, 0.0], [0.9982239603996277, 6.836539250798523e-05, 0.00010199935059063137, 6.0283757193246856e-05, 0.0015453092055395246, 0.0], [0.9982888102531433, 1.0552176945566316e-06, 3.2780902984086424e-05, 0.0001303898898186162, 0.0006605862872675061, 0.000886370544321835]], [[1.0, 0.0, 0.0, 0.0, 0.0, 0.0], [0.9936710596084595, 0.006328933872282505, 0.0, 0.0, 0.0, 0.0], [0.9727688431739807, 0.0018561359029263258, 0.02537502348423004, 0.0, 0.0, 0.0], [0.9724299907684326, 0.0019586102571338415, 0.01119242887943983, 0.014418876729905605, 0.0, 0.0], [0.9782042503356934, 0.0009589148685336113, 0.0018706422997638583, 0.0063265482895076275, 0.012639685533940792, 0.0], [0.9592596888542175, 0.002455511363223195, 0.0016124127432703972, 0.005019662901759148, 0.006687106564640999, 0.02496572956442833]], [[1.0, 0.0, 0.0, 0.0, 0.0, 0.0], [0.9629000425338745, 0.03709998354315758, 0.0, 0.0, 0.0, 0.0], [0.36802032589912415, 0.6152248978614807, 0.01675480231642723, 0.0, 0.0, 0.0], [0.31735140085220337, 0.6140010952949524, 0.05375145375728607, 0.014896024018526077, 0.0, 0.0], [0.48987409472465515, 0.2107144147157669, 0.04693012684583664, 0.2070036381483078, 0.045477718114852905, 0.0], [0.48774197697639465, 0.17695266008377075, 0.06915228813886642, 0.09849292784929276, 0.12091460824012756, 0.046745505183935165]]], [[[1.0, 0.0, 0.0, 0.0, 0.0, 0.0], [0.9794419407844543, 0.020558081567287445, 0.0, 0.0, 0.0, 0.0], [0.6677896976470947, 0.3103243112564087, 0.021885978057980537, 0.0, 0.0, 0.0], [0.7118754982948303, 0.11108577996492386, 0.14187368750572205, 0.03516502305865288, 0.0, 0.0], [0.4501466453075409, 0.04036051407456398, 0.04045809805393219, 0.388569712638855, 0.08046497404575348, 0.0], [0.49346205592155457, 0.013696962036192417, 0.008126786909997463, 0.13074524700641632, 0.30861392617225647, 0.0453549288213253]], [[1.0, 0.0, 0.0, 0.0, 0.0, 0.0], [0.9846054315567017, 0.015394587069749832, 0.0, 0.0, 0.0, 0.0], [0.9806739091873169, 0.007713802624493837, 0.011612330563366413, 0.0, 0.0, 0.0], [0.932663083076477, 0.01957840472459793, 0.024103526026010513, 0.023654978722333908, 0.0, 0.0], [0.9422016739845276, 0.000953894981648773, 0.001089797937311232, 0.0031933661084622145, 0.05256117507815361, 0.0], [0.9352930784225464, 0.0010279362322762609, 0.004444435704499483, 0.0016371386591345072, 0.010590998455882072, 0.04700643941760063]], [[1.0, 0.0, 0.0, 0.0, 0.0, 0.0], [0.9985783100128174, 0.0014216711279004812, 0.0, 0.0, 0.0, 0.0], [0.9893348813056946, 0.0011178918648511171, 0.00954714696854353, 0.0, 0.0, 0.0], [0.9979978203773499, 7.997042848728597e-05, 0.00013218824460636824, 0.001790030742995441, 0.0, 0.0], [0.9986976385116577, 4.104392428416759e-05, 3.868336079904111e-06, 2.3676124328630976e-05, 0.0012337067164480686, 0.0], [0.9971562623977661, 1.8522143363952637e-05, 1.8826503946911544e-06, 2.7900070563191548e-05, 0.0006533453706651926, 0.00214198580943048]], [[1.0, 0.0, 0.0, 0.0, 0.0, 0.0], [0.9768233299255371, 0.0231766514480114, 0.0, 0.0, 0.0, 0.0], [0.9194678068161011, 0.05088193342089653, 0.02965029701590538, 0.0, 0.0, 0.0], [0.8474552035331726, 0.06100180000066757, 0.04372377693653107, 0.04781920090317726, 0.0, 0.0], [0.80116206407547, 0.04186709225177765, 0.043758079409599304, 0.04189474135637283, 0.07131799310445786, 0.0], [0.8031867742538452, 0.024504976347088814, 0.017323540523648262, 0.047443944960832596, 0.06109954044222832, 0.046441227197647095]], [[1.0, 0.0, 0.0, 0.0, 0.0, 0.0], [0.9829428195953369, 0.017057159915566444, 0.0, 0.0, 0.0, 0.0], [0.8863736391067505, 0.09492658078670502, 0.01869978941977024, 0.0, 0.0, 0.0], [0.9231084585189819, 0.036963507533073425, 0.032198384404182434, 0.007729663047939539, 0.0, 0.0], [0.9068530201911926, 0.016046568751335144, 0.014310486614704132, 0.045437708497047424, 0.01735224761068821, 0.0], [0.6555964946746826, 0.05091029033064842, 0.028384972363710403, 0.1256554126739502, 0.10546893626451492, 0.03398393094539642]], [[1.0, 0.0, 0.0, 0.0, 0.0, 0.0], [0.9502319693565369, 0.04976798966526985, 0.0, 0.0, 0.0, 0.0], [0.8829867243766785, 0.1000962033867836, 0.0169171504676342, 0.0, 0.0, 0.0], [0.8057458400726318, 0.1446353793144226, 0.030189229175448418, 0.01942947693169117, 0.0, 0.0], [0.8706232905387878, 0.03244058042764664, 0.02695159800350666, 0.04410297051072121, 0.025881554931402206, 0.0], [0.6883641481399536, 0.009681464172899723, 0.016449343413114548, 0.09871139377355576, 0.089711993932724, 0.09708157181739807]], [[1.0, 0.0, 0.0, 0.0, 0.0, 0.0], [0.9792683720588684, 0.020731642842292786, 0.0, 0.0, 0.0, 0.0], [0.9523284435272217, 0.025933818891644478, 0.02173774503171444, 0.0, 0.0, 0.0], [0.9144353866577148, 0.017671259120106697, 0.02235853485763073, 0.04553481936454773, 0.0, 0.0], [0.9448292851448059, 0.006467597559094429, 0.00638606958091259, 0.03263094648718834, 0.009686185047030449, 0.0], [0.9347907304763794, 0.007862490601837635, 0.007788168732076883, 0.02143281139433384, 0.008491125889122486, 0.019634753465652466]], [[1.0, 0.0, 0.0, 0.0, 0.0, 0.0], [0.983370304107666, 0.016629677265882492, 0.0, 0.0, 0.0, 0.0], [0.963111400604248, 0.009229958057403564, 0.02765868604183197, 0.0, 0.0, 0.0], [0.9706627130508423, 0.004149408545345068, 0.006813110783696175, 0.018374674022197723, 0.0, 0.0], [0.987951934337616, 0.0021658889017999172, 0.00034901112667284906, 0.001583817764185369, 0.007949454709887505, 0.0], [0.9457950592041016, 0.014583594165742397, 0.00036529634962789714, 0.0009569560061208904, 0.01362164318561554, 0.02467755600810051]], [[1.0, 0.0, 0.0, 0.0, 0.0, 0.0], [0.9878059029579163, 0.01219407469034195, 0.0, 0.0, 0.0, 0.0], [0.87103670835495, 0.09448172152042389, 0.03448154032230377, 0.0, 0.0, 0.0], [0.6309778094291687, 0.11090414971113205, 0.1923023909330368, 0.06581570208072662, 0.0, 0.0], [0.536049485206604, 0.04618944600224495, 0.13605298101902008, 0.2645547389984131, 0.017153309658169746, 0.0], [0.8287509679794312, 0.023732870817184448, 0.02008051984012127, 0.07245315611362457, 0.030431464314460754, 0.02455105073750019]], [[1.0, 0.0, 0.0, 0.0, 0.0, 0.0], [0.8995686173439026, 0.10043131560087204, 0.0, 0.0, 0.0, 0.0], [0.2703428566455841, 0.6504335999488831, 0.07922352105379105, 0.0, 0.0, 0.0], [0.20541711151599884, 0.5892512798309326, 0.18085816502571106, 0.02447347342967987, 0.0, 0.0], [0.5573875308036804, 0.17741315066814423, 0.08806775510311127, 0.09881804883480072, 0.07831356674432755, 0.0], [0.5922895669937134, 0.08700674772262573, 0.056432995945215225, 0.056859035044908524, 0.12181559205055237, 0.08559611439704895]], [[1.0, 0.0, 0.0, 0.0, 0.0, 0.0], [0.9316381812095642, 0.06836182624101639, 0.0, 0.0, 0.0, 0.0], [0.9572945833206177, 0.026243532076478004, 0.016461802646517754, 0.0, 0.0, 0.0], [0.9880543351173401, 0.004273318685591221, 0.00295458547770977, 0.004717651288956404, 0.0, 0.0], [0.99403977394104, 0.000941340287681669, 0.00047398245078511536, 0.00011646942584775388, 0.00442844070494175, 0.0], [0.9806035161018372, 2.5468911189818755e-05, 0.0001623944117454812, 0.0001476418401580304, 0.0013442436465993524, 0.017716852948069572]], [[1.0, 0.0, 0.0, 0.0, 0.0, 0.0], [0.993178129196167, 0.006821844726800919, 0.0, 0.0, 0.0, 0.0], [0.9756524562835693, 0.013184132054448128, 0.011163444258272648, 0.0, 0.0, 0.0], [0.9418966770172119, 0.004721746779978275, 0.002381807891651988, 0.050999730825424194, 0.0, 0.0], [0.9905040860176086, 0.002284812740981579, 6.19848578935489e-05, 0.0005984462331980467, 0.006550672929733992, 0.0], [0.9697661399841309, 0.000887883419636637, 0.0002346667170058936, 0.0017040761886164546, 0.0041283429600298405, 0.02327892556786537]]], [[[1.0, 0.0, 0.0, 0.0, 0.0, 0.0], [0.9716230630874634, 0.028376862406730652, 0.0, 0.0, 0.0, 0.0], [0.9223620295524597, 0.02890731953084469, 0.04873072728514671, 0.0, 0.0, 0.0], [0.8426315188407898, 0.02387218363583088, 0.04748133569955826, 0.08601491153240204, 0.0, 0.0], [0.8521119356155396, 0.020744262263178825, 0.04494621232151985, 0.05765008181333542, 0.024547463282942772, 0.0], [0.8800726532936096, 0.022448528558015823, 0.0182357095181942, 0.01925479806959629, 0.015854258090257645, 0.04413406178355217]], [[1.0, 0.0, 0.0, 0.0, 0.0, 0.0], [0.941272497177124, 0.05872756615281105, 0.0, 0.0, 0.0, 0.0], [0.9163137674331665, 0.05759214982390404, 0.02609407715499401, 0.0, 0.0, 0.0], [0.8392423391342163, 0.057690564543008804, 0.013829056173563004, 0.08923804014921188, 0.0, 0.0], [0.8987159132957458, 0.013477896340191364, 0.0003456455597188324, 0.0032987503800541162, 0.08416174352169037, 0.0], [0.8701689839363098, 0.0027008685283362865, 0.0014350005658343434, 0.005666173063218594, 0.08874321728944778, 0.03128569945693016]], [[1.0, 0.0, 0.0, 0.0, 0.0, 0.0], [0.9656725525856018, 0.03432749956846237, 0.0, 0.0, 0.0, 0.0], [0.9178615212440491, 0.06225799024105072, 0.019880477339029312, 0.0, 0.0, 0.0], [0.8233147263526917, 0.06282400339841843, 0.03670433908700943, 0.07715694606304169, 0.0, 0.0], [0.8501747846603394, 0.03816928714513779, 0.03196496143937111, 0.051601409912109375, 0.028089608997106552, 0.0], [0.6572403311729431, 0.05877407640218735, 0.04336009547114372, 0.09013213962316513, 0.08146581053733826, 0.06902759522199631]], [[1.0, 0.0, 0.0, 0.0, 0.0, 0.0], [0.916206419467926, 0.08379366248846054, 0.0, 0.0, 0.0, 0.0], [0.9451773762702942, 0.040992848575115204, 0.013829832896590233, 0.0, 0.0, 0.0], [0.8928353786468506, 0.053686778992414474, 0.01759696938097477, 0.035880763083696365, 0.0, 0.0], [0.8337050676345825, 0.047996193170547485, 0.033513277769088745, 0.0468086376786232, 0.03797684982419014, 0.0], [0.8167192935943604, 0.06337139755487442, 0.013286284171044827, 0.02046976424753666, 0.02529226616024971, 0.060861021280288696]], [[1.0, 0.0, 0.0, 0.0, 0.0, 0.0], [0.9525133371353149, 0.04748663306236267, 0.0, 0.0, 0.0, 0.0], [0.30198565125465393, 0.6520951390266418, 0.04591915383934975, 0.0, 0.0, 0.0], [0.2855828106403351, 0.556952714920044, 0.1444740742444992, 0.012990467250347137, 0.0, 0.0], [0.843804121017456, 0.03225132077932358, 0.039542920887470245, 0.06848154217004776, 0.015920113772153854, 0.0], [0.6664931774139404, 0.06095920875668526, 0.040643539279699326, 0.06804481148719788, 0.091863714158535, 0.07199551910161972]], [[1.0, 0.0, 0.0, 0.0, 0.0, 0.0], [0.9682655334472656, 0.03173450753092766, 0.0, 0.0, 0.0, 0.0], [0.7385212779045105, 0.22856910526752472, 0.03290952742099762, 0.0, 0.0, 0.0], [0.5946677327156067, 0.23033203184604645, 0.14867573976516724, 0.0263245590031147, 0.0, 0.0], [0.6339264512062073, 0.05813034996390343, 0.09654263406991959, 0.14291918277740479, 0.06848139315843582, 0.0], [0.40375763177871704, 0.08945395052433014, 0.07635059952735901, 0.2558702528476715, 0.143303781747818, 0.03126388043165207]], [[1.0, 0.0, 0.0, 0.0, 0.0, 0.0], [0.9869793653488159, 0.013020618818700314, 0.0, 0.0, 0.0, 0.0], [0.8631381988525391, 0.11056685447692871, 0.026294859126210213, 0.0, 0.0, 0.0], [0.9488077759742737, 0.028615077957510948, 0.006535578519105911, 0.016041584312915802, 0.0, 0.0], [0.9672170877456665, 0.0066050090827047825, 0.0004517168563324958, 0.00484442850574851, 0.020881779491901398, 0.0], [0.935462236404419, 0.020478058606386185, 0.0011700248578563333, 0.007056940346956253, 0.016318142414093018, 0.019514648243784904]], [[1.0, 0.0, 0.0, 0.0, 0.0, 0.0], [0.9846673011779785, 0.015332731418311596, 0.0, 0.0, 0.0, 0.0], [0.9052744507789612, 0.08373633772134781, 0.010989238508045673, 0.0, 0.0, 0.0], [0.8145939111709595, 0.04283757507801056, 0.10568278282880783, 0.03688571974635124, 0.0, 0.0], [0.2351974993944168, 0.012018464505672455, 0.05280103161931038, 0.6516190767288208, 0.04836394265294075, 0.0], [0.31818678975105286, 0.01863241195678711, 0.03948178514838219, 0.37555405497550964, 0.20787228643894196, 0.04027271643280983]], [[1.0, 0.0, 0.0, 0.0, 0.0, 0.0], [0.9811733365058899, 0.018826670944690704, 0.0, 0.0, 0.0, 0.0], [0.861893892288208, 0.0647917091846466, 0.07331448048353195, 0.0, 0.0, 0.0], [0.76645427942276, 0.0733042061328888, 0.10353509336709976, 0.056706491857767105, 0.0, 0.0], [0.8128495216369629, 0.032154906541109085, 0.059005673974752426, 0.05416529253125191, 0.04182451218366623, 0.0], [0.8687860369682312, 0.02698778361082077, 0.020469920709729195, 0.016297336667776108, 0.032183751463890076, 0.03527512773871422]], [[1.0, 0.0, 0.0, 0.0, 0.0, 0.0], [0.9264582395553589, 0.07354173809289932, 0.0, 0.0, 0.0, 0.0], [0.840353786945343, 0.06373772770166397, 0.09590853005647659, 0.0, 0.0, 0.0], [0.7330994009971619, 0.06451129913330078, 0.10380078107118607, 0.09858854860067368, 0.0, 0.0], [0.9143610596656799, 0.008257806301116943, 0.0073203942738473415, 0.01796630024909973, 0.0520944744348526, 0.0], [0.8971914052963257, 0.00855550542473793, 0.00701944250613451, 0.014860549010336399, 0.03399764746427536, 0.03837539255619049]], [[1.0, 0.0, 0.0, 0.0, 0.0, 0.0], [0.9180347919464111, 0.08196517825126648, 0.0, 0.0, 0.0, 0.0], [0.8328663110733032, 0.12199045717716217, 0.04514322802424431, 0.0, 0.0, 0.0], [0.7994157075881958, 0.08744136989116669, 0.03605782240629196, 0.07708510011434555, 0.0, 0.0], [0.8809850811958313, 0.02074965462088585, 0.02055458165705204, 0.017120804637670517, 0.060589853674173355, 0.0], [0.7453038096427917, 0.04433399811387062, 0.022549230605363846, 0.033152706921100616, 0.033570412546396255, 0.12108983844518661]], [[1.0, 0.0, 0.0, 0.0, 0.0, 0.0], [0.9867060780525208, 0.01329390611499548, 0.0, 0.0, 0.0, 0.0], [0.982177734375, 0.012414154596626759, 0.005408106371760368, 0.0, 0.0, 0.0], [0.9630486369132996, 0.015290774405002594, 0.010345688089728355, 0.0113149369135499, 0.0, 0.0], [0.9213568568229675, 0.014132523909211159, 0.017639199271798134, 0.016567712649703026, 0.030303746461868286, 0.0], [0.9373326301574707, 0.009064325131475925, 0.007548368535935879, 0.0065764556638896465, 0.011827611364424229, 0.02765042893588543]]], [[[1.0, 0.0, 0.0, 0.0, 0.0, 0.0], [0.9951004385948181, 0.00489962799474597, 0.0, 0.0, 0.0, 0.0], [0.9476008415222168, 0.04140787199139595, 0.010991276241838932, 0.0, 0.0, 0.0], [0.9142176508903503, 0.023523757234215736, 0.03914502263069153, 0.023113597184419632, 0.0, 0.0], [0.9534734487533569, 0.008932976052165031, 0.015272845514118671, 0.007908293046057224, 0.014412349089980125, 0.0], [0.9427104592323303, 0.00823305081576109, 0.004650995135307312, 0.004178098868578672, 0.005463507492095232, 0.034764066338539124]], [[1.0, 0.0, 0.0, 0.0, 0.0, 0.0], [0.9543376564979553, 0.045662350952625275, 0.0, 0.0, 0.0, 0.0], [0.9696040749549866, 0.0195475947111845, 0.01084828469902277, 0.0, 0.0, 0.0], [0.9710449576377869, 0.012425409629940987, 0.008068892173469067, 0.008460723794996738, 0.0, 0.0], [0.9726192951202393, 0.0026976573280990124, 0.00044831327977590263, 0.0013814778067171574, 0.02285320870578289, 0.0], [0.9675466418266296, 0.009613442234694958, 0.0032030290458351374, 0.004248831421136856, 0.007442246191203594, 0.007945886813104153]], [[1.0, 0.0, 0.0, 0.0, 0.0, 0.0], [0.9887008666992188, 0.011299126781523228, 0.0, 0.0, 0.0, 0.0], [0.9382632374763489, 0.04204241931438446, 0.019694417715072632, 0.0, 0.0, 0.0], [0.8351995348930359, 0.03487851470708847, 0.05134478211402893, 0.07857710868120193, 0.0, 0.0], [0.9042678475379944, 0.010541561990976334, 0.016426727175712585, 0.025921905413269997, 0.04284193366765976, 0.0], [0.891313910484314, 0.008912662044167519, 0.005010703112930059, 0.008175615221261978, 0.01351472083479166, 0.07307230681180954]], [[1.0, 0.0, 0.0, 0.0, 0.0, 0.0], [0.8693915605545044, 0.1306084245443344, 0.0, 0.0, 0.0, 0.0], [0.35079917311668396, 0.6063516736030579, 0.042849138379096985, 0.0, 0.0, 0.0], [0.3547559380531311, 0.35020264983177185, 0.2472241073846817, 0.04781728610396385, 0.0, 0.0], [0.35370683670043945, 0.03527742996811867, 0.09567112475633621, 0.44979581236839294, 0.0655488669872284, 0.0], [0.41325855255126953, 0.09055539220571518, 0.052865736186504364, 0.1746799349784851, 0.17384864389896393, 0.0947917178273201]], [[1.0, 0.0, 0.0, 0.0, 0.0, 0.0], [0.9629756212234497, 0.03702430799603462, 0.0, 0.0, 0.0, 0.0], [0.9756426811218262, 0.019658533856272697, 0.004698712844401598, 0.0, 0.0, 0.0], [0.9775736331939697, 0.013286279514431953, 0.002559040440246463, 0.006581087596714497, 0.0, 0.0], [0.9870141744613647, 0.007388256955891848, 0.0009579203906469047, 0.0018318315269425511, 0.0028077636379748583, 0.0], [0.9409245848655701, 0.016633691266179085, 0.0022979089990258217, 0.005890648812055588, 0.005512927658855915, 0.02874019183218479]], [[1.0, 0.0, 0.0, 0.0, 0.0, 0.0], [0.962827205657959, 0.03717277944087982, 0.0, 0.0, 0.0, 0.0], [0.9582238793373108, 0.02464180253446102, 0.017134379595518112, 0.0, 0.0, 0.0], [0.9351300001144409, 0.015331573784351349, 0.014810995198786259, 0.034727465361356735, 0.0, 0.0], [0.9225171208381653, 0.010528765618801117, 0.011010159738361835, 0.01944003254175186, 0.03650381788611412, 0.0], [0.8420169353485107, 0.043571922928094864, 0.0074882605113089085, 0.014961509965360165, 0.023852799087762833, 0.06810860335826874]], [[1.0, 0.0, 0.0, 0.0, 0.0, 0.0], [0.9926387071609497, 0.007361325901001692, 0.0, 0.0, 0.0, 0.0], [0.9957393407821655, 0.0033469756599515676, 0.00091368897119537, 0.0, 0.0, 0.0], [0.9869900345802307, 0.0019747877959161997, 0.0015245546819642186, 0.009510695934295654, 0.0, 0.0], [0.9933527708053589, 0.0010203277925029397, 0.00034337356919422746, 0.0010291136568412185, 0.004254389554262161, 0.0], [0.9749016761779785, 0.00043480086605995893, 0.000430655520176515, 0.0012364384019747376, 0.0015347721055150032, 0.021461637690663338]], [[1.0, 0.0, 0.0, 0.0, 0.0, 0.0], [0.9897475242614746, 0.010252462700009346, 0.0, 0.0, 0.0, 0.0], [0.9790639281272888, 0.0165090411901474, 0.004427086561918259, 0.0, 0.0, 0.0], [0.9521436095237732, 0.029432401061058044, 0.008943170309066772, 0.00948092807084322, 0.0, 0.0], [0.939594030380249, 0.021510934457182884, 0.010278547182679176, 0.004555226769298315, 0.02406117506325245, 0.0], [0.9205074310302734, 0.016153667122125626, 0.010818608105182648, 0.01664440892636776, 0.014566424302756786, 0.021309474483132362]], [[1.0, 0.0, 0.0, 0.0, 0.0, 0.0], [0.9898501634597778, 0.010149780660867691, 0.0, 0.0, 0.0, 0.0], [0.9820910096168518, 0.006907520350068808, 0.01100152451545, 0.0, 0.0, 0.0], [0.9684997200965881, 0.0089876102283597, 0.015342586673796177, 0.007170100696384907, 0.0, 0.0], [0.9274120330810547, 0.009485266171395779, 0.02206609584391117, 0.03222886845469475, 0.008807632140815258, 0.0], [0.9006661176681519, 0.021623697131872177, 0.01380823738873005, 0.009843830019235611, 0.008521330542862415, 0.04553677514195442]], [[1.0, 0.0, 0.0, 0.0, 0.0, 0.0], [0.9954444169998169, 0.004555596504360437, 0.0, 0.0, 0.0, 0.0], [0.995254397392273, 0.0024602413177490234, 0.002285490045323968, 0.0, 0.0, 0.0], [0.9862446188926697, 0.0015168158570304513, 0.004072302021086216, 0.008166349492967129, 0.0, 0.0], [0.9889963865280151, 0.001226044842042029, 0.0007996394415386021, 0.0006774252979084849, 0.008300590328872204, 0.0], [0.9865202903747559, 0.0003942711919080466, 0.0009571785922162235, 0.0004954362520948052, 0.0009604947408661246, 0.010672245174646378]], [[1.0, 0.0, 0.0, 0.0, 0.0, 0.0], [0.9821295142173767, 0.017870502546429634, 0.0, 0.0, 0.0, 0.0], [0.7489439845085144, 0.22002682089805603, 0.03102920390665531, 0.0, 0.0, 0.0], [0.28547781705856323, 0.2112567275762558, 0.47871631383895874, 0.024549204856157303, 0.0, 0.0], [0.8056637644767761, 0.026974724605679512, 0.043028295040130615, 0.06993727385997772, 0.054395921528339386, 0.0], [0.330722451210022, 0.02232658676803112, 0.016627112403512, 0.08019431680440903, 0.4157470166683197, 0.1343824714422226]], [[1.0, 0.0, 0.0, 0.0, 0.0, 0.0], [0.9697746634483337, 0.030225297436118126, 0.0, 0.0, 0.0, 0.0], [0.9800564646720886, 0.015018912963569164, 0.0049245283007621765, 0.0, 0.0, 0.0], [0.9237860441207886, 0.052764881402254105, 0.006302407011389732, 0.01714676059782505, 0.0, 0.0], [0.9451842904090881, 0.036180511116981506, 0.001989206997677684, 0.003958722110837698, 0.01268728543072939, 0.0], [0.9633328318595886, 0.018662987276911736, 0.0030418396927416325, 0.007070907857269049, 0.005009414628148079, 0.0028820661827921867]]], [[[1.0, 0.0, 0.0, 0.0, 0.0, 0.0], [0.987324595451355, 0.012675454840064049, 0.0, 0.0, 0.0, 0.0], [0.9904569983482361, 0.005541946738958359, 0.004001118708401918, 0.0, 0.0, 0.0], [0.9814971685409546, 0.004653455223888159, 0.003725284244865179, 0.010124069638550282, 0.0, 0.0], [0.9744364619255066, 0.004632257390767336, 0.0023800015915185213, 0.006518098991364241, 0.012033062055706978, 0.0], [0.9624499678611755, 0.0033743486274033785, 0.0013198546366766095, 0.001727494178339839, 0.002944669686257839, 0.02818373031914234]], [[1.0, 0.0, 0.0, 0.0, 0.0, 0.0], [0.9807673692703247, 0.019232604652643204, 0.0, 0.0, 0.0, 0.0], [0.9664247035980225, 0.0154139194637537, 0.018161440268158913, 0.0, 0.0, 0.0], [0.9632682204246521, 0.0045381286181509495, 0.002925402484834194, 0.029268257319927216, 0.0, 0.0], [0.9562349319458008, 0.001222362625412643, 0.0005304080550558865, 0.008671486750245094, 0.033340875059366226, 0.0], [0.9657101035118103, 0.0009808274917304516, 0.001668625045567751, 0.002634829841554165, 0.0058663529343903065, 0.02313930168747902]], [[1.0, 0.0, 0.0, 0.0, 0.0, 0.0], [0.9639714956283569, 0.036028504371643066, 0.0, 0.0, 0.0, 0.0], [0.9562799334526062, 0.033733174204826355, 0.009986845776438713, 0.0, 0.0, 0.0], [0.8539995551109314, 0.0807303637266159, 0.033344488590955734, 0.031925566494464874, 0.0, 0.0], [0.9547489881515503, 0.009605047293007374, 0.0041461666114628315, 0.002013322664424777, 0.029486436396837234, 0.0], [0.933113694190979, 0.028699694201350212, 0.005477470345795155, 0.006368072237819433, 0.012613045983016491, 0.013728052377700806]], [[1.0, 0.0, 0.0, 0.0, 0.0, 0.0], [0.9392993450164795, 0.06070062145590782, 0.0, 0.0, 0.0, 0.0], [0.929839015007019, 0.061895400285720825, 0.008265486918389797, 0.0, 0.0, 0.0], [0.8471820950508118, 0.09035065770149231, 0.017636140808463097, 0.044831179082393646, 0.0, 0.0], [0.8857701420783997, 0.039181798696517944, 0.007867720909416676, 0.022765889763832092, 0.04441440477967262, 0.0], [0.8563281893730164, 0.10088986903429031, 0.00653144670650363, 0.008485907688736916, 0.007368424441665411, 0.02039625309407711]], [[1.0, 0.0, 0.0, 0.0, 0.0, 0.0], [0.8353266716003418, 0.1646733283996582, 0.0, 0.0, 0.0, 0.0], [0.6160860657691956, 0.31376469135284424, 0.0701492428779602, 0.0, 0.0, 0.0], [0.34316298365592957, 0.2758493721485138, 0.11966051161289215, 0.26132720708847046, 0.0, 0.0], [0.5908160209655762, 0.05029086396098137, 0.04166605696082115, 0.21995003521442413, 0.09727700054645538, 0.0], [0.848141610622406, 0.0631808191537857, 0.01473367027938366, 0.05526738986372948, 0.009014980867505074, 0.009661641903221607]], [[1.0, 0.0, 0.0, 0.0, 0.0, 0.0], [0.9627320766448975, 0.037267956882715225, 0.0, 0.0, 0.0, 0.0], [0.7757523655891418, 0.17996273934841156, 0.04428495839238167, 0.0, 0.0, 0.0], [0.631705105304718, 0.24380777776241302, 0.1092567965388298, 0.015230271965265274, 0.0, 0.0], [0.9539908766746521, 0.01818234659731388, 0.011601815931499004, 0.012299075722694397, 0.003925770055502653, 0.0], [0.4035697877407074, 0.14237582683563232, 0.056612201035022736, 0.19757334887981415, 0.09299194067716599, 0.10687695443630219]], [[1.0, 0.0, 0.0, 0.0, 0.0, 0.0], [0.9802618026733398, 0.019738147035241127, 0.0, 0.0, 0.0, 0.0], [0.98739093542099, 0.007800445891916752, 0.004808679223060608, 0.0, 0.0, 0.0], [0.9283918738365173, 0.00830123107880354, 0.013305670581758022, 0.05000120773911476, 0.0, 0.0], [0.8981050848960876, 0.015591373667120934, 0.010177625343203545, 0.039987169206142426, 0.03613876551389694, 0.0], [0.975350022315979, 0.0003543302300386131, 0.0005866029532626271, 0.001187749207019806, 0.0010750875808298588, 0.02144637145102024]], [[1.0, 0.0, 0.0, 0.0, 0.0, 0.0], [0.9295330047607422, 0.07046696543693542, 0.0, 0.0, 0.0, 0.0], [0.9361506104469299, 0.04116690531373024, 0.02268253266811371, 0.0, 0.0, 0.0], [0.8486821055412292, 0.05802804231643677, 0.024856170639395714, 0.06843375414609909, 0.0, 0.0], [0.8661177754402161, 0.02232472412288189, 0.010369151830673218, 0.026001980528235435, 0.07518631219863892, 0.0], [0.8074421882629395, 0.044382572174072266, 0.01849711313843727, 0.033577896654605865, 0.018561240285634995, 0.07753890007734299]], [[1.0, 0.0, 0.0, 0.0, 0.0, 0.0], [0.9680536389350891, 0.03194638714194298, 0.0, 0.0, 0.0, 0.0], [0.9693689942359924, 0.025684956461191177, 0.004946077708154917, 0.0, 0.0, 0.0], [0.9620568156242371, 0.022552426904439926, 0.005471324548125267, 0.009919451549649239, 0.0, 0.0], [0.9727528095245361, 0.010137123987078667, 0.0007573266630060971, 0.002882891334593296, 0.013469845987856388, 0.0], [0.9624637365341187, 0.003110895399004221, 0.00100075697991997, 0.001947588985785842, 0.008266224525868893, 0.023210853338241577]], [[1.0, 0.0, 0.0, 0.0, 0.0, 0.0], [0.8542503118515015, 0.1457497626543045, 0.0, 0.0, 0.0, 0.0], [0.9725968837738037, 0.0141163170337677, 0.013286826200783253, 0.0, 0.0, 0.0], [0.9257621169090271, 0.03257275000214577, 0.014612105675041676, 0.0270531065762043, 0.0, 0.0], [0.7923434376716614, 0.027305038645863533, 0.01880664937198162, 0.13854090869426727, 0.023003920912742615, 0.0], [0.6152046918869019, 0.026655439287424088, 0.029353102669119835, 0.05590912327170372, 0.11611288785934448, 0.15676479041576385]], [[1.0, 0.0, 0.0, 0.0, 0.0, 0.0], [0.9804655313491821, 0.01953454129397869, 0.0, 0.0, 0.0, 0.0], [0.9882452487945557, 0.0075094737112522125, 0.004245338030159473, 0.0, 0.0, 0.0], [0.9584206342697144, 0.010963579639792442, 0.010456100106239319, 0.020159736275672913, 0.0, 0.0], [0.9604811668395996, 0.007182630710303783, 0.003072340739890933, 0.0068989102728664875, 0.022365093231201172, 0.0], [0.966888964176178, 0.0032812843564897776, 0.005500535946339369, 0.004234075080603361, 0.0050380295142531395, 0.01505716796964407]], [[1.0, 0.0, 0.0, 0.0, 0.0, 0.0], [0.9498194456100464, 0.05018053203821182, 0.0, 0.0, 0.0, 0.0], [0.9781363606452942, 0.016430029645562172, 0.0054335566237568855, 0.0, 0.0, 0.0], [0.8618696331977844, 0.03609360009431839, 0.07555554062128067, 0.026481203734874725, 0.0, 0.0], [0.5449831485748291, 0.01541118323802948, 0.023516539484262466, 0.2574365437030792, 0.15865269303321838, 0.0], [0.9571872353553772, 0.003080390626564622, 0.001444687251932919, 0.006861570756882429, 0.014818801544606686, 0.01660728268325329]]], [[[1.0, 0.0, 0.0, 0.0, 0.0, 0.0], [0.6156562566757202, 0.3843437731266022, 0.0, 0.0, 0.0, 0.0], [0.3676060736179352, 0.4281638264656067, 0.20423009991645813, 0.0, 0.0, 0.0], [0.1647152304649353, 0.41367948055267334, 0.250923752784729, 0.17068153619766235, 0.0, 0.0], [0.4184460937976837, 0.15247617661952972, 0.10305392742156982, 0.11071497946977615, 0.2153088003396988, 0.0], [0.19686925411224365, 0.20146209001541138, 0.1282726377248764, 0.0920325219631195, 0.09167557954788208, 0.2896879017353058]], [[1.0, 0.0, 0.0, 0.0, 0.0, 0.0], [0.9027364253997803, 0.09726352244615555, 0.0, 0.0, 0.0, 0.0], [0.9736634492874146, 0.014004322700202465, 0.012332333251833916, 0.0, 0.0, 0.0], [0.8504456281661987, 0.056905750185251236, 0.03206092119216919, 0.06058764085173607, 0.0, 0.0], [0.7661212086677551, 0.035303931683301926, 0.03433045372366905, 0.09675198048353195, 0.06749237328767776, 0.0], [0.8650373220443726, 0.020085269585251808, 0.011498065665364265, 0.018558356910943985, 0.018430305644869804, 0.06639057397842407]], [[1.0, 0.0, 0.0, 0.0, 0.0, 0.0], [0.9653082489967346, 0.03469173237681389, 0.0, 0.0, 0.0, 0.0], [0.9816323518753052, 0.014176072552800179, 0.0041915178298950195, 0.0, 0.0, 0.0], [0.9275254607200623, 0.04737221077084541, 0.011528272181749344, 0.013573977164924145, 0.0, 0.0], [0.9293117523193359, 0.025833293795585632, 0.0072271134704351425, 0.014300585724413395, 0.023327261209487915, 0.0], [0.8895061612129211, 0.04689624905586243, 0.004717112518846989, 0.006286590360105038, 0.006090145092457533, 0.04650375247001648]], [[1.0, 0.0, 0.0, 0.0, 0.0, 0.0], [0.8938027620315552, 0.10619718581438065, 0.0, 0.0, 0.0, 0.0], [0.8221704959869385, 0.06304488331079483, 0.1147845983505249, 0.0, 0.0, 0.0], [0.5047376751899719, 0.15375737845897675, 0.2277039736509323, 0.11380094289779663, 0.0, 0.0], [0.4082077145576477, 0.09066348522901535, 0.11696869134902954, 0.24553175270557404, 0.1386283040046692, 0.0], [0.7291041016578674, 0.06638878583908081, 0.02311277948319912, 0.031103039160370827, 0.0571432039141655, 0.09314810484647751]], [[1.0, 0.0, 0.0, 0.0, 0.0, 0.0], [0.9247531890869141, 0.07524679601192474, 0.0, 0.0, 0.0, 0.0], [0.8957376480102539, 0.06989555060863495, 0.034366827458143234, 0.0, 0.0, 0.0], [0.7924937605857849, 0.0960114449262619, 0.05509122461080551, 0.05640352517366409, 0.0, 0.0], [0.7891507744789124, 0.07880300283432007, 0.038401540368795395, 0.05396974831819534, 0.03967495635151863, 0.0], [0.7807855606079102, 0.0799354687333107, 0.042531780898571014, 0.03234214335680008, 0.01781696453690529, 0.04658807814121246]], [[1.0, 0.0, 0.0, 0.0, 0.0, 0.0], [0.9480886459350586, 0.05191135033965111, 0.0, 0.0, 0.0, 0.0], [0.8636949062347412, 0.04756205901503563, 0.08874304592609406, 0.0, 0.0, 0.0], [0.9341371059417725, 0.02222411520779133, 0.022624488919973373, 0.021014345809817314, 0.0, 0.0], [0.9588144421577454, 0.008020906709134579, 0.004490066319704056, 0.005862277466803789, 0.022812383249402046, 0.0], [0.9385915994644165, 0.021227726712822914, 0.004872468300163746, 0.010940180160105228, 0.00952459778636694, 0.014843432232737541]], [[1.0, 0.0, 0.0, 0.0, 0.0, 0.0], [0.9763734340667725, 0.02362659201025963, 0.0, 0.0, 0.0, 0.0], [0.9884802103042603, 0.005189401097595692, 0.006330382544547319, 0.0, 0.0, 0.0], [0.9477092027664185, 0.017985165119171143, 0.010156619362533092, 0.024149032309651375, 0.0, 0.0], [0.967192530632019, 0.0065528168343007565, 0.003322786185890436, 0.00556332990527153, 0.01736840419471264, 0.0], [0.9584562182426453, 0.007502950727939606, 0.0051363264210522175, 0.008071633987128735, 0.005997121799737215, 0.014835815876722336]], [[1.0, 0.0, 0.0, 0.0, 0.0, 0.0], [0.8840709328651428, 0.11592909693717957, 0.0, 0.0, 0.0, 0.0], [0.9931254386901855, 0.005070808809250593, 0.0018038045382127166, 0.0, 0.0, 0.0], [0.9534159302711487, 0.023829061537981033, 0.007748984266072512, 0.01500609703361988, 0.0, 0.0], [0.9151288270950317, 0.010873103514313698, 0.01319098100066185, 0.011050441302359104, 0.04975670576095581, 0.0], [0.8769674301147461, 0.03385211527347565, 0.008486486971378326, 0.009969159960746765, 0.034685831516981125, 0.036039140075445175]], [[1.0, 0.0, 0.0, 0.0, 0.0, 0.0], [0.0003709516313392669, 0.999629020690918, 0.0, 0.0, 0.0, 0.0], [6.525021308334544e-05, 0.3737829029560089, 0.6261518597602844, 0.0, 0.0, 0.0], [4.606024594977498e-05, 0.21050886809825897, 0.4115966558456421, 0.3778485059738159, 0.0, 0.0], [4.7531062591588125e-05, 0.11616960167884827, 0.23264285922050476, 0.3985331654548645, 0.2526068389415741, 0.0], [1.2476438087105635e-06, 0.14819678664207458, 0.15813173353672028, 0.30074384808540344, 0.11939039826393127, 0.27353596687316895]], [[1.0, 0.0, 0.0, 0.0, 0.0, 0.0], [0.971555769443512, 0.028444208204746246, 0.0, 0.0, 0.0, 0.0], [0.9529064297676086, 0.03233075514435768, 0.01476278156042099, 0.0, 0.0, 0.0], [0.9343127012252808, 0.02351297438144684, 0.020498080179095268, 0.021676287055015564, 0.0, 0.0], [0.9529678225517273, 0.00855142343789339, 0.004359327722340822, 0.00806456059217453, 0.026056958362460136, 0.0], [0.9653592705726624, 0.008487638086080551, 0.0034992797300219536, 0.002721579745411873, 0.003282882971689105, 0.016649365425109863]], [[1.0, 0.0, 0.0, 0.0, 0.0, 0.0], [0.8630781769752502, 0.13692185282707214, 0.0, 0.0, 0.0, 0.0], [0.7696155905723572, 0.08513341099023819, 0.14525102078914642, 0.0, 0.0, 0.0], [0.7133334875106812, 0.10170901566743851, 0.11931280046701431, 0.06564467400312424, 0.0, 0.0], [0.7186219096183777, 0.054442983120679855, 0.013868173584342003, 0.07808037102222443, 0.13498656451702118, 0.0], [0.7990155816078186, 0.05805579945445061, 0.00944699626415968, 0.017770426347851753, 0.02113848552107811, 0.0945727750658989]], [[1.0, 0.0, 0.0, 0.0, 0.0, 0.0], [0.9518988728523254, 0.04810108244419098, 0.0, 0.0, 0.0, 0.0], [0.8580652475357056, 0.02944578230381012, 0.11248896270990372, 0.0, 0.0, 0.0], [0.6577734351158142, 0.08513454347848892, 0.126131072640419, 0.13096095621585846, 0.0, 0.0], [0.8087369799613953, 0.03230160102248192, 0.01841815933585167, 0.06856131553649902, 0.07198192179203033, 0.0], [0.6683299541473389, 0.13281367719173431, 0.021880609914660454, 0.027877412736415863, 0.04923412576317787, 0.0998641774058342]]]], \"left_text\": [\"No\", \",\", \" I\", \" am\", \" your\", \" father\"], \"right_text\": [\"No\", \",\", \" I\", \" am\", \" your\", \" father\"]}], \"default_filter\": \"0\", \"display_mode\": \"dark\", \"root_div_id\": \"bertviz-4a605438c0e04c8a8ee23d2fea8179fb\", \"include_layers\": [0, 1, 2, 3, 4, 5, 6, 7, 8, 9, 10, 11], \"include_heads\": [0, 1, 2, 3, 4, 5, 6, 7, 8, 9, 10, 11], \"total_heads\": 12}; // HACK: {\"attention\": [{\"name\": null, \"attn\": [[[[1.0, 0.0, 0.0, 0.0, 0.0, 0.0], [0.961219847202301, 0.03878015652298927, 0.0, 0.0, 0.0, 0.0], [0.7466979026794434, 0.11987315863370895, 0.13342894613742828, 0.0, 0.0, 0.0], [0.5885030031204224, 0.13792069256305695, 0.2121373564004898, 0.061438970267772675, 0.0, 0.0], [0.657085657119751, 0.08996301889419556, 0.1275128573179245, 0.08361566811800003, 0.04182283580303192, 0.0], [0.2728872001171112, 0.11203355342149734, 0.1663985401391983, 0.08467112481594086, 0.1695273369550705, 0.19448217749595642]], [[1.0, 0.0, 0.0, 0.0, 0.0, 0.0], [0.010616553016006947, 0.9893833994865417, 0.0, 0.0, 0.0, 0.0], [0.0024677535984665155, 0.008448002859950066, 0.9890841841697693, 0.0, 0.0, 0.0], [0.00012328448065090925, 0.0018733146134763956, 0.013126957230269909, 0.9848763942718506, 0.0, 0.0], [0.0010669539915397763, 0.0011366248363628983, 0.003034989582374692, 0.001573505811393261, 0.9931879043579102, 0.0], [0.00019792020611930639, 0.0010528132552281022, 0.0015437380643561482, 0.0009642774821259081, 3.4924432839034125e-05, 0.9962062835693359]], [[1.0, 0.0, 0.0, 0.0, 0.0, 0.0], [0.47578442096710205, 0.524215579032898, 0.0, 0.0, 0.0, 0.0], [0.5906046032905579, 0.2486611008644104, 0.16073434054851532, 0.0, 0.0, 0.0], [0.5529290437698364, 0.18856699764728546, 0.14457567036151886, 0.11392832547426224, 0.0, 0.0], [0.4509407877922058, 0.16486792266368866, 0.17318034172058105, 0.1174800917506218, 0.0935308113694191, 0.0], [0.42572468519210815, 0.17328646779060364, 0.15651948750019073, 0.07022644579410553, 0.08087010681629181, 0.09337276220321655]], [[1.0, 0.0, 0.0, 0.0, 0.0, 0.0], [0.6133623123168945, 0.38663768768310547, 0.0, 0.0, 0.0, 0.0], [0.06098514795303345, 0.0325346402823925, 0.9064802527427673, 0.0, 0.0, 0.0], [0.006717085372656584, 0.00040128850378096104, 0.7572957873344421, 0.23558583855628967, 0.0, 0.0], [0.037227652966976166, 0.002948854584246874, 0.10081075131893158, 0.041422661393880844, 0.817590057849884, 0.0], [0.04989774152636528, 0.0003075825225096196, 0.0024198247119784355, 0.0034334948286414146, 0.0006823899457231164, 0.9432590007781982]], [[1.0, 0.0, 0.0, 0.0, 0.0, 0.0], [0.9489555954933167, 0.051044464111328125, 0.0, 0.0, 0.0, 0.0], [0.6821407675743103, 0.1395241618156433, 0.17833498120307922, 0.0, 0.0, 0.0], [0.20366328954696655, 0.056414894759655, 0.06399302929639816, 0.6759288311004639, 0.0, 0.0], [0.3419547379016876, 0.0672544315457344, 0.0792618989944458, 0.17836196720600128, 0.3331669569015503, 0.0], [0.09464013576507568, 0.0074282134883105755, 0.006983976811170578, 0.007184373214840889, 0.018724260851740837, 0.865039050579071]], [[1.0, 0.0, 0.0, 0.0, 0.0, 0.0], [0.3383462429046631, 0.6616537570953369, 0.0, 0.0, 0.0, 0.0], [0.07855993509292603, 0.006165449041873217, 0.9152746200561523, 0.0, 0.0, 0.0], [0.016775960102677345, 0.00040376983815804124, 0.0033404543064534664, 0.9794798493385315, 0.0, 0.0], [0.027600426226854324, 0.00044415233423933387, 0.0006541680195368826, 0.0002266183728352189, 0.971074640750885, 0.0], [0.010248231701552868, 3.7015714042354375e-05, 0.0001606411678949371, 2.7341977329342626e-05, 1.0187343832512852e-05, 0.98951655626297]], [[1.0, 0.0, 0.0, 0.0, 0.0, 0.0], [0.982503354549408, 0.017496665939688683, 0.0, 0.0, 0.0, 0.0], [0.8874197006225586, 0.05467937886714935, 0.057900846004486084, 0.0, 0.0, 0.0], [0.6849910616874695, 0.1228068619966507, 0.04972026124596596, 0.14248184859752655, 0.0, 0.0], [0.601585328578949, 0.09881890565156937, 0.07070114463567734, 0.16652549803256989, 0.06236906349658966, 0.0], [0.32325059175491333, 0.12567412853240967, 0.044321779161691666, 0.0707697793841362, 0.06606651842594147, 0.3699171245098114]], [[1.0, 0.0, 0.0, 0.0, 0.0, 0.0], [0.9191647171974182, 0.08083529025316238, 0.0, 0.0, 0.0, 0.0], [0.45986407995224, 0.39703109860420227, 0.14310482144355774, 0.0, 0.0, 0.0], [0.30038732290267944, 0.2218172401189804, 0.38161519169807434, 0.09618023037910461, 0.0, 0.0], [0.1896391361951828, 0.13763722777366638, 0.20173488557338715, 0.236321821808815, 0.2346668541431427, 0.0], [0.1541045606136322, 0.09489506483078003, 0.11902555078268051, 0.10277961939573288, 0.43172186613082886, 0.09747330099344254]], [[1.0, 0.0, 0.0, 0.0, 0.0, 0.0], [0.364999920129776, 0.6350001096725464, 0.0, 0.0, 0.0, 0.0], [0.24595218896865845, 0.5519202351570129, 0.2021275758743286, 0.0, 0.0, 0.0], [0.27213597297668457, 0.40738627314567566, 0.2518620789051056, 0.06861574947834015, 0.0, 0.0], [0.10242550820112228, 0.16683611273765564, 0.5248050689697266, 0.05445463955402374, 0.15147869288921356, 0.0], [0.25029507279396057, 0.22198128700256348, 0.18899968266487122, 0.10677117854356766, 0.1303267776966095, 0.10162604600191116]], [[1.0, 0.0, 0.0, 0.0, 0.0, 0.0], [0.6990506649017334, 0.300949364900589, 0.0, 0.0, 0.0, 0.0], [0.5107942223548889, 0.2948642075061798, 0.1943415403366089, 0.0, 0.0, 0.0], [0.4604707360267639, 0.28051912784576416, 0.1917480230331421, 0.0672621801495552, 0.0, 0.0], [0.376484215259552, 0.21120662987232208, 0.20214545726776123, 0.10207024216651917, 0.10809352993965149, 0.0], [0.30138447880744934, 0.2045617550611496, 0.18250338733196259, 0.11019390821456909, 0.16291269659996033, 0.038443855941295624]], [[1.0, 0.0, 0.0, 0.0, 0.0, 0.0], [0.7131581902503967, 0.28684180974960327, 0.0, 0.0, 0.0, 0.0], [0.40588000416755676, 0.18063297867774963, 0.4134870171546936, 0.0, 0.0, 0.0], [0.26554611325263977, 0.1698586344718933, 0.33585935831069946, 0.22873593866825104, 0.0, 0.0], [0.3138541281223297, 0.1831669807434082, 0.14928360283374786, 0.053776707500219345, 0.2999185621738434, 0.0], [0.20466557145118713, 0.18731115758419037, 0.1595914363861084, 0.06381773203611374, 0.03642303869128227, 0.3481910228729248]], [[1.0, 0.0, 0.0, 0.0, 0.0, 0.0], [0.6586242914199829, 0.3413756787776947, 0.0, 0.0, 0.0, 0.0], [0.5917777419090271, 0.3160035312175751, 0.0922188013792038, 0.0, 0.0, 0.0], [0.5477152466773987, 0.23586955666542053, 0.061456020921468735, 0.1549593061208725, 0.0, 0.0], [0.4587061107158661, 0.22439999878406525, 0.07887424528598785, 0.0992034375667572, 0.13881626725196838, 0.0], [0.32743728160858154, 0.19600814580917358, 0.068057119846344, 0.0892510861158371, 0.11618072539567947, 0.20306558907032013]]], [[[1.0, 0.0, 0.0, 0.0, 0.0, 0.0], [0.9961552023887634, 0.0038448371924459934, 0.0, 0.0, 0.0, 0.0], [0.8594856858253479, 0.06906108558177948, 0.07145329564809799, 0.0, 0.0, 0.0], [0.380005419254303, 0.041275668889284134, 0.5496611595153809, 0.029057785868644714, 0.0, 0.0], [0.2144523411989212, 0.05088742449879646, 0.4317440092563629, 0.2586928904056549, 0.0442233681678772, 0.0], [0.11175289750099182, 0.017593108117580414, 0.027507465332746506, 0.040867775678634644, 0.7754665017127991, 0.026812193915247917]], [[1.0, 0.0, 0.0, 0.0, 0.0, 0.0], [0.9285967946052551, 0.07140326499938965, 0.0, 0.0, 0.0, 0.0], [0.6077286005020142, 0.31214284896850586, 0.08012859523296356, 0.0, 0.0, 0.0], [0.49429091811180115, 0.28503701090812683, 0.11849313229322433, 0.10217893123626709, 0.0, 0.0], [0.4183879792690277, 0.23117901384830475, 0.08340614289045334, 0.11365947872400284, 0.15336740016937256, 0.0], [0.4221585988998413, 0.1291714757680893, 0.08740920573472977, 0.10163753479719162, 0.21230269968509674, 0.04732051119208336]], [[1.0, 0.0, 0.0, 0.0, 0.0, 0.0], [0.9786475896835327, 0.021352380514144897, 0.0, 0.0, 0.0, 0.0], [0.7749121189117432, 0.06510371714830399, 0.15998417139053345, 0.0, 0.0, 0.0], [0.6484924554824829, 0.07483132183551788, 0.14751608669757843, 0.12916016578674316, 0.0, 0.0], [0.5224636793136597, 0.06921815872192383, 0.13823404908180237, 0.11106592416763306, 0.15901809930801392, 0.0], [0.3964517414569855, 0.0732581615447998, 0.12938141822814941, 0.10642430186271667, 0.14864003658294678, 0.14584431052207947]], [[1.0, 0.0, 0.0, 0.0, 0.0, 0.0], [0.5525906085968018, 0.44740942120552063, 0.0, 0.0, 0.0, 0.0], [0.5585008859634399, 0.2176259458065033, 0.22387316823005676, 0.0, 0.0, 0.0], [0.5143128633499146, 0.15964673459529877, 0.15491965413093567, 0.1711207777261734, 0.0, 0.0], [0.5039963722229004, 0.11401882767677307, 0.11974021792411804, 0.1255258321762085, 0.13671883940696716, 0.0], [0.5061842799186707, 0.08567394316196442, 0.0890301987528801, 0.09759818762540817, 0.10275726765394211, 0.11875618249177933]], [[1.0, 0.0, 0.0, 0.0, 0.0, 0.0], [0.9242545962333679, 0.07574541866779327, 0.0, 0.0, 0.0, 0.0], [0.8257424235343933, 0.07932537794113159, 0.0949321910738945, 0.0, 0.0, 0.0], [0.7306379675865173, 0.0857183113694191, 0.08043930679559708, 0.10320436209440231, 0.0, 0.0], [0.6383242607116699, 0.07886379957199097, 0.0781502053141594, 0.08758089691400528, 0.11708085983991623, 0.0], [0.5552157163619995, 0.07409121096134186, 0.06834887713193893, 0.07778602093458176, 0.09999323636293411, 0.12456494569778442]], [[1.0, 0.0, 0.0, 0.0, 0.0, 0.0], [0.8578915596008301, 0.14210841059684753, 0.0, 0.0, 0.0, 0.0], [0.6423038840293884, 0.16629022359848022, 0.19140596687793732, 0.0, 0.0, 0.0], [0.5530980229377747, 0.10609272867441177, 0.07821265608072281, 0.26259663701057434, 0.0, 0.0], [0.40121692419052124, 0.12223601341247559, 0.1934732049703598, 0.14164632558822632, 0.14142756164073944, 0.0], [0.4021258056163788, 0.1845075935125351, 0.07516812533140182, 0.05849040672183037, 0.1444634050130844, 0.13524460792541504]], [[1.0, 0.0, 0.0, 0.0, 0.0, 0.0], [0.9791558980941772, 0.020844057202339172, 0.0, 0.0, 0.0, 0.0], [0.8829841613769531, 0.06233251467347145, 0.0546833835542202, 0.0, 0.0, 0.0], [0.8105454444885254, 0.08617085218429565, 0.07321780920028687, 0.030065856873989105, 0.0, 0.0], [0.681981086730957, 0.04990820586681366, 0.08296555280685425, 0.08369524031877518, 0.10144984722137451, 0.0], [0.40566885471343994, 0.0733766108751297, 0.0860140398144722, 0.06170931085944176, 0.1322644203901291, 0.24096673727035522]], [[1.0, 0.0, 0.0, 0.0, 0.0, 0.0], [0.9670190811157227, 0.032980892807245255, 0.0, 0.0, 0.0, 0.0], [0.8449064493179321, 0.0851450264453888, 0.06994853168725967, 0.0, 0.0, 0.0], [0.7123571634292603, 0.07896046340465546, 0.055410776287317276, 0.1532716006040573, 0.0, 0.0], [0.6402611136436462, 0.0739755928516388, 0.044393088668584824, 0.14322128891944885, 0.09814891219139099, 0.0], [0.5073902010917664, 0.07523060590028763, 0.07754655182361603, 0.11362482607364655, 0.13947957754135132, 0.08672817796468735]], [[1.0, 0.0, 0.0, 0.0, 0.0, 0.0], [0.8487569093704224, 0.15124310553073883, 0.0, 0.0, 0.0, 0.0], [0.8415650129318237, 0.12107229232788086, 0.03736276179552078, 0.0, 0.0, 0.0], [0.7505517601966858, 0.11348948627710342, 0.061799611896276474, 0.0741591602563858, 0.0, 0.0], [0.6614714860916138, 0.10242654383182526, 0.05293433740735054, 0.07529723644256592, 0.1078704223036766, 0.0], [0.6014204621315002, 0.11340385675430298, 0.0563192293047905, 0.07096724212169647, 0.10906259715557098, 0.04882657155394554]], [[1.0, 0.0, 0.0, 0.0, 0.0, 0.0], [0.944548487663269, 0.055451519787311554, 0.0, 0.0, 0.0, 0.0], [0.8874569535255432, 0.054742082953453064, 0.05780095234513283, 0.0, 0.0, 0.0], [0.8281887769699097, 0.0689500942826271, 0.05903470516204834, 0.04382641240954399, 0.0, 0.0], [0.6429896950721741, 0.06747541576623917, 0.11629693955183029, 0.05417948216199875, 0.11905848979949951, 0.0], [0.7367824912071228, 0.05611906200647354, 0.06857284903526306, 0.034219563007354736, 0.07875372469425201, 0.02555241622030735]], [[1.0, 0.0, 0.0, 0.0, 0.0, 0.0], [0.0002913394710049033, 0.9997085928916931, 0.0, 0.0, 0.0, 0.0], [0.0007981216767802835, 0.5288336277008057, 0.4703682065010071, 0.0, 0.0, 0.0], [0.0007648480823263526, 0.34519830346107483, 0.3085266947746277, 0.3455101549625397, 0.0, 0.0], [0.0010283172596246004, 0.24135902523994446, 0.23320145905017853, 0.2555714547634125, 0.2688397467136383, 0.0], [0.000974681752268225, 0.1778968870639801, 0.1674315184354782, 0.18587613105773926, 0.18734435737133026, 0.28047648072242737]], [[1.0, 0.0, 0.0, 0.0, 0.0, 0.0], [0.8244929313659668, 0.1755070984363556, 0.0, 0.0, 0.0, 0.0], [0.1238686665892601, 0.044499825686216354, 0.8316314816474915, 0.0, 0.0, 0.0], [0.07924356311559677, 0.012965882197022438, 0.0015277164056897163, 0.9062628149986267, 0.0, 0.0], [0.08806419372558594, 0.021341072395443916, 0.0028886229265481234, 0.002845388138666749, 0.8848607540130615, 0.0], [0.0998322144150734, 0.03363391384482384, 0.005500006023794413, 0.002433054381981492, 0.0015082453610375524, 0.8570924997329712]]], [[[1.0, 0.0, 0.0, 0.0, 0.0, 0.0], [0.9646892547607422, 0.03531070798635483, 0.0, 0.0, 0.0, 0.0], [0.752915620803833, 0.08733486384153366, 0.15974949300289154, 0.0, 0.0, 0.0], [0.420228511095047, 0.09195113927125931, 0.2354983687400818, 0.2523220181465149, 0.0, 0.0], [0.3084893226623535, 0.05908145383000374, 0.3839130103588104, 0.1565915197134018, 0.09192471206188202, 0.0], [0.4479042589664459, 0.043293099850416183, 0.0796918049454689, 0.11081918329000473, 0.2212459295988083, 0.09704577177762985]], [[1.0, 0.0, 0.0, 0.0, 0.0, 0.0], [0.991096019744873, 0.008904017508029938, 0.0, 0.0, 0.0, 0.0], [0.9697675704956055, 0.026084497570991516, 0.004147919360548258, 0.0, 0.0, 0.0], [0.9082901477813721, 0.03320605307817459, 0.009421170689165592, 0.049082688987255096, 0.0, 0.0], [0.8949135541915894, 0.055445462465286255, 0.005577607546001673, 0.03150678426027298, 0.012556531466543674, 0.0], [0.8497739434242249, 0.028890086337924004, 0.003664793213829398, 0.03751985728740692, 0.03842790797352791, 0.04172343388199806]], [[1.0, 0.0, 0.0, 0.0, 0.0, 0.0], [0.9984525442123413, 0.0015474455431103706, 0.0, 0.0, 0.0, 0.0], [0.48947781324386597, 0.4812200367450714, 0.029302166774868965, 0.0, 0.0, 0.0], [0.11772168427705765, 0.13121210038661957, 0.6702313423156738, 0.08083495497703552, 0.0, 0.0], [0.13043706119060516, 0.040686819702386856, 0.26520389318466187, 0.41143563389778137, 0.15223664045333862, 0.0], [0.12661869823932648, 0.03275129571557045, 0.03567873314023018, 0.06039196997880936, 0.6021820306777954, 0.1423773169517517]], [[1.0, 0.0, 0.0, 0.0, 0.0, 0.0], [0.9805176854133606, 0.01948234625160694, 0.0, 0.0, 0.0, 0.0], [0.7948847413063049, 0.12061922997236252, 0.08449596911668777, 0.0, 0.0, 0.0], [0.5612359642982483, 0.15743133425712585, 0.2033969908952713, 0.07793568819761276, 0.0, 0.0], [0.42583775520324707, 0.10742027312517166, 0.15123659372329712, 0.08755016326904297, 0.2279551774263382, 0.0], [0.2475261390209198, 0.02418830618262291, 0.030395232141017914, 0.08586956560611725, 0.571433961391449, 0.04058681055903435]], [[1.0, 0.0, 0.0, 0.0, 0.0, 0.0], [0.9887767434120178, 0.011223225854337215, 0.0, 0.0, 0.0, 0.0], [0.757269024848938, 0.22317390143871307, 0.019557109102606773, 0.0, 0.0, 0.0], [0.5341881513595581, 0.22107580304145813, 0.17621822655200958, 0.06851769238710403, 0.0, 0.0], [0.1709529310464859, 0.08229431509971619, 0.5760219097137451, 0.1109759733080864, 0.05975488945841789, 0.0], [0.24871128797531128, 0.08880818635225296, 0.08980181068181992, 0.09729333221912384, 0.4413089454174042, 0.0340765006840229]], [[1.0, 0.0, 0.0, 0.0, 0.0, 0.0], [0.8422133922576904, 0.15778662264347076, 0.0, 0.0, 0.0, 0.0], [0.4684125781059265, 0.4610537588596344, 0.07053358852863312, 0.0, 0.0, 0.0], [0.2588140070438385, 0.46358931064605713, 0.185034841299057, 0.0925617665052414, 0.0, 0.0], [0.18399569392204285, 0.29154205322265625, 0.17031091451644897, 0.27172982692718506, 0.08242156356573105, 0.0], [0.16469866037368774, 0.24726979434490204, 0.08770564198493958, 0.22575005888938904, 0.17745350301265717, 0.09712236374616623]], [[1.0, 0.0, 0.0, 0.0, 0.0, 0.0], [0.9919946193695068, 0.008005395531654358, 0.0, 0.0, 0.0, 0.0], [0.9068724513053894, 0.04406513273715973, 0.04906242713332176, 0.0, 0.0, 0.0], [0.8582221865653992, 0.05534830689430237, 0.040419407188892365, 0.046010036021471024, 0.0, 0.0], [0.7855250835418701, 0.041242457926273346, 0.08369298279285431, 0.04887617379426956, 0.04066336527466774, 0.0], [0.7856318950653076, 0.050146423280239105, 0.04751260578632355, 0.027365900576114655, 0.056147512048482895, 0.03319564461708069]], [[1.0, 0.0, 0.0, 0.0, 0.0, 0.0], [0.9041034579277039, 0.09589657187461853, 0.0, 0.0, 0.0, 0.0], [0.5862314701080322, 0.07199830561876297, 0.3417702615261078, 0.0, 0.0, 0.0], [0.3878961503505707, 0.04660804569721222, 0.2027898132801056, 0.3627060353755951, 0.0, 0.0], [0.2665243446826935, 0.024533020332455635, 0.12211930751800537, 0.20041215419769287, 0.3864111304283142, 0.0], [0.23357392847537994, 0.020537326112389565, 0.09610331058502197, 0.13062264025211334, 0.229904904961586, 0.28925788402557373]], [[1.0, 0.0, 0.0, 0.0, 0.0, 0.0], [0.9639912247657776, 0.03600878641009331, 0.0, 0.0, 0.0, 0.0], [0.7075549364089966, 0.2542778551578522, 0.03816714137792587, 0.0, 0.0, 0.0], [0.2566528022289276, 0.20589327812194824, 0.016656646504998207, 0.5207973122596741, 0.0, 0.0], [0.10379377007484436, 0.04639098793268204, 0.008698645047843456, 0.7866849303245544, 0.05443162843585014, 0.0], [0.2214335948228836, 0.0337974950671196, 0.02902395650744438, 0.541292130947113, 0.15286117792129517, 0.021591627970337868]], [[1.0, 0.0, 0.0, 0.0, 0.0, 0.0], [0.9891703724861145, 0.010829639621078968, 0.0, 0.0, 0.0, 0.0], [0.7913152575492859, 0.1230965107679367, 0.08558818697929382, 0.0, 0.0, 0.0], [0.29546016454696655, 0.15808320045471191, 0.4217239022254944, 0.12473275512456894, 0.0, 0.0], [0.23441027104854584, 0.09886543452739716, 0.3316015899181366, 0.19713936746120453, 0.13798336684703827, 0.0], [0.19728374481201172, 0.057418402284383774, 0.06909023225307465, 0.16469822824001312, 0.2797278165817261, 0.23178157210350037]], [[1.0, 0.0, 0.0, 0.0, 0.0, 0.0], [0.9359127879142761, 0.0640871673822403, 0.0, 0.0, 0.0, 0.0], [0.7888627648353577, 0.086734838783741, 0.12440242618322372, 0.0, 0.0, 0.0], [0.6535120010375977, 0.07573555409908295, 0.09732567518949509, 0.17342686653137207, 0.0, 0.0], [0.5222764015197754, 0.0582788810133934, 0.09920482337474823, 0.17020851373672485, 0.15003135800361633, 0.0], [0.41088369488716125, 0.0473061129450798, 0.0726567879319191, 0.10560747981071472, 0.10550015419721603, 0.2580457925796509]], [[1.0, 0.0, 0.0, 0.0, 0.0, 0.0], [0.9683833122253418, 0.031616710126399994, 0.0, 0.0, 0.0, 0.0], [0.8965397477149963, 0.03887057304382324, 0.0645897164940834, 0.0, 0.0, 0.0], [0.826495349407196, 0.03213462606072426, 0.05196715518832207, 0.08940289914608002, 0.0, 0.0], [0.7718175053596497, 0.030402852222323418, 0.045827437192201614, 0.07118469476699829, 0.08076749742031097, 0.0], [0.7292330861091614, 0.021699871867895126, 0.0330747552216053, 0.04720095172524452, 0.06474559009075165, 0.10404571145772934]]], [[[1.0, 0.0, 0.0, 0.0, 0.0, 0.0], [0.9979567527770996, 0.002043284010142088, 0.0, 0.0, 0.0, 0.0], [0.9552940726280212, 0.00802531372755766, 0.03668058663606644, 0.0, 0.0, 0.0], [0.9254710078239441, 0.0027555753476917744, 0.0020629912614822388, 0.06971046328544617, 0.0, 0.0], [0.8660570979118347, 0.00388836907222867, 0.0006785993464291096, 0.000698147458024323, 0.12867775559425354, 0.0], [0.8455933928489685, 0.003780393162742257, 0.00025342300068587065, 6.02704421908129e-05, 0.00011820732470368966, 0.1501942127943039]], [[1.0, 0.0, 0.0, 0.0, 0.0, 0.0], [0.9262452721595764, 0.07375474274158478, 0.0, 0.0, 0.0, 0.0], [0.7717158794403076, 0.16241957247257233, 0.06586451083421707, 0.0, 0.0, 0.0], [0.8167633414268494, 0.07807186245918274, 0.06324050575494766, 0.04192419722676277, 0.0, 0.0], [0.6867167949676514, 0.07755228132009506, 0.1005696952342987, 0.05955106019973755, 0.0756101980805397, 0.0], [0.6421161890029907, 0.11014921963214874, 0.07688203454017639, 0.05403335765004158, 0.10333612561225891, 0.013483111746609211]], [[1.0, 0.0, 0.0, 0.0, 0.0, 0.0], [0.9395952820777893, 0.0604046992957592, 0.0, 0.0, 0.0, 0.0], [0.23004625737667084, 0.6617385149002075, 0.10821530967950821, 0.0, 0.0, 0.0], [0.26702114939689636, 0.36079633235931396, 0.3249630033969879, 0.04721951112151146, 0.0, 0.0], [0.595201849937439, 0.12269279360771179, 0.0630205050110817, 0.08916773647069931, 0.12991708517074585, 0.0], [0.10284478217363358, 0.02938005141913891, 0.013739065267145634, 0.04586036503314972, 0.7698517441749573, 0.038323983550071716]], [[1.0, 0.0, 0.0, 0.0, 0.0, 0.0], [0.9040980935096741, 0.09590187668800354, 0.0, 0.0, 0.0, 0.0], [0.3572383522987366, 0.627460777759552, 0.015300868079066277, 0.0, 0.0, 0.0], [0.5917990207672119, 0.27640441060066223, 0.10476091504096985, 0.02703561820089817, 0.0, 0.0], [0.7254419326782227, 0.049831319600343704, 0.014982872642576694, 0.17781314253807068, 0.03193070739507675, 0.0], [0.7612770199775696, 0.06158926710486412, 0.005942223593592644, 0.016426654532551765, 0.12677910923957825, 0.027985764667391777]], [[1.0, 0.0, 0.0, 0.0, 0.0, 0.0], [0.9947587847709656, 0.0052412403747439384, 0.0, 0.0, 0.0, 0.0], [0.9632415771484375, 0.017816409468650818, 0.018942024558782578, 0.0, 0.0, 0.0], [0.9671078324317932, 0.008509594947099686, 0.008562239818274975, 0.01582048088312149, 0.0, 0.0], [0.9340997338294983, 0.011952388100326061, 0.02018020488321781, 0.02675078809261322, 0.007016900461167097, 0.0], [0.9587237238883972, 0.004657106939703226, 0.003326775273308158, 0.006545276381075382, 0.010182436555624008, 0.01656450144946575]], [[1.0, 0.0, 0.0, 0.0, 0.0, 0.0], [0.9769991040229797, 0.023000916466116905, 0.0, 0.0, 0.0, 0.0], [0.7917608022689819, 0.1753321886062622, 0.03290707990527153, 0.0, 0.0, 0.0], [0.7949192523956299, 0.10531841963529587, 0.0402185320854187, 0.05954384058713913, 0.0, 0.0], [0.7097723484039307, 0.10552529245615005, 0.06597559154033661, 0.05765581130981445, 0.06107084080576897, 0.0], [0.7506598830223083, 0.026514483615756035, 0.02157607302069664, 0.034296728670597076, 0.08494461327791214, 0.08200817555189133]], [[1.0, 0.0, 0.0, 0.0, 0.0, 0.0], [0.9837515950202942, 0.01624837890267372, 0.0, 0.0, 0.0, 0.0], [0.5615503787994385, 0.08956825733184814, 0.3488813042640686, 0.0, 0.0, 0.0], [0.32928988337516785, 0.024114904925227165, 0.5428068041801453, 0.10378843545913696, 0.0, 0.0], [0.34330323338508606, 0.013086428865790367, 0.5121976137161255, 0.11146189272403717, 0.019950825721025467, 0.0], [0.4792800545692444, 0.01733364164829254, 0.11805406957864761, 0.061302777379751205, 0.20071932673454285, 0.12331003695726395]], [[1.0, 0.0, 0.0, 0.0, 0.0, 0.0], [0.9908847212791443, 0.009115300141274929, 0.0, 0.0, 0.0, 0.0], [0.5282712578773499, 0.32922595739364624, 0.14250285923480988, 0.0, 0.0, 0.0], [0.48788461089134216, 0.23368743062019348, 0.17578105628490448, 0.1026468500494957, 0.0, 0.0], [0.31444787979125977, 0.1806519776582718, 0.1687142252922058, 0.09506566822528839, 0.2411201447248459, 0.0], [0.5168761014938354, 0.03589720278978348, 0.026188161224126816, 0.04039733484387398, 0.187917560338974, 0.1927236169576645]], [[1.0, 0.0, 0.0, 0.0, 0.0, 0.0], [0.8750309944152832, 0.12496902048587799, 0.0, 0.0, 0.0, 0.0], [0.45506051182746887, 0.4900435209274292, 0.054895929992198944, 0.0, 0.0, 0.0], [0.2933717370033264, 0.5449912548065186, 0.0944429337978363, 0.06719407439231873, 0.0, 0.0], [0.4897083044052124, 0.2721002697944641, 0.06861981749534607, 0.14694780111312866, 0.022623883560299873, 0.0], [0.47290685772895813, 0.08103130757808685, 0.016052188351750374, 0.3067224323749542, 0.10120705515146255, 0.02208026498556137]], [[1.0, 0.0, 0.0, 0.0, 0.0, 0.0], [0.9630220532417297, 0.03697789087891579, 0.0, 0.0, 0.0, 0.0], [0.7557193040847778, 0.1643637865781784, 0.07991688698530197, 0.0, 0.0, 0.0], [0.694770336151123, 0.08409864455461502, 0.06382617354393005, 0.1573047786951065, 0.0, 0.0], [0.5821160078048706, 0.032977934926748276, 0.07936574518680573, 0.19441354274749756, 0.11112666130065918, 0.0], [0.5974529385566711, 0.04261106252670288, 0.06919734179973602, 0.14563500881195068, 0.12481765449047089, 0.02028597518801689]], [[1.0, 0.0, 0.0, 0.0, 0.0, 0.0], [0.9957822561264038, 0.004217818845063448, 0.0, 0.0, 0.0, 0.0], [0.9312832951545715, 0.010560241527855396, 0.05815647542476654, 0.0, 0.0, 0.0], [0.8435326218605042, 0.015695031732320786, 0.04575122147798538, 0.09502117335796356, 0.0, 0.0], [0.7724102139472961, 0.011981259100139141, 0.03504612669348717, 0.038767702877521515, 0.14179472625255585, 0.0], [0.7642905116081238, 0.009868832305073738, 0.008122789673507214, 0.013314420357346535, 0.048244062811136246, 0.156159445643425]], [[1.0, 0.0, 0.0, 0.0, 0.0, 0.0], [0.9701177477836609, 0.029882298782467842, 0.0, 0.0, 0.0, 0.0], [0.6564014554023743, 0.2250610738992691, 0.11853744834661484, 0.0, 0.0, 0.0], [0.6958049535751343, 0.1470188945531845, 0.07146032154560089, 0.08571583777666092, 0.0, 0.0], [0.6353272795677185, 0.13460682332515717, 0.03099430911242962, 0.05691632255911827, 0.1421552151441574, 0.0], [0.6779401898384094, 0.05365427955985069, 0.018006321042776108, 0.06284526735544205, 0.11038203537464142, 0.07717191427946091]]], [[[1.0, 0.0, 0.0, 0.0, 0.0, 0.0], [0.9822334051132202, 0.017766673117876053, 0.0, 0.0, 0.0, 0.0], [0.903766393661499, 0.06541506946086884, 0.030818430706858635, 0.0, 0.0, 0.0], [0.8119191527366638, 0.03679019585251808, 0.06056106090545654, 0.09072968363761902, 0.0, 0.0], [0.40546441078186035, 0.10383865982294083, 0.10211282968521118, 0.354341983795166, 0.034242141991853714, 0.0], [0.2282443791627884, 0.0172786395996809, 0.050554826855659485, 0.6015733480453491, 0.0941174179315567, 0.008231480605900288]], [[1.0, 0.0, 0.0, 0.0, 0.0, 0.0], [0.9873148202896118, 0.012685160152614117, 0.0, 0.0, 0.0, 0.0], [0.35445836186408997, 0.5317591428756714, 0.11378252506256104, 0.0, 0.0, 0.0], [0.07823354750871658, 0.7221354246139526, 0.10936666280031204, 0.09026430547237396, 0.0, 0.0], [0.21967977285385132, 0.4048425555229187, 0.12358125299215317, 0.20018845796585083, 0.051708027720451355, 0.0], [0.3608962893486023, 0.10459033399820328, 0.06983856111764908, 0.2976491153240204, 0.13869869709014893, 0.02832690440118313]], [[1.0, 0.0, 0.0, 0.0, 0.0, 0.0], [0.9732162356376648, 0.02678380347788334, 0.0, 0.0, 0.0, 0.0], [0.9167554974555969, 0.06145256385207176, 0.021791864186525345, 0.0, 0.0, 0.0], [0.8543080687522888, 0.08049599826335907, 0.03033498302102089, 0.03486098349094391, 0.0, 0.0], [0.8919219374656677, 0.04280761629343033, 0.02204497717320919, 0.02347058430314064, 0.019754791632294655, 0.0], [0.8116768598556519, 0.034135255962610245, 0.035676565021276474, 0.04748576134443283, 0.025397052988409996, 0.04562852904200554]], [[1.0, 0.0, 0.0, 0.0, 0.0, 0.0], [0.9502761363983154, 0.04972389340400696, 0.0, 0.0, 0.0, 0.0], [0.7637456655502319, 0.20073585212230682, 0.03551848605275154, 0.0, 0.0, 0.0], [0.6279091238975525, 0.037681445479393005, 0.19945426285266876, 0.13495512306690216, 0.0, 0.0], [0.6397063136100769, 0.027007268741726875, 0.0908200666308403, 0.20653849840164185, 0.035927895456552505, 0.0], [0.4559422433376312, 0.02164122648537159, 0.12939609587192535, 0.21800918877124786, 0.10379824787378311, 0.07121308147907257]], [[1.0, 0.0, 0.0, 0.0, 0.0, 0.0], [0.9498405456542969, 0.05015940964221954, 0.0, 0.0, 0.0, 0.0], [0.868872344493866, 0.08722200244665146, 0.04390567168593407, 0.0, 0.0, 0.0], [0.6937950253486633, 0.0635920837521553, 0.09179061651229858, 0.15082226693630219, 0.0, 0.0], [0.72665935754776, 0.043898917734622955, 0.046839889138936996, 0.0985182672739029, 0.08408361673355103, 0.0], [0.7848992943763733, 0.03714786097407341, 0.012907859869301319, 0.010539400391280651, 0.1207919493317604, 0.03371361643075943]], [[1.0, 0.0, 0.0, 0.0, 0.0, 0.0], [0.9891054034233093, 0.010894601233303547, 0.0, 0.0, 0.0, 0.0], [0.8929517269134521, 0.08700069785118103, 0.020047569647431374, 0.0, 0.0, 0.0], [0.7891116738319397, 0.09797289967536926, 0.08633245527744293, 0.026583025231957436, 0.0, 0.0], [0.8850634098052979, 0.03645012155175209, 0.05395462363958359, 0.012377236969769001, 0.012154554948210716, 0.0], [0.6861329674720764, 0.05720377340912819, 0.011636339128017426, 0.021660514175891876, 0.17488019168376923, 0.048486191779375076]], [[1.0, 0.0, 0.0, 0.0, 0.0, 0.0], [0.9396191835403442, 0.06038084626197815, 0.0, 0.0, 0.0, 0.0], [0.7851802110671997, 0.19751368463039398, 0.01730603538453579, 0.0, 0.0, 0.0], [0.7660509347915649, 0.15444675087928772, 0.03188294917345047, 0.047619398683309555, 0.0, 0.0], [0.7035233378410339, 0.05171414464712143, 0.07760990411043167, 0.1533903032541275, 0.013762440532445908, 0.0], [0.7121890783309937, 0.04994228109717369, 0.037725526839494705, 0.0864911675453186, 0.06541400402784348, 0.04823800176382065]], [[1.0, 0.0, 0.0, 0.0, 0.0, 0.0], [0.974072277545929, 0.02592778392136097, 0.0, 0.0, 0.0, 0.0], [0.7925394177436829, 0.011715608648955822, 0.1957450807094574, 0.0, 0.0, 0.0], [0.510676920413971, 0.0072967843152582645, 0.039619989693164825, 0.4424062669277191, 0.0, 0.0], [0.5862475633621216, 0.012099696323275566, 0.024585189297795296, 0.06737826019525528, 0.30968934297561646, 0.0], [0.3019624352455139, 0.007724015973508358, 0.011518118903040886, 0.046947311609983444, 0.22146756947040558, 0.4103805124759674]], [[1.0, 0.0, 0.0, 0.0, 0.0, 0.0], [0.9744554162025452, 0.025544650852680206, 0.0, 0.0, 0.0, 0.0], [0.9769195318222046, 0.015048524364829063, 0.008031905628740788, 0.0, 0.0, 0.0], [0.9060619473457336, 0.025875436142086983, 0.025954799726605415, 0.04210776463150978, 0.0, 0.0], [0.9400081038475037, 0.005556641612201929, 0.005828301887959242, 0.03175778687000275, 0.016849059611558914, 0.0], [0.9105739593505859, 0.001975220162421465, 0.00864673126488924, 0.013360855169594288, 0.035439614206552505, 0.030003702268004417]], [[1.0, 0.0, 0.0, 0.0, 0.0, 0.0], [0.9791666865348816, 0.02083336003124714, 0.0, 0.0, 0.0, 0.0], [0.8444865345954895, 0.13507813215255737, 0.02043537050485611, 0.0, 0.0, 0.0], [0.7903085947036743, 0.1455915868282318, 0.03753011301159859, 0.026569679379463196, 0.0, 0.0], [0.7298930883407593, 0.056496188044548035, 0.032735519111156464, 0.10400445759296417, 0.07687068730592728, 0.0], [0.5684194564819336, 0.04388813301920891, 0.026293432340025902, 0.08117113262414932, 0.2431478202342987, 0.03707992285490036]], [[1.0, 0.0, 0.0, 0.0, 0.0, 0.0], [0.9499867558479309, 0.05001327767968178, 0.0, 0.0, 0.0, 0.0], [0.9336170554161072, 0.05848868936300278, 0.007894262671470642, 0.0, 0.0, 0.0], [0.7897833585739136, 0.11071823537349701, 0.053601812571287155, 0.045896612107753754, 0.0, 0.0], [0.8859302997589111, 0.05752973258495331, 0.013743223622441292, 0.0033877412788569927, 0.03940896317362785, 0.0], [0.9337607622146606, 0.02647065930068493, 0.004523396957665682, 0.006190476473420858, 0.014132960699498653, 0.014921738766133785]], [[1.0, 0.0, 0.0, 0.0, 0.0, 0.0], [1.0, 1.8521648659231005e-09, 0.0, 0.0, 0.0, 0.0], [6.6759544097294565e-06, 0.9999804496765137, 1.2841440366173629e-05, 0.0, 0.0, 0.0], [2.2193095361444648e-08, 2.6684225939987982e-09, 0.9999971389770508, 2.813645323840319e-06, 0.0, 0.0], [1.014504391605442e-06, 4.463997882453441e-08, 0.00035356436274014413, 0.9993677735328674, 0.0002776246110443026, 0.0], [9.436640358018167e-10, 1.3820468207359493e-11, 5.017883331071005e-10, 2.965189649373201e-09, 0.9999971389770508, 2.8644042231462663e-06]]], [[[1.0, 0.0, 0.0, 0.0, 0.0, 0.0], [0.9948632121086121, 0.00513676879927516, 0.0, 0.0, 0.0, 0.0], [0.9274218082427979, 0.018323831260204315, 0.05425433814525604, 0.0, 0.0, 0.0], [0.9678993821144104, 0.004143423866480589, 0.004314443562179804, 0.02364281751215458, 0.0, 0.0], [0.8999069929122925, 0.0014671598328277469, 0.0002913369098678231, 0.0025850164238363504, 0.09574947506189346, 0.0], [0.9386115670204163, 0.00022248194727580994, 0.0006146656814962626, 0.001549562206491828, 0.030689379200339317, 0.028312362730503082]], [[1.0, 0.0, 0.0, 0.0, 0.0, 0.0], [0.9999959468841553, 4.042732143716421e-06, 0.0, 0.0, 0.0, 0.0], [0.9982761144638062, 3.261380015828763e-06, 0.001720654545351863, 0.0, 0.0, 0.0], [0.9998809099197388, 5.328845986696251e-08, 6.376209285008372e-07, 0.0001184712746180594, 0.0, 0.0], [0.9996154308319092, 3.473182630386873e-07, 3.892089495138862e-08, 4.4684205136036326e-07, 0.0003836959949694574, 0.0], [0.9994840621948242, 1.655020476221125e-08, 2.8715447797367233e-08, 1.063829472514044e-06, 0.00021266577823553234, 0.00030212008277885616]], [[1.0, 0.0, 0.0, 0.0, 0.0, 0.0], [0.9514136910438538, 0.048586342483758926, 0.0, 0.0, 0.0, 0.0], [0.5749938488006592, 0.3902819752693176, 0.034724120050668716, 0.0, 0.0, 0.0], [0.7442318797111511, 0.17524129152297974, 0.0756475180387497, 0.004879274405539036, 0.0, 0.0], [0.5232070684432983, 0.09429348260164261, 0.11381889879703522, 0.19979271292686462, 0.06888771802186966, 0.0], [0.4747246205806732, 0.05636608600616455, 0.04530375823378563, 0.06967302411794662, 0.3098028600215912, 0.044129714369773865]], [[1.0, 0.0, 0.0, 0.0, 0.0, 0.0], [0.8734648823738098, 0.1265350878238678, 0.0, 0.0, 0.0, 0.0], [0.6097903847694397, 0.35417357087135315, 0.03603607043623924, 0.0, 0.0, 0.0], [0.4598413407802582, 0.38697943091392517, 0.09960104525089264, 0.05357816070318222, 0.0, 0.0], [0.5722202658653259, 0.23636285960674286, 0.08344557136297226, 0.06921909749507904, 0.03875219449400902, 0.0], [0.5143574476242065, 0.16723066568374634, 0.09019380807876587, 0.0765446349978447, 0.10578073561191559, 0.04589271917939186]], [[1.0, 0.0, 0.0, 0.0, 0.0, 0.0], [0.981228768825531, 0.018771206960082054, 0.0, 0.0, 0.0, 0.0], [0.6142946481704712, 0.3503972887992859, 0.03530803322792053, 0.0, 0.0, 0.0], [0.5770681500434875, 0.328585147857666, 0.05508250370621681, 0.039264287799596786, 0.0, 0.0], [0.17188051342964172, 0.01104250829666853, 0.0545787438750267, 0.7326596975326538, 0.029838480055332184, 0.0], [0.3783011734485626, 0.01707007922232151, 0.021754145622253418, 0.44096922874450684, 0.06093832105398178, 0.08096709847450256]], [[1.0, 0.0, 0.0, 0.0, 0.0, 0.0], [0.9923112988471985, 0.007688724435865879, 0.0, 0.0, 0.0, 0.0], [0.9498788118362427, 0.01670975238084793, 0.03341144323348999, 0.0, 0.0, 0.0], [0.9961295127868652, 0.0008787278202362359, 0.0006868168711662292, 0.0023048471193760633, 0.0, 0.0], [0.9935757517814636, 0.003263498190790415, 0.0009993863059207797, 0.0002793224703054875, 0.0018820592667907476, 0.0], [0.9907532930374146, 0.0002134429814759642, 0.00045952422078698874, 0.0007905601523816586, 0.004424740560352802, 0.0033583587501198053]], [[1.0, 0.0, 0.0, 0.0, 0.0, 0.0], [0.9647740125656128, 0.035226017236709595, 0.0, 0.0, 0.0, 0.0], [0.8194127082824707, 0.13654398918151855, 0.04404325410723686, 0.0, 0.0, 0.0], [0.7584256529808044, 0.006878923159092665, 0.20653289556503296, 0.028162481263279915, 0.0, 0.0], [0.5298117399215698, 0.0026788089890033007, 0.07857980579137802, 0.3598386347293854, 0.029090996831655502, 0.0], [0.7544422149658203, 0.000367822329280898, 0.001971342833712697, 0.003240050282329321, 0.19423367083072662, 0.045744944363832474]], [[1.0, 0.0, 0.0, 0.0, 0.0, 0.0], [0.9749132394790649, 0.02508676052093506, 0.0, 0.0, 0.0, 0.0], [0.9306469559669495, 0.05705677717924118, 0.012296266853809357, 0.0, 0.0, 0.0], [0.9305250644683838, 0.05277109891176224, 0.011119452305138111, 0.005584412254393101, 0.0, 0.0], [0.8863325119018555, 0.012924131937325, 0.017724676057696342, 0.061501774936914444, 0.021516963839530945, 0.0], [0.7916848063468933, 0.015036128461360931, 0.031748007982969284, 0.033922065049409866, 0.03707979992032051, 0.09052911400794983]], [[1.0, 0.0, 0.0, 0.0, 0.0, 0.0], [0.9608501195907593, 0.039149895310401917, 0.0, 0.0, 0.0, 0.0], [0.9121274352073669, 0.022576462477445602, 0.06529607623815536, 0.0, 0.0, 0.0], [0.9364107251167297, 0.015584423206746578, 0.02454494871199131, 0.023459933698177338, 0.0, 0.0], [0.9454619288444519, 0.006762268021702766, 0.02202628180384636, 0.009137776680290699, 0.016611803323030472, 0.0], [0.8346161842346191, 0.0018816986121237278, 0.005609041545540094, 0.018873579800128937, 0.12449228018522263, 0.014527125284075737]], [[1.0, 0.0, 0.0, 0.0, 0.0, 0.0], [0.9964227080345154, 0.003577279159799218, 0.0, 0.0, 0.0, 0.0], [0.9713928699493408, 0.024453019723296165, 0.004154064226895571, 0.0, 0.0, 0.0], [0.9735793471336365, 0.019003361463546753, 0.0036644041538238525, 0.003752902615815401, 0.0, 0.0], [0.9586312174797058, 0.007116193883121014, 0.00921841524541378, 0.02272563800215721, 0.0023084841668605804, 0.0], [0.973607063293457, 0.008490574546158314, 0.003251250134781003, 0.003606440033763647, 0.00487746624276042, 0.006167224142700434]], [[1.0, 0.0, 0.0, 0.0, 0.0, 0.0], [0.97598797082901, 0.02401195652782917, 0.0, 0.0, 0.0, 0.0], [0.9460638165473938, 0.04211371764540672, 0.011822436936199665, 0.0, 0.0, 0.0], [0.8446812629699707, 0.042931076139211655, 0.05218205228447914, 0.060205649584531784, 0.0, 0.0], [0.9378372430801392, 0.033548563718795776, 0.008826437406241894, 0.002879226813092828, 0.016908444464206696, 0.0], [0.8124933838844299, 0.026967506855726242, 0.05999203398823738, 0.03445727005600929, 0.011011837050318718, 0.055078014731407166]], [[1.0, 0.0, 0.0, 0.0, 0.0, 0.0], [0.9001202583312988, 0.09987970441579819, 0.0, 0.0, 0.0, 0.0], [0.6271936297416687, 0.0798870325088501, 0.2929193079471588, 0.0, 0.0, 0.0], [0.7624078989028931, 0.027344314381480217, 0.03867948800325394, 0.17156827449798584, 0.0, 0.0], [0.7995964288711548, 0.014336274936795235, 0.014375649392604828, 0.02543853223323822, 0.14625301957130432, 0.0], [0.7851976156234741, 0.04204041510820389, 0.025253595784306526, 0.02908392995595932, 0.02930619567632675, 0.08911820501089096]]], [[[1.0, 0.0, 0.0, 0.0, 0.0, 0.0], [0.9954467415809631, 0.004553199280053377, 0.0, 0.0, 0.0, 0.0], [0.9356003999710083, 0.04476729780435562, 0.019632311537861824, 0.0, 0.0, 0.0], [0.5605556964874268, 0.09861967712640762, 0.29983240365982056, 0.040992263704538345, 0.0, 0.0], [0.5893710851669312, 0.11000960320234299, 0.08033651113510132, 0.1675403118133545, 0.05274250730872154, 0.0], [0.22305874526500702, 0.05680800974369049, 0.054679784923791885, 0.24733966588974, 0.3111245334148407, 0.10698923468589783]], [[1.0, 0.0, 0.0, 0.0, 0.0, 0.0], [0.930145263671875, 0.06985479593276978, 0.0, 0.0, 0.0, 0.0], [0.8936479687690735, 0.08535707741975784, 0.02099497988820076, 0.0, 0.0, 0.0], [0.8404536843299866, 0.10619218647480011, 0.023636745288968086, 0.029717400670051575, 0.0, 0.0], [0.8927384614944458, 0.024784736335277557, 0.008319011889398098, 0.051654521375894547, 0.022503184154629707, 0.0], [0.8646607398986816, 0.009503203444182873, 0.0024329889565706253, 0.0479675717651844, 0.04273219779133797, 0.03270340338349342]], [[1.0, 0.0, 0.0, 0.0, 0.0, 0.0], [0.9859625697135925, 0.01403739582747221, 0.0, 0.0, 0.0, 0.0], [0.9702037572860718, 0.016807053238153458, 0.012989125214517117, 0.0, 0.0, 0.0], [0.9524770379066467, 0.016064444556832314, 0.013456208631396294, 0.018002275377511978, 0.0, 0.0], [0.9332928657531738, 0.018971996381878853, 0.020146800205111504, 0.017023755237460136, 0.010564549826085567, 0.0], [0.9113593697547913, 0.012528621591627598, 0.022096160799264908, 0.017518602311611176, 0.01851789653301239, 0.01797935739159584]], [[1.0, 0.0, 0.0, 0.0, 0.0, 0.0], [0.9681769013404846, 0.03182306885719299, 0.0, 0.0, 0.0, 0.0], [0.9096420407295227, 0.07916675508022308, 0.01119122002273798, 0.0, 0.0, 0.0], [0.8379936218261719, 0.13078244030475616, 0.012140966951847076, 0.019082987681031227, 0.0, 0.0], [0.9116523265838623, 0.05451968312263489, 0.009499367326498032, 0.007465865928679705, 0.0168627742677927, 0.0], [0.8510286211967468, 0.07338224351406097, 0.008022508583962917, 0.0090831583365798, 0.04261009022593498, 0.015873335301876068]], [[1.0, 0.0, 0.0, 0.0, 0.0, 0.0], [0.9799023866653442, 0.02009766735136509, 0.0, 0.0, 0.0, 0.0], [0.9558742642402649, 0.02906324341893196, 0.015062490478157997, 0.0, 0.0, 0.0], [0.7943134903907776, 0.06074084714055061, 0.06907659769058228, 0.07586907595396042, 0.0, 0.0], [0.549432635307312, 0.03154708072543144, 0.05482013151049614, 0.05788073316216469, 0.3063194751739502, 0.0], [0.6453981995582581, 0.010770930908620358, 0.017528066411614418, 0.021579813212156296, 0.24958287179470062, 0.05514011159539223]], [[1.0, 0.0, 0.0, 0.0, 0.0, 0.0], [0.9506809115409851, 0.049319084733724594, 0.0, 0.0, 0.0, 0.0], [0.8553215265274048, 0.09256269037723541, 0.0521157942712307, 0.0, 0.0, 0.0], [0.8508521914482117, 0.047346025705337524, 0.04417738318443298, 0.057624273002147675, 0.0, 0.0], [0.769713282585144, 0.027885802090168, 0.031017282977700233, 0.06842492520809174, 0.1029588058590889, 0.0], [0.7931896448135376, 0.04052203521132469, 0.02924216166138649, 0.04478142037987709, 0.04894714802503586, 0.0433175265789032]], [[1.0, 0.0, 0.0, 0.0, 0.0, 0.0], [0.9770310521125793, 0.022968897596001625, 0.0, 0.0, 0.0, 0.0], [0.9429817199707031, 0.017321448773145676, 0.03969679772853851, 0.0, 0.0, 0.0], [0.9144346117973328, 0.008583561517298222, 0.01303580030798912, 0.06394593417644501, 0.0, 0.0], [0.9222431182861328, 0.003644014475867152, 0.0037402601446956396, 0.010410326533019543, 0.059962186962366104, 0.0], [0.9198878407478333, 0.003082263981923461, 0.003482743864879012, 0.004206800367683172, 0.02125428430736065, 0.04808593541383743]], [[1.0, 0.0, 0.0, 0.0, 0.0, 0.0], [0.977458119392395, 0.02254187874495983, 0.0, 0.0, 0.0, 0.0], [0.8929328918457031, 0.07475443929433823, 0.032312702387571335, 0.0, 0.0, 0.0], [0.8423510193824768, 0.05980285257101059, 0.03740086778998375, 0.06044526770710945, 0.0, 0.0], [0.7674633860588074, 0.03536340221762657, 0.04215511307120323, 0.06658637523651123, 0.08843174576759338, 0.0], [0.6182615756988525, 0.016110621392726898, 0.020167674869298935, 0.038688987493515015, 0.23146961629390717, 0.07530146837234497]], [[1.0, 0.0, 0.0, 0.0, 0.0, 0.0], [0.9634855389595032, 0.03651440888643265, 0.0, 0.0, 0.0, 0.0], [0.436394065618515, 0.5226369500160217, 0.04096900299191475, 0.0, 0.0, 0.0], [0.36086204648017883, 0.35129672288894653, 0.26551008224487305, 0.022331133484840393, 0.0, 0.0], [0.3942919969558716, 0.021704576909542084, 0.07794345170259476, 0.371689110994339, 0.13437089323997498, 0.0], [0.6310717463493347, 0.01698395237326622, 0.025942062959074974, 0.08615921437740326, 0.21832016110420227, 0.021522924304008484]], [[1.0, 0.0, 0.0, 0.0, 0.0, 0.0], [0.9988250136375427, 0.0011750231496989727, 0.0, 0.0, 0.0, 0.0], [0.9944871068000793, 0.000482639909023419, 0.005030225962400436, 0.0, 0.0, 0.0], [0.9981209635734558, 2.7051655706600286e-05, 0.00011307407839922234, 0.001738940947689116, 0.0, 0.0], [0.9982239603996277, 6.836539250798523e-05, 0.00010199935059063137, 6.0283757193246856e-05, 0.0015453092055395246, 0.0], [0.9982888102531433, 1.0552176945566316e-06, 3.2780902984086424e-05, 0.0001303898898186162, 0.0006605862872675061, 0.000886370544321835]], [[1.0, 0.0, 0.0, 0.0, 0.0, 0.0], [0.9936710596084595, 0.006328933872282505, 0.0, 0.0, 0.0, 0.0], [0.9727688431739807, 0.0018561359029263258, 0.02537502348423004, 0.0, 0.0, 0.0], [0.9724299907684326, 0.0019586102571338415, 0.01119242887943983, 0.014418876729905605, 0.0, 0.0], [0.9782042503356934, 0.0009589148685336113, 0.0018706422997638583, 0.0063265482895076275, 0.012639685533940792, 0.0], [0.9592596888542175, 0.002455511363223195, 0.0016124127432703972, 0.005019662901759148, 0.006687106564640999, 0.02496572956442833]], [[1.0, 0.0, 0.0, 0.0, 0.0, 0.0], [0.9629000425338745, 0.03709998354315758, 0.0, 0.0, 0.0, 0.0], [0.36802032589912415, 0.6152248978614807, 0.01675480231642723, 0.0, 0.0, 0.0], [0.31735140085220337, 0.6140010952949524, 0.05375145375728607, 0.014896024018526077, 0.0, 0.0], [0.48987409472465515, 0.2107144147157669, 0.04693012684583664, 0.2070036381483078, 0.045477718114852905, 0.0], [0.48774197697639465, 0.17695266008377075, 0.06915228813886642, 0.09849292784929276, 0.12091460824012756, 0.046745505183935165]]], [[[1.0, 0.0, 0.0, 0.0, 0.0, 0.0], [0.9794419407844543, 0.020558081567287445, 0.0, 0.0, 0.0, 0.0], [0.6677896976470947, 0.3103243112564087, 0.021885978057980537, 0.0, 0.0, 0.0], [0.7118754982948303, 0.11108577996492386, 0.14187368750572205, 0.03516502305865288, 0.0, 0.0], [0.4501466453075409, 0.04036051407456398, 0.04045809805393219, 0.388569712638855, 0.08046497404575348, 0.0], [0.49346205592155457, 0.013696962036192417, 0.008126786909997463, 0.13074524700641632, 0.30861392617225647, 0.0453549288213253]], [[1.0, 0.0, 0.0, 0.0, 0.0, 0.0], [0.9846054315567017, 0.015394587069749832, 0.0, 0.0, 0.0, 0.0], [0.9806739091873169, 0.007713802624493837, 0.011612330563366413, 0.0, 0.0, 0.0], [0.932663083076477, 0.01957840472459793, 0.024103526026010513, 0.023654978722333908, 0.0, 0.0], [0.9422016739845276, 0.000953894981648773, 0.001089797937311232, 0.0031933661084622145, 0.05256117507815361, 0.0], [0.9352930784225464, 0.0010279362322762609, 0.004444435704499483, 0.0016371386591345072, 0.010590998455882072, 0.04700643941760063]], [[1.0, 0.0, 0.0, 0.0, 0.0, 0.0], [0.9985783100128174, 0.0014216711279004812, 0.0, 0.0, 0.0, 0.0], [0.9893348813056946, 0.0011178918648511171, 0.00954714696854353, 0.0, 0.0, 0.0], [0.9979978203773499, 7.997042848728597e-05, 0.00013218824460636824, 0.001790030742995441, 0.0, 0.0], [0.9986976385116577, 4.104392428416759e-05, 3.868336079904111e-06, 2.3676124328630976e-05, 0.0012337067164480686, 0.0], [0.9971562623977661, 1.8522143363952637e-05, 1.8826503946911544e-06, 2.7900070563191548e-05, 0.0006533453706651926, 0.00214198580943048]], [[1.0, 0.0, 0.0, 0.0, 0.0, 0.0], [0.9768233299255371, 0.0231766514480114, 0.0, 0.0, 0.0, 0.0], [0.9194678068161011, 0.05088193342089653, 0.02965029701590538, 0.0, 0.0, 0.0], [0.8474552035331726, 0.06100180000066757, 0.04372377693653107, 0.04781920090317726, 0.0, 0.0], [0.80116206407547, 0.04186709225177765, 0.043758079409599304, 0.04189474135637283, 0.07131799310445786, 0.0], [0.8031867742538452, 0.024504976347088814, 0.017323540523648262, 0.047443944960832596, 0.06109954044222832, 0.046441227197647095]], [[1.0, 0.0, 0.0, 0.0, 0.0, 0.0], [0.9829428195953369, 0.017057159915566444, 0.0, 0.0, 0.0, 0.0], [0.8863736391067505, 0.09492658078670502, 0.01869978941977024, 0.0, 0.0, 0.0], [0.9231084585189819, 0.036963507533073425, 0.032198384404182434, 0.007729663047939539, 0.0, 0.0], [0.9068530201911926, 0.016046568751335144, 0.014310486614704132, 0.045437708497047424, 0.01735224761068821, 0.0], [0.6555964946746826, 0.05091029033064842, 0.028384972363710403, 0.1256554126739502, 0.10546893626451492, 0.03398393094539642]], [[1.0, 0.0, 0.0, 0.0, 0.0, 0.0], [0.9502319693565369, 0.04976798966526985, 0.0, 0.0, 0.0, 0.0], [0.8829867243766785, 0.1000962033867836, 0.0169171504676342, 0.0, 0.0, 0.0], [0.8057458400726318, 0.1446353793144226, 0.030189229175448418, 0.01942947693169117, 0.0, 0.0], [0.8706232905387878, 0.03244058042764664, 0.02695159800350666, 0.04410297051072121, 0.025881554931402206, 0.0], [0.6883641481399536, 0.009681464172899723, 0.016449343413114548, 0.09871139377355576, 0.089711993932724, 0.09708157181739807]], [[1.0, 0.0, 0.0, 0.0, 0.0, 0.0], [0.9792683720588684, 0.020731642842292786, 0.0, 0.0, 0.0, 0.0], [0.9523284435272217, 0.025933818891644478, 0.02173774503171444, 0.0, 0.0, 0.0], [0.9144353866577148, 0.017671259120106697, 0.02235853485763073, 0.04553481936454773, 0.0, 0.0], [0.9448292851448059, 0.006467597559094429, 0.00638606958091259, 0.03263094648718834, 0.009686185047030449, 0.0], [0.9347907304763794, 0.007862490601837635, 0.007788168732076883, 0.02143281139433384, 0.008491125889122486, 0.019634753465652466]], [[1.0, 0.0, 0.0, 0.0, 0.0, 0.0], [0.983370304107666, 0.016629677265882492, 0.0, 0.0, 0.0, 0.0], [0.963111400604248, 0.009229958057403564, 0.02765868604183197, 0.0, 0.0, 0.0], [0.9706627130508423, 0.004149408545345068, 0.006813110783696175, 0.018374674022197723, 0.0, 0.0], [0.987951934337616, 0.0021658889017999172, 0.00034901112667284906, 0.001583817764185369, 0.007949454709887505, 0.0], [0.9457950592041016, 0.014583594165742397, 0.00036529634962789714, 0.0009569560061208904, 0.01362164318561554, 0.02467755600810051]], [[1.0, 0.0, 0.0, 0.0, 0.0, 0.0], [0.9878059029579163, 0.01219407469034195, 0.0, 0.0, 0.0, 0.0], [0.87103670835495, 0.09448172152042389, 0.03448154032230377, 0.0, 0.0, 0.0], [0.6309778094291687, 0.11090414971113205, 0.1923023909330368, 0.06581570208072662, 0.0, 0.0], [0.536049485206604, 0.04618944600224495, 0.13605298101902008, 0.2645547389984131, 0.017153309658169746, 0.0], [0.8287509679794312, 0.023732870817184448, 0.02008051984012127, 0.07245315611362457, 0.030431464314460754, 0.02455105073750019]], [[1.0, 0.0, 0.0, 0.0, 0.0, 0.0], [0.8995686173439026, 0.10043131560087204, 0.0, 0.0, 0.0, 0.0], [0.2703428566455841, 0.6504335999488831, 0.07922352105379105, 0.0, 0.0, 0.0], [0.20541711151599884, 0.5892512798309326, 0.18085816502571106, 0.02447347342967987, 0.0, 0.0], [0.5573875308036804, 0.17741315066814423, 0.08806775510311127, 0.09881804883480072, 0.07831356674432755, 0.0], [0.5922895669937134, 0.08700674772262573, 0.056432995945215225, 0.056859035044908524, 0.12181559205055237, 0.08559611439704895]], [[1.0, 0.0, 0.0, 0.0, 0.0, 0.0], [0.9316381812095642, 0.06836182624101639, 0.0, 0.0, 0.0, 0.0], [0.9572945833206177, 0.026243532076478004, 0.016461802646517754, 0.0, 0.0, 0.0], [0.9880543351173401, 0.004273318685591221, 0.00295458547770977, 0.004717651288956404, 0.0, 0.0], [0.99403977394104, 0.000941340287681669, 0.00047398245078511536, 0.00011646942584775388, 0.00442844070494175, 0.0], [0.9806035161018372, 2.5468911189818755e-05, 0.0001623944117454812, 0.0001476418401580304, 0.0013442436465993524, 0.017716852948069572]], [[1.0, 0.0, 0.0, 0.0, 0.0, 0.0], [0.993178129196167, 0.006821844726800919, 0.0, 0.0, 0.0, 0.0], [0.9756524562835693, 0.013184132054448128, 0.011163444258272648, 0.0, 0.0, 0.0], [0.9418966770172119, 0.004721746779978275, 0.002381807891651988, 0.050999730825424194, 0.0, 0.0], [0.9905040860176086, 0.002284812740981579, 6.19848578935489e-05, 0.0005984462331980467, 0.006550672929733992, 0.0], [0.9697661399841309, 0.000887883419636637, 0.0002346667170058936, 0.0017040761886164546, 0.0041283429600298405, 0.02327892556786537]]], [[[1.0, 0.0, 0.0, 0.0, 0.0, 0.0], [0.9716230630874634, 0.028376862406730652, 0.0, 0.0, 0.0, 0.0], [0.9223620295524597, 0.02890731953084469, 0.04873072728514671, 0.0, 0.0, 0.0], [0.8426315188407898, 0.02387218363583088, 0.04748133569955826, 0.08601491153240204, 0.0, 0.0], [0.8521119356155396, 0.020744262263178825, 0.04494621232151985, 0.05765008181333542, 0.024547463282942772, 0.0], [0.8800726532936096, 0.022448528558015823, 0.0182357095181942, 0.01925479806959629, 0.015854258090257645, 0.04413406178355217]], [[1.0, 0.0, 0.0, 0.0, 0.0, 0.0], [0.941272497177124, 0.05872756615281105, 0.0, 0.0, 0.0, 0.0], [0.9163137674331665, 0.05759214982390404, 0.02609407715499401, 0.0, 0.0, 0.0], [0.8392423391342163, 0.057690564543008804, 0.013829056173563004, 0.08923804014921188, 0.0, 0.0], [0.8987159132957458, 0.013477896340191364, 0.0003456455597188324, 0.0032987503800541162, 0.08416174352169037, 0.0], [0.8701689839363098, 0.0027008685283362865, 0.0014350005658343434, 0.005666173063218594, 0.08874321728944778, 0.03128569945693016]], [[1.0, 0.0, 0.0, 0.0, 0.0, 0.0], [0.9656725525856018, 0.03432749956846237, 0.0, 0.0, 0.0, 0.0], [0.9178615212440491, 0.06225799024105072, 0.019880477339029312, 0.0, 0.0, 0.0], [0.8233147263526917, 0.06282400339841843, 0.03670433908700943, 0.07715694606304169, 0.0, 0.0], [0.8501747846603394, 0.03816928714513779, 0.03196496143937111, 0.051601409912109375, 0.028089608997106552, 0.0], [0.6572403311729431, 0.05877407640218735, 0.04336009547114372, 0.09013213962316513, 0.08146581053733826, 0.06902759522199631]], [[1.0, 0.0, 0.0, 0.0, 0.0, 0.0], [0.916206419467926, 0.08379366248846054, 0.0, 0.0, 0.0, 0.0], [0.9451773762702942, 0.040992848575115204, 0.013829832896590233, 0.0, 0.0, 0.0], [0.8928353786468506, 0.053686778992414474, 0.01759696938097477, 0.035880763083696365, 0.0, 0.0], [0.8337050676345825, 0.047996193170547485, 0.033513277769088745, 0.0468086376786232, 0.03797684982419014, 0.0], [0.8167192935943604, 0.06337139755487442, 0.013286284171044827, 0.02046976424753666, 0.02529226616024971, 0.060861021280288696]], [[1.0, 0.0, 0.0, 0.0, 0.0, 0.0], [0.9525133371353149, 0.04748663306236267, 0.0, 0.0, 0.0, 0.0], [0.30198565125465393, 0.6520951390266418, 0.04591915383934975, 0.0, 0.0, 0.0], [0.2855828106403351, 0.556952714920044, 0.1444740742444992, 0.012990467250347137, 0.0, 0.0], [0.843804121017456, 0.03225132077932358, 0.039542920887470245, 0.06848154217004776, 0.015920113772153854, 0.0], [0.6664931774139404, 0.06095920875668526, 0.040643539279699326, 0.06804481148719788, 0.091863714158535, 0.07199551910161972]], [[1.0, 0.0, 0.0, 0.0, 0.0, 0.0], [0.9682655334472656, 0.03173450753092766, 0.0, 0.0, 0.0, 0.0], [0.7385212779045105, 0.22856910526752472, 0.03290952742099762, 0.0, 0.0, 0.0], [0.5946677327156067, 0.23033203184604645, 0.14867573976516724, 0.0263245590031147, 0.0, 0.0], [0.6339264512062073, 0.05813034996390343, 0.09654263406991959, 0.14291918277740479, 0.06848139315843582, 0.0], [0.40375763177871704, 0.08945395052433014, 0.07635059952735901, 0.2558702528476715, 0.143303781747818, 0.03126388043165207]], [[1.0, 0.0, 0.0, 0.0, 0.0, 0.0], [0.9869793653488159, 0.013020618818700314, 0.0, 0.0, 0.0, 0.0], [0.8631381988525391, 0.11056685447692871, 0.026294859126210213, 0.0, 0.0, 0.0], [0.9488077759742737, 0.028615077957510948, 0.006535578519105911, 0.016041584312915802, 0.0, 0.0], [0.9672170877456665, 0.0066050090827047825, 0.0004517168563324958, 0.00484442850574851, 0.020881779491901398, 0.0], [0.935462236404419, 0.020478058606386185, 0.0011700248578563333, 0.007056940346956253, 0.016318142414093018, 0.019514648243784904]], [[1.0, 0.0, 0.0, 0.0, 0.0, 0.0], [0.9846673011779785, 0.015332731418311596, 0.0, 0.0, 0.0, 0.0], [0.9052744507789612, 0.08373633772134781, 0.010989238508045673, 0.0, 0.0, 0.0], [0.8145939111709595, 0.04283757507801056, 0.10568278282880783, 0.03688571974635124, 0.0, 0.0], [0.2351974993944168, 0.012018464505672455, 0.05280103161931038, 0.6516190767288208, 0.04836394265294075, 0.0], [0.31818678975105286, 0.01863241195678711, 0.03948178514838219, 0.37555405497550964, 0.20787228643894196, 0.04027271643280983]], [[1.0, 0.0, 0.0, 0.0, 0.0, 0.0], [0.9811733365058899, 0.018826670944690704, 0.0, 0.0, 0.0, 0.0], [0.861893892288208, 0.0647917091846466, 0.07331448048353195, 0.0, 0.0, 0.0], [0.76645427942276, 0.0733042061328888, 0.10353509336709976, 0.056706491857767105, 0.0, 0.0], [0.8128495216369629, 0.032154906541109085, 0.059005673974752426, 0.05416529253125191, 0.04182451218366623, 0.0], [0.8687860369682312, 0.02698778361082077, 0.020469920709729195, 0.016297336667776108, 0.032183751463890076, 0.03527512773871422]], [[1.0, 0.0, 0.0, 0.0, 0.0, 0.0], [0.9264582395553589, 0.07354173809289932, 0.0, 0.0, 0.0, 0.0], [0.840353786945343, 0.06373772770166397, 0.09590853005647659, 0.0, 0.0, 0.0], [0.7330994009971619, 0.06451129913330078, 0.10380078107118607, 0.09858854860067368, 0.0, 0.0], [0.9143610596656799, 0.008257806301116943, 0.0073203942738473415, 0.01796630024909973, 0.0520944744348526, 0.0], [0.8971914052963257, 0.00855550542473793, 0.00701944250613451, 0.014860549010336399, 0.03399764746427536, 0.03837539255619049]], [[1.0, 0.0, 0.0, 0.0, 0.0, 0.0], [0.9180347919464111, 0.08196517825126648, 0.0, 0.0, 0.0, 0.0], [0.8328663110733032, 0.12199045717716217, 0.04514322802424431, 0.0, 0.0, 0.0], [0.7994157075881958, 0.08744136989116669, 0.03605782240629196, 0.07708510011434555, 0.0, 0.0], [0.8809850811958313, 0.02074965462088585, 0.02055458165705204, 0.017120804637670517, 0.060589853674173355, 0.0], [0.7453038096427917, 0.04433399811387062, 0.022549230605363846, 0.033152706921100616, 0.033570412546396255, 0.12108983844518661]], [[1.0, 0.0, 0.0, 0.0, 0.0, 0.0], [0.9867060780525208, 0.01329390611499548, 0.0, 0.0, 0.0, 0.0], [0.982177734375, 0.012414154596626759, 0.005408106371760368, 0.0, 0.0, 0.0], [0.9630486369132996, 0.015290774405002594, 0.010345688089728355, 0.0113149369135499, 0.0, 0.0], [0.9213568568229675, 0.014132523909211159, 0.017639199271798134, 0.016567712649703026, 0.030303746461868286, 0.0], [0.9373326301574707, 0.009064325131475925, 0.007548368535935879, 0.0065764556638896465, 0.011827611364424229, 0.02765042893588543]]], [[[1.0, 0.0, 0.0, 0.0, 0.0, 0.0], [0.9951004385948181, 0.00489962799474597, 0.0, 0.0, 0.0, 0.0], [0.9476008415222168, 0.04140787199139595, 0.010991276241838932, 0.0, 0.0, 0.0], [0.9142176508903503, 0.023523757234215736, 0.03914502263069153, 0.023113597184419632, 0.0, 0.0], [0.9534734487533569, 0.008932976052165031, 0.015272845514118671, 0.007908293046057224, 0.014412349089980125, 0.0], [0.9427104592323303, 0.00823305081576109, 0.004650995135307312, 0.004178098868578672, 0.005463507492095232, 0.034764066338539124]], [[1.0, 0.0, 0.0, 0.0, 0.0, 0.0], [0.9543376564979553, 0.045662350952625275, 0.0, 0.0, 0.0, 0.0], [0.9696040749549866, 0.0195475947111845, 0.01084828469902277, 0.0, 0.0, 0.0], [0.9710449576377869, 0.012425409629940987, 0.008068892173469067, 0.008460723794996738, 0.0, 0.0], [0.9726192951202393, 0.0026976573280990124, 0.00044831327977590263, 0.0013814778067171574, 0.02285320870578289, 0.0], [0.9675466418266296, 0.009613442234694958, 0.0032030290458351374, 0.004248831421136856, 0.007442246191203594, 0.007945886813104153]], [[1.0, 0.0, 0.0, 0.0, 0.0, 0.0], [0.9887008666992188, 0.011299126781523228, 0.0, 0.0, 0.0, 0.0], [0.9382632374763489, 0.04204241931438446, 0.019694417715072632, 0.0, 0.0, 0.0], [0.8351995348930359, 0.03487851470708847, 0.05134478211402893, 0.07857710868120193, 0.0, 0.0], [0.9042678475379944, 0.010541561990976334, 0.016426727175712585, 0.025921905413269997, 0.04284193366765976, 0.0], [0.891313910484314, 0.008912662044167519, 0.005010703112930059, 0.008175615221261978, 0.01351472083479166, 0.07307230681180954]], [[1.0, 0.0, 0.0, 0.0, 0.0, 0.0], [0.8693915605545044, 0.1306084245443344, 0.0, 0.0, 0.0, 0.0], [0.35079917311668396, 0.6063516736030579, 0.042849138379096985, 0.0, 0.0, 0.0], [0.3547559380531311, 0.35020264983177185, 0.2472241073846817, 0.04781728610396385, 0.0, 0.0], [0.35370683670043945, 0.03527742996811867, 0.09567112475633621, 0.44979581236839294, 0.0655488669872284, 0.0], [0.41325855255126953, 0.09055539220571518, 0.052865736186504364, 0.1746799349784851, 0.17384864389896393, 0.0947917178273201]], [[1.0, 0.0, 0.0, 0.0, 0.0, 0.0], [0.9629756212234497, 0.03702430799603462, 0.0, 0.0, 0.0, 0.0], [0.9756426811218262, 0.019658533856272697, 0.004698712844401598, 0.0, 0.0, 0.0], [0.9775736331939697, 0.013286279514431953, 0.002559040440246463, 0.006581087596714497, 0.0, 0.0], [0.9870141744613647, 0.007388256955891848, 0.0009579203906469047, 0.0018318315269425511, 0.0028077636379748583, 0.0], [0.9409245848655701, 0.016633691266179085, 0.0022979089990258217, 0.005890648812055588, 0.005512927658855915, 0.02874019183218479]], [[1.0, 0.0, 0.0, 0.0, 0.0, 0.0], [0.962827205657959, 0.03717277944087982, 0.0, 0.0, 0.0, 0.0], [0.9582238793373108, 0.02464180253446102, 0.017134379595518112, 0.0, 0.0, 0.0], [0.9351300001144409, 0.015331573784351349, 0.014810995198786259, 0.034727465361356735, 0.0, 0.0], [0.9225171208381653, 0.010528765618801117, 0.011010159738361835, 0.01944003254175186, 0.03650381788611412, 0.0], [0.8420169353485107, 0.043571922928094864, 0.0074882605113089085, 0.014961509965360165, 0.023852799087762833, 0.06810860335826874]], [[1.0, 0.0, 0.0, 0.0, 0.0, 0.0], [0.9926387071609497, 0.007361325901001692, 0.0, 0.0, 0.0, 0.0], [0.9957393407821655, 0.0033469756599515676, 0.00091368897119537, 0.0, 0.0, 0.0], [0.9869900345802307, 0.0019747877959161997, 0.0015245546819642186, 0.009510695934295654, 0.0, 0.0], [0.9933527708053589, 0.0010203277925029397, 0.00034337356919422746, 0.0010291136568412185, 0.004254389554262161, 0.0], [0.9749016761779785, 0.00043480086605995893, 0.000430655520176515, 0.0012364384019747376, 0.0015347721055150032, 0.021461637690663338]], [[1.0, 0.0, 0.0, 0.0, 0.0, 0.0], [0.9897475242614746, 0.010252462700009346, 0.0, 0.0, 0.0, 0.0], [0.9790639281272888, 0.0165090411901474, 0.004427086561918259, 0.0, 0.0, 0.0], [0.9521436095237732, 0.029432401061058044, 0.008943170309066772, 0.00948092807084322, 0.0, 0.0], [0.939594030380249, 0.021510934457182884, 0.010278547182679176, 0.004555226769298315, 0.02406117506325245, 0.0], [0.9205074310302734, 0.016153667122125626, 0.010818608105182648, 0.01664440892636776, 0.014566424302756786, 0.021309474483132362]], [[1.0, 0.0, 0.0, 0.0, 0.0, 0.0], [0.9898501634597778, 0.010149780660867691, 0.0, 0.0, 0.0, 0.0], [0.9820910096168518, 0.006907520350068808, 0.01100152451545, 0.0, 0.0, 0.0], [0.9684997200965881, 0.0089876102283597, 0.015342586673796177, 0.007170100696384907, 0.0, 0.0], [0.9274120330810547, 0.009485266171395779, 0.02206609584391117, 0.03222886845469475, 0.008807632140815258, 0.0], [0.9006661176681519, 0.021623697131872177, 0.01380823738873005, 0.009843830019235611, 0.008521330542862415, 0.04553677514195442]], [[1.0, 0.0, 0.0, 0.0, 0.0, 0.0], [0.9954444169998169, 0.004555596504360437, 0.0, 0.0, 0.0, 0.0], [0.995254397392273, 0.0024602413177490234, 0.002285490045323968, 0.0, 0.0, 0.0], [0.9862446188926697, 0.0015168158570304513, 0.004072302021086216, 0.008166349492967129, 0.0, 0.0], [0.9889963865280151, 0.001226044842042029, 0.0007996394415386021, 0.0006774252979084849, 0.008300590328872204, 0.0], [0.9865202903747559, 0.0003942711919080466, 0.0009571785922162235, 0.0004954362520948052, 0.0009604947408661246, 0.010672245174646378]], [[1.0, 0.0, 0.0, 0.0, 0.0, 0.0], [0.9821295142173767, 0.017870502546429634, 0.0, 0.0, 0.0, 0.0], [0.7489439845085144, 0.22002682089805603, 0.03102920390665531, 0.0, 0.0, 0.0], [0.28547781705856323, 0.2112567275762558, 0.47871631383895874, 0.024549204856157303, 0.0, 0.0], [0.8056637644767761, 0.026974724605679512, 0.043028295040130615, 0.06993727385997772, 0.054395921528339386, 0.0], [0.330722451210022, 0.02232658676803112, 0.016627112403512, 0.08019431680440903, 0.4157470166683197, 0.1343824714422226]], [[1.0, 0.0, 0.0, 0.0, 0.0, 0.0], [0.9697746634483337, 0.030225297436118126, 0.0, 0.0, 0.0, 0.0], [0.9800564646720886, 0.015018912963569164, 0.0049245283007621765, 0.0, 0.0, 0.0], [0.9237860441207886, 0.052764881402254105, 0.006302407011389732, 0.01714676059782505, 0.0, 0.0], [0.9451842904090881, 0.036180511116981506, 0.001989206997677684, 0.003958722110837698, 0.01268728543072939, 0.0], [0.9633328318595886, 0.018662987276911736, 0.0030418396927416325, 0.007070907857269049, 0.005009414628148079, 0.0028820661827921867]]], [[[1.0, 0.0, 0.0, 0.0, 0.0, 0.0], [0.987324595451355, 0.012675454840064049, 0.0, 0.0, 0.0, 0.0], [0.9904569983482361, 0.005541946738958359, 0.004001118708401918, 0.0, 0.0, 0.0], [0.9814971685409546, 0.004653455223888159, 0.003725284244865179, 0.010124069638550282, 0.0, 0.0], [0.9744364619255066, 0.004632257390767336, 0.0023800015915185213, 0.006518098991364241, 0.012033062055706978, 0.0], [0.9624499678611755, 0.0033743486274033785, 0.0013198546366766095, 0.001727494178339839, 0.002944669686257839, 0.02818373031914234]], [[1.0, 0.0, 0.0, 0.0, 0.0, 0.0], [0.9807673692703247, 0.019232604652643204, 0.0, 0.0, 0.0, 0.0], [0.9664247035980225, 0.0154139194637537, 0.018161440268158913, 0.0, 0.0, 0.0], [0.9632682204246521, 0.0045381286181509495, 0.002925402484834194, 0.029268257319927216, 0.0, 0.0], [0.9562349319458008, 0.001222362625412643, 0.0005304080550558865, 0.008671486750245094, 0.033340875059366226, 0.0], [0.9657101035118103, 0.0009808274917304516, 0.001668625045567751, 0.002634829841554165, 0.0058663529343903065, 0.02313930168747902]], [[1.0, 0.0, 0.0, 0.0, 0.0, 0.0], [0.9639714956283569, 0.036028504371643066, 0.0, 0.0, 0.0, 0.0], [0.9562799334526062, 0.033733174204826355, 0.009986845776438713, 0.0, 0.0, 0.0], [0.8539995551109314, 0.0807303637266159, 0.033344488590955734, 0.031925566494464874, 0.0, 0.0], [0.9547489881515503, 0.009605047293007374, 0.0041461666114628315, 0.002013322664424777, 0.029486436396837234, 0.0], [0.933113694190979, 0.028699694201350212, 0.005477470345795155, 0.006368072237819433, 0.012613045983016491, 0.013728052377700806]], [[1.0, 0.0, 0.0, 0.0, 0.0, 0.0], [0.9392993450164795, 0.06070062145590782, 0.0, 0.0, 0.0, 0.0], [0.929839015007019, 0.061895400285720825, 0.008265486918389797, 0.0, 0.0, 0.0], [0.8471820950508118, 0.09035065770149231, 0.017636140808463097, 0.044831179082393646, 0.0, 0.0], [0.8857701420783997, 0.039181798696517944, 0.007867720909416676, 0.022765889763832092, 0.04441440477967262, 0.0], [0.8563281893730164, 0.10088986903429031, 0.00653144670650363, 0.008485907688736916, 0.007368424441665411, 0.02039625309407711]], [[1.0, 0.0, 0.0, 0.0, 0.0, 0.0], [0.8353266716003418, 0.1646733283996582, 0.0, 0.0, 0.0, 0.0], [0.6160860657691956, 0.31376469135284424, 0.0701492428779602, 0.0, 0.0, 0.0], [0.34316298365592957, 0.2758493721485138, 0.11966051161289215, 0.26132720708847046, 0.0, 0.0], [0.5908160209655762, 0.05029086396098137, 0.04166605696082115, 0.21995003521442413, 0.09727700054645538, 0.0], [0.848141610622406, 0.0631808191537857, 0.01473367027938366, 0.05526738986372948, 0.009014980867505074, 0.009661641903221607]], [[1.0, 0.0, 0.0, 0.0, 0.0, 0.0], [0.9627320766448975, 0.037267956882715225, 0.0, 0.0, 0.0, 0.0], [0.7757523655891418, 0.17996273934841156, 0.04428495839238167, 0.0, 0.0, 0.0], [0.631705105304718, 0.24380777776241302, 0.1092567965388298, 0.015230271965265274, 0.0, 0.0], [0.9539908766746521, 0.01818234659731388, 0.011601815931499004, 0.012299075722694397, 0.003925770055502653, 0.0], [0.4035697877407074, 0.14237582683563232, 0.056612201035022736, 0.19757334887981415, 0.09299194067716599, 0.10687695443630219]], [[1.0, 0.0, 0.0, 0.0, 0.0, 0.0], [0.9802618026733398, 0.019738147035241127, 0.0, 0.0, 0.0, 0.0], [0.98739093542099, 0.007800445891916752, 0.004808679223060608, 0.0, 0.0, 0.0], [0.9283918738365173, 0.00830123107880354, 0.013305670581758022, 0.05000120773911476, 0.0, 0.0], [0.8981050848960876, 0.015591373667120934, 0.010177625343203545, 0.039987169206142426, 0.03613876551389694, 0.0], [0.975350022315979, 0.0003543302300386131, 0.0005866029532626271, 0.001187749207019806, 0.0010750875808298588, 0.02144637145102024]], [[1.0, 0.0, 0.0, 0.0, 0.0, 0.0], [0.9295330047607422, 0.07046696543693542, 0.0, 0.0, 0.0, 0.0], [0.9361506104469299, 0.04116690531373024, 0.02268253266811371, 0.0, 0.0, 0.0], [0.8486821055412292, 0.05802804231643677, 0.024856170639395714, 0.06843375414609909, 0.0, 0.0], [0.8661177754402161, 0.02232472412288189, 0.010369151830673218, 0.026001980528235435, 0.07518631219863892, 0.0], [0.8074421882629395, 0.044382572174072266, 0.01849711313843727, 0.033577896654605865, 0.018561240285634995, 0.07753890007734299]], [[1.0, 0.0, 0.0, 0.0, 0.0, 0.0], [0.9680536389350891, 0.03194638714194298, 0.0, 0.0, 0.0, 0.0], [0.9693689942359924, 0.025684956461191177, 0.004946077708154917, 0.0, 0.0, 0.0], [0.9620568156242371, 0.022552426904439926, 0.005471324548125267, 0.009919451549649239, 0.0, 0.0], [0.9727528095245361, 0.010137123987078667, 0.0007573266630060971, 0.002882891334593296, 0.013469845987856388, 0.0], [0.9624637365341187, 0.003110895399004221, 0.00100075697991997, 0.001947588985785842, 0.008266224525868893, 0.023210853338241577]], [[1.0, 0.0, 0.0, 0.0, 0.0, 0.0], [0.8542503118515015, 0.1457497626543045, 0.0, 0.0, 0.0, 0.0], [0.9725968837738037, 0.0141163170337677, 0.013286826200783253, 0.0, 0.0, 0.0], [0.9257621169090271, 0.03257275000214577, 0.014612105675041676, 0.0270531065762043, 0.0, 0.0], [0.7923434376716614, 0.027305038645863533, 0.01880664937198162, 0.13854090869426727, 0.023003920912742615, 0.0], [0.6152046918869019, 0.026655439287424088, 0.029353102669119835, 0.05590912327170372, 0.11611288785934448, 0.15676479041576385]], [[1.0, 0.0, 0.0, 0.0, 0.0, 0.0], [0.9804655313491821, 0.01953454129397869, 0.0, 0.0, 0.0, 0.0], [0.9882452487945557, 0.0075094737112522125, 0.004245338030159473, 0.0, 0.0, 0.0], [0.9584206342697144, 0.010963579639792442, 0.010456100106239319, 0.020159736275672913, 0.0, 0.0], [0.9604811668395996, 0.007182630710303783, 0.003072340739890933, 0.0068989102728664875, 0.022365093231201172, 0.0], [0.966888964176178, 0.0032812843564897776, 0.005500535946339369, 0.004234075080603361, 0.0050380295142531395, 0.01505716796964407]], [[1.0, 0.0, 0.0, 0.0, 0.0, 0.0], [0.9498194456100464, 0.05018053203821182, 0.0, 0.0, 0.0, 0.0], [0.9781363606452942, 0.016430029645562172, 0.0054335566237568855, 0.0, 0.0, 0.0], [0.8618696331977844, 0.03609360009431839, 0.07555554062128067, 0.026481203734874725, 0.0, 0.0], [0.5449831485748291, 0.01541118323802948, 0.023516539484262466, 0.2574365437030792, 0.15865269303321838, 0.0], [0.9571872353553772, 0.003080390626564622, 0.001444687251932919, 0.006861570756882429, 0.014818801544606686, 0.01660728268325329]]], [[[1.0, 0.0, 0.0, 0.0, 0.0, 0.0], [0.6156562566757202, 0.3843437731266022, 0.0, 0.0, 0.0, 0.0], [0.3676060736179352, 0.4281638264656067, 0.20423009991645813, 0.0, 0.0, 0.0], [0.1647152304649353, 0.41367948055267334, 0.250923752784729, 0.17068153619766235, 0.0, 0.0], [0.4184460937976837, 0.15247617661952972, 0.10305392742156982, 0.11071497946977615, 0.2153088003396988, 0.0], [0.19686925411224365, 0.20146209001541138, 0.1282726377248764, 0.0920325219631195, 0.09167557954788208, 0.2896879017353058]], [[1.0, 0.0, 0.0, 0.0, 0.0, 0.0], [0.9027364253997803, 0.09726352244615555, 0.0, 0.0, 0.0, 0.0], [0.9736634492874146, 0.014004322700202465, 0.012332333251833916, 0.0, 0.0, 0.0], [0.8504456281661987, 0.056905750185251236, 0.03206092119216919, 0.06058764085173607, 0.0, 0.0], [0.7661212086677551, 0.035303931683301926, 0.03433045372366905, 0.09675198048353195, 0.06749237328767776, 0.0], [0.8650373220443726, 0.020085269585251808, 0.011498065665364265, 0.018558356910943985, 0.018430305644869804, 0.06639057397842407]], [[1.0, 0.0, 0.0, 0.0, 0.0, 0.0], [0.9653082489967346, 0.03469173237681389, 0.0, 0.0, 0.0, 0.0], [0.9816323518753052, 0.014176072552800179, 0.0041915178298950195, 0.0, 0.0, 0.0], [0.9275254607200623, 0.04737221077084541, 0.011528272181749344, 0.013573977164924145, 0.0, 0.0], [0.9293117523193359, 0.025833293795585632, 0.0072271134704351425, 0.014300585724413395, 0.023327261209487915, 0.0], [0.8895061612129211, 0.04689624905586243, 0.004717112518846989, 0.006286590360105038, 0.006090145092457533, 0.04650375247001648]], [[1.0, 0.0, 0.0, 0.0, 0.0, 0.0], [0.8938027620315552, 0.10619718581438065, 0.0, 0.0, 0.0, 0.0], [0.8221704959869385, 0.06304488331079483, 0.1147845983505249, 0.0, 0.0, 0.0], [0.5047376751899719, 0.15375737845897675, 0.2277039736509323, 0.11380094289779663, 0.0, 0.0], [0.4082077145576477, 0.09066348522901535, 0.11696869134902954, 0.24553175270557404, 0.1386283040046692, 0.0], [0.7291041016578674, 0.06638878583908081, 0.02311277948319912, 0.031103039160370827, 0.0571432039141655, 0.09314810484647751]], [[1.0, 0.0, 0.0, 0.0, 0.0, 0.0], [0.9247531890869141, 0.07524679601192474, 0.0, 0.0, 0.0, 0.0], [0.8957376480102539, 0.06989555060863495, 0.034366827458143234, 0.0, 0.0, 0.0], [0.7924937605857849, 0.0960114449262619, 0.05509122461080551, 0.05640352517366409, 0.0, 0.0], [0.7891507744789124, 0.07880300283432007, 0.038401540368795395, 0.05396974831819534, 0.03967495635151863, 0.0], [0.7807855606079102, 0.0799354687333107, 0.042531780898571014, 0.03234214335680008, 0.01781696453690529, 0.04658807814121246]], [[1.0, 0.0, 0.0, 0.0, 0.0, 0.0], [0.9480886459350586, 0.05191135033965111, 0.0, 0.0, 0.0, 0.0], [0.8636949062347412, 0.04756205901503563, 0.08874304592609406, 0.0, 0.0, 0.0], [0.9341371059417725, 0.02222411520779133, 0.022624488919973373, 0.021014345809817314, 0.0, 0.0], [0.9588144421577454, 0.008020906709134579, 0.004490066319704056, 0.005862277466803789, 0.022812383249402046, 0.0], [0.9385915994644165, 0.021227726712822914, 0.004872468300163746, 0.010940180160105228, 0.00952459778636694, 0.014843432232737541]], [[1.0, 0.0, 0.0, 0.0, 0.0, 0.0], [0.9763734340667725, 0.02362659201025963, 0.0, 0.0, 0.0, 0.0], [0.9884802103042603, 0.005189401097595692, 0.006330382544547319, 0.0, 0.0, 0.0], [0.9477092027664185, 0.017985165119171143, 0.010156619362533092, 0.024149032309651375, 0.0, 0.0], [0.967192530632019, 0.0065528168343007565, 0.003322786185890436, 0.00556332990527153, 0.01736840419471264, 0.0], [0.9584562182426453, 0.007502950727939606, 0.0051363264210522175, 0.008071633987128735, 0.005997121799737215, 0.014835815876722336]], [[1.0, 0.0, 0.0, 0.0, 0.0, 0.0], [0.8840709328651428, 0.11592909693717957, 0.0, 0.0, 0.0, 0.0], [0.9931254386901855, 0.005070808809250593, 0.0018038045382127166, 0.0, 0.0, 0.0], [0.9534159302711487, 0.023829061537981033, 0.007748984266072512, 0.01500609703361988, 0.0, 0.0], [0.9151288270950317, 0.010873103514313698, 0.01319098100066185, 0.011050441302359104, 0.04975670576095581, 0.0], [0.8769674301147461, 0.03385211527347565, 0.008486486971378326, 0.009969159960746765, 0.034685831516981125, 0.036039140075445175]], [[1.0, 0.0, 0.0, 0.0, 0.0, 0.0], [0.0003709516313392669, 0.999629020690918, 0.0, 0.0, 0.0, 0.0], [6.525021308334544e-05, 0.3737829029560089, 0.6261518597602844, 0.0, 0.0, 0.0], [4.606024594977498e-05, 0.21050886809825897, 0.4115966558456421, 0.3778485059738159, 0.0, 0.0], [4.7531062591588125e-05, 0.11616960167884827, 0.23264285922050476, 0.3985331654548645, 0.2526068389415741, 0.0], [1.2476438087105635e-06, 0.14819678664207458, 0.15813173353672028, 0.30074384808540344, 0.11939039826393127, 0.27353596687316895]], [[1.0, 0.0, 0.0, 0.0, 0.0, 0.0], [0.971555769443512, 0.028444208204746246, 0.0, 0.0, 0.0, 0.0], [0.9529064297676086, 0.03233075514435768, 0.01476278156042099, 0.0, 0.0, 0.0], [0.9343127012252808, 0.02351297438144684, 0.020498080179095268, 0.021676287055015564, 0.0, 0.0], [0.9529678225517273, 0.00855142343789339, 0.004359327722340822, 0.00806456059217453, 0.026056958362460136, 0.0], [0.9653592705726624, 0.008487638086080551, 0.0034992797300219536, 0.002721579745411873, 0.003282882971689105, 0.016649365425109863]], [[1.0, 0.0, 0.0, 0.0, 0.0, 0.0], [0.8630781769752502, 0.13692185282707214, 0.0, 0.0, 0.0, 0.0], [0.7696155905723572, 0.08513341099023819, 0.14525102078914642, 0.0, 0.0, 0.0], [0.7133334875106812, 0.10170901566743851, 0.11931280046701431, 0.06564467400312424, 0.0, 0.0], [0.7186219096183777, 0.054442983120679855, 0.013868173584342003, 0.07808037102222443, 0.13498656451702118, 0.0], [0.7990155816078186, 0.05805579945445061, 0.00944699626415968, 0.017770426347851753, 0.02113848552107811, 0.0945727750658989]], [[1.0, 0.0, 0.0, 0.0, 0.0, 0.0], [0.9518988728523254, 0.04810108244419098, 0.0, 0.0, 0.0, 0.0], [0.8580652475357056, 0.02944578230381012, 0.11248896270990372, 0.0, 0.0, 0.0], [0.6577734351158142, 0.08513454347848892, 0.126131072640419, 0.13096095621585846, 0.0, 0.0], [0.8087369799613953, 0.03230160102248192, 0.01841815933585167, 0.06856131553649902, 0.07198192179203033, 0.0], [0.6683299541473389, 0.13281367719173431, 0.021880609914660454, 0.027877412736415863, 0.04923412576317787, 0.0998641774058342]]]], \"left_text\": [\"No\", \",\", \" I\", \" am\", \" your\", \" father\"], \"right_text\": [\"No\", \",\", \" I\", \" am\", \" your\", \" father\"]}], \"default_filter\": \"0\", \"display_mode\": \"dark\", \"root_div_id\": \"bertviz-4a605438c0e04c8a8ee23d2fea8179fb\", \"include_layers\": [0, 1, 2, 3, 4, 5, 6, 7, 8, 9, 10, 11], \"include_heads\": [0, 1, 2, 3, 4, 5, 6, 7, 8, 9, 10, 11], \"total_heads\": 12} is a template marker that is replaced by actual params.\n",
       "        const config = {};\n",
       "\n",
       "        const MIN_X = 0;\n",
       "        const MIN_Y = 0;\n",
       "        const DIV_WIDTH = 970;\n",
       "        const THUMBNAIL_PADDING = 5;\n",
       "        const DETAIL_WIDTH = 300;\n",
       "        const DETAIL_ATTENTION_WIDTH = 140;\n",
       "        const DETAIL_BOX_WIDTH = 80;\n",
       "        const DETAIL_BOX_HEIGHT = 18;\n",
       "        const DETAIL_PADDING = 15;\n",
       "        const ATTN_PADDING = 0;\n",
       "        const DETAIL_HEADING_HEIGHT = 25;\n",
       "        const HEADING_TEXT_SIZE = 15;\n",
       "        const HEADING_PADDING = 5;\n",
       "        const TEXT_SIZE = 13;\n",
       "        const TEXT_PADDING = 5;\n",
       "        const LAYER_COLORS = d3.schemeCategory10;\n",
       "        const PALETTE = {\n",
       "            'light': {\n",
       "                'text': 'black',\n",
       "                'background': 'white',\n",
       "                'highlight': '#F5F5F5'\n",
       "            },\n",
       "            'dark': {\n",
       "                'text': '#ccc',\n",
       "                'background': 'black',\n",
       "                'highlight': '#222'\n",
       "            }\n",
       "        }\n",
       "\n",
       "        function render() {\n",
       "\n",
       "            // Set global state variables\n",
       "\n",
       "            var attData = config.attention[config.filter];\n",
       "            config.leftText = attData.left_text;\n",
       "            config.rightText = attData.right_text;\n",
       "            config.attn = attData.attn;\n",
       "            config.numLayers = config.attn.length;\n",
       "            config.numHeads = config.attn[0].length;\n",
       "            config.thumbnailBoxHeight = 7 * (12 / config.totalHeads);\n",
       "            const axisSize = HEADING_TEXT_SIZE + HEADING_PADDING + TEXT_SIZE + TEXT_PADDING;\n",
       "            config.thumbnailHeight = Math.max(config.leftText.length, config.rightText.length) * config.thumbnailBoxHeight + 2 * THUMBNAIL_PADDING;\n",
       "            config.thumbnailWidth = (DIV_WIDTH - axisSize) / config.totalHeads;\n",
       "            config.detailHeight = Math.max(config.leftText.length, config.rightText.length) * DETAIL_BOX_HEIGHT + 2 * DETAIL_PADDING + DETAIL_HEADING_HEIGHT;\n",
       "            config.divHeight = Math.max(config.numLayers * config.thumbnailHeight + axisSize, config.detailHeight);\n",
       "\n",
       "            const vis = $(`#${config.rootDivId} #vis`)\n",
       "            vis.empty();\n",
       "            vis.attr(\"height\", config.divHeight);\n",
       "            config.svg = d3.select(`#${config.rootDivId} #vis`)\n",
       "                .append('svg')\n",
       "                .attr(\"width\", DIV_WIDTH)\n",
       "                .attr(\"height\", config.divHeight)\n",
       "                .attr(\"fill\", getBackgroundColor());\n",
       "\n",
       "            renderAxisLabels();\n",
       "\n",
       "            var i;\n",
       "            var j;\n",
       "            for (i = 0; i < config.numLayers; i++) {\n",
       "                for (j = 0; j < config.numHeads; j++) {\n",
       "                    renderThumbnail(i, j);\n",
       "                }\n",
       "            }\n",
       "        }\n",
       "\n",
       "        function renderAxisLabels() {\n",
       "            const axisSize = HEADING_TEXT_SIZE + HEADING_PADDING + TEXT_SIZE + TEXT_PADDING;\n",
       "            const tableWidth = config.thumbnailWidth * config.heads.length;\n",
       "            config.svg.append(\"text\")\n",
       "                .text(\"Heads\")\n",
       "                .attr(\"fill\", \"black\")\n",
       "                .attr(\"font-weight\", \"bold\")\n",
       "                .attr(\"font-size\", HEADING_TEXT_SIZE + \"px\")\n",
       "                .attr(\"x\", axisSize + tableWidth / 2)\n",
       "                .attr(\"text-anchor\", \"middle\")\n",
       "                .attr(\"y\", 0)\n",
       "                .attr(\"dy\", HEADING_TEXT_SIZE);\n",
       "            for (let i = 0; i < config.numHeads; i++) {\n",
       "                config.svg.append(\"text\")\n",
       "                    .text(config.heads[i])\n",
       "                    .attr(\"fill\", \"black\")\n",
       "                    .attr(\"font-size\", TEXT_SIZE + \"px\")\n",
       "                    .attr(\"x\", axisSize + (i + .5) * config.thumbnailWidth)\n",
       "                    .attr(\"text-anchor\", \"middle\")\n",
       "                    .attr(\"y\", HEADING_TEXT_SIZE + HEADING_PADDING)\n",
       "                    .attr(\"dy\", TEXT_SIZE);\n",
       "            }\n",
       "            let x = 0;\n",
       "            let y = axisSize + config.thumbnailHeight * config.layers.length / 2;\n",
       "            console.log(\"x\", x, y)\n",
       "            config.svg.append(\"text\")\n",
       "                .text(\"Layers\")\n",
       "                .attr(\"fill\", \"black\")\n",
       "                .attr(\"font-weight\", \"bold\")\n",
       "                .attr(\"transform\", \"rotate(270, \" + x  + \", \" + y + \")\")\n",
       "                .attr(\"font-size\", HEADING_TEXT_SIZE + \"px\")\n",
       "                .attr(\"x\", x)\n",
       "                .attr(\"text-anchor\", \"middle\")\n",
       "                .attr(\"y\", y)\n",
       "                .attr(\"dy\", HEADING_TEXT_SIZE);\n",
       "            for (let i = 0; i < config.numLayers; i++) {\n",
       "                x = HEADING_TEXT_SIZE + HEADING_PADDING + TEXT_SIZE; // HACK\n",
       "                y = axisSize + (i + .5) * config.thumbnailHeight;\n",
       "                config.svg.append(\"text\")\n",
       "                    .text(config.layers[i])\n",
       "                    .attr(\"fill\", \"black\")\n",
       "                    .attr(\"font-size\", TEXT_SIZE + \"px\")\n",
       "                    .attr(\"x\", x)\n",
       "                    .attr(\"text-anchor\", \"end\")\n",
       "                    .attr(\"y\", y)\n",
       "                    .attr(\"dy\", TEXT_SIZE / 2);\n",
       "            }\n",
       "        }\n",
       "\n",
       "\n",
       "        function renderThumbnail(layerIndex, headIndex) {\n",
       "            const axisSize = HEADING_TEXT_SIZE + HEADING_PADDING + TEXT_SIZE + TEXT_PADDING\n",
       "            const x = headIndex * config.thumbnailWidth + axisSize;\n",
       "            const y = layerIndex * config.thumbnailHeight + axisSize;\n",
       "            renderThumbnailAttn(x, y, config.attn[layerIndex][headIndex], layerIndex, headIndex);\n",
       "        }\n",
       "\n",
       "        function renderDetail(att, layerIndex, headIndex) {\n",
       "            const axisSize = TEXT_SIZE + HEADING_PADDING + TEXT_SIZE + TEXT_PADDING;\n",
       "            var xOffset = .8 * config.thumbnailWidth;\n",
       "            var maxX = DIV_WIDTH;\n",
       "            var maxY = config.divHeight - 3;\n",
       "            var leftPos = axisSize + headIndex * config.thumbnailWidth;\n",
       "            var x = leftPos + THUMBNAIL_PADDING + xOffset;\n",
       "            if (x < MIN_X) {\n",
       "                x = MIN_X;\n",
       "            } else if (x + DETAIL_WIDTH > maxX) {\n",
       "                x = leftPos + THUMBNAIL_PADDING - DETAIL_WIDTH + 8;\n",
       "            }\n",
       "            var posLeftText = x;\n",
       "            var posAttention = posLeftText + DETAIL_BOX_WIDTH;\n",
       "            var posRightText = posAttention + DETAIL_ATTENTION_WIDTH;\n",
       "            var thumbnailHeight = Math.max(config.leftText.length, config.rightText.length) * config.thumbnailBoxHeight + 2 * THUMBNAIL_PADDING;\n",
       "            var yOffset = 20;\n",
       "            var y = layerIndex * thumbnailHeight + THUMBNAIL_PADDING + yOffset;\n",
       "            if (y < MIN_Y) {\n",
       "                y = MIN_Y;\n",
       "            } else if (y + config.detailHeight > maxY) {\n",
       "                y = maxY - config.detailHeight;\n",
       "            }\n",
       "            renderDetailFrame(x, y, layerIndex);\n",
       "            y = y + DETAIL_PADDING;\n",
       "            renderDetailHeading(x, y, layerIndex, headIndex);\n",
       "            y = y + DETAIL_HEADING_HEIGHT;\n",
       "            renderDetailText(config.leftText, \"leftText\", posLeftText, y , layerIndex);\n",
       "            renderDetailAttn(posAttention, y, att, layerIndex, headIndex);\n",
       "            renderDetailText(config.rightText, \"rightText\", posRightText, y, layerIndex);\n",
       "        }\n",
       "\n",
       "        function renderDetailHeading(x, y, layerIndex, headIndex) {\n",
       "            var fillColor = getTextColor();\n",
       "            config.svg.append(\"text\")\n",
       "                .classed(\"detail\", true)\n",
       "                .text('Layer ' + config.layers[layerIndex] + \", Head \" + config.heads[headIndex])\n",
       "                .attr(\"font-size\", TEXT_SIZE + \"px\")\n",
       "                .attr(\"font-weight\", \"bold\")\n",
       "                .style(\"cursor\", \"default\")\n",
       "                .style(\"-webkit-user-select\", \"none\")\n",
       "                .attr(\"fill\", fillColor)\n",
       "                .attr(\"x\", x + DETAIL_WIDTH / 2)\n",
       "                .attr(\"text-anchor\", \"middle\")\n",
       "                .attr(\"y\", y)\n",
       "                .attr(\"height\", DETAIL_HEADING_HEIGHT)\n",
       "                .attr(\"width\", DETAIL_WIDTH)\n",
       "                .attr(\"dy\", HEADING_TEXT_SIZE);\n",
       "        }\n",
       "\n",
       "        function renderDetailText(text, id, x, y, layerIndex) {\n",
       "            var tokenContainer = config.svg.append(\"svg:g\")\n",
       "                .classed(\"detail\", true)\n",
       "                .selectAll(\"g\")\n",
       "                .data(text)\n",
       "                .enter()\n",
       "                .append(\"g\");\n",
       "\n",
       "            var fillColor = getTextColor();\n",
       "\n",
       "            tokenContainer.append(\"rect\")\n",
       "                .classed(\"highlight\", true)\n",
       "                .attr(\"fill\", fillColor)\n",
       "                .style(\"opacity\", 0.0)\n",
       "                .attr(\"height\", DETAIL_BOX_HEIGHT)\n",
       "                .attr(\"width\", DETAIL_BOX_WIDTH)\n",
       "                .attr(\"x\", x)\n",
       "                .attr(\"y\", function (d, i) {\n",
       "                    return y + i * DETAIL_BOX_HEIGHT;\n",
       "                });\n",
       "\n",
       "            var textContainer = tokenContainer.append(\"text\")\n",
       "                .classed(\"token\", true)\n",
       "                .text(function (d) {\n",
       "                    return d;\n",
       "                })\n",
       "                .attr(\"font-size\", TEXT_SIZE + \"px\")\n",
       "                .style(\"cursor\", \"default\")\n",
       "                .style(\"-webkit-user-select\", \"none\")\n",
       "                .attr(\"fill\", fillColor)\n",
       "                .attr(\"x\", x)\n",
       "                .attr(\"y\", function (d, i) {\n",
       "                    return i * DETAIL_BOX_HEIGHT + y;\n",
       "                })\n",
       "                .attr(\"height\", DETAIL_BOX_HEIGHT)\n",
       "                .attr(\"width\", DETAIL_BOX_WIDTH)\n",
       "                .attr(\"dy\", TEXT_SIZE);\n",
       "\n",
       "            if (id == \"leftText\") {\n",
       "                textContainer.style(\"text-anchor\", \"end\")\n",
       "                    .attr(\"dx\", DETAIL_BOX_WIDTH - 2);\n",
       "                tokenContainer.on(\"mouseover\", function (d, index) {\n",
       "                    highlightSelection(index);\n",
       "                });\n",
       "                tokenContainer.on(\"mouseleave\", function () {\n",
       "                    unhighlightSelection();\n",
       "                });\n",
       "            }\n",
       "        }\n",
       "\n",
       "        function highlightSelection(index) {\n",
       "            config.svg.select(\"#leftText\")\n",
       "                .selectAll(\".highlight\")\n",
       "                .style(\"opacity\", function (d, i) {\n",
       "                    return i == index ? 1.0 : 0.0;\n",
       "                });\n",
       "            config.svg.selectAll(\".attn-line-group\")\n",
       "                .style(\"opacity\", function (d, i) {\n",
       "                    return i == index ? 1.0 : 0.0;\n",
       "                });\n",
       "        }\n",
       "\n",
       "        function unhighlightSelection() {\n",
       "            config.svg.select(\"#leftText\")\n",
       "                .selectAll(\".highlight\")\n",
       "                .style(\"opacity\", 0.0);\n",
       "            config.svg.selectAll(\".attn-line-group\")\n",
       "                .style(\"opacity\", 1);\n",
       "        }\n",
       "\n",
       "        function renderThumbnailAttn(x, y, att, layerIndex, headIndex) {\n",
       "\n",
       "            var attnContainer = config.svg.append(\"svg:g\");\n",
       "\n",
       "            var attnBackground = attnContainer.append(\"rect\")\n",
       "                .attr(\"id\", 'attn_background_' + layerIndex + \"_\" + headIndex)\n",
       "                .classed(\"attn_background\", true)\n",
       "                .attr(\"x\", x)\n",
       "                .attr(\"y\", y)\n",
       "                .attr(\"height\", config.thumbnailHeight)\n",
       "                .attr(\"width\", config.thumbnailWidth)\n",
       "                .attr(\"stroke-width\", 2)\n",
       "                .attr(\"stroke\", getLayerColor(layerIndex))\n",
       "                .attr(\"stroke-opacity\", 0)\n",
       "                .attr(\"fill\", getBackgroundColor());\n",
       "            var x1 = x + THUMBNAIL_PADDING;\n",
       "            var x2 = x1 + config.thumbnailWidth - 14;\n",
       "            var y1 = y + THUMBNAIL_PADDING;\n",
       "\n",
       "            attnContainer.selectAll(\"g\")\n",
       "                .data(att)\n",
       "                .enter()\n",
       "                .append(\"g\") // Add group for each source token\n",
       "                .attr(\"source-index\", function (d, i) { // Save index of source token\n",
       "                    return i;\n",
       "                })\n",
       "                .selectAll(\"line\")\n",
       "                .data(function (d) { // Loop over all target tokens\n",
       "                    return d;\n",
       "                })\n",
       "                .enter() // When entering\n",
       "                .append(\"line\")\n",
       "                .attr(\"x1\", x1)\n",
       "                .attr(\"y1\", function (d) {\n",
       "                    var sourceIndex = +this.parentNode.getAttribute(\"source-index\");\n",
       "                    return y1 + (sourceIndex + .5) * config.thumbnailBoxHeight;\n",
       "                })\n",
       "                .attr(\"x2\", x2)\n",
       "                .attr(\"y2\", function (d, targetIndex) {\n",
       "                    return y1 + (targetIndex + .5) * config.thumbnailBoxHeight;\n",
       "                })\n",
       "                .attr(\"stroke-width\", 2.2)\n",
       "                .attr(\"stroke\", getLayerColor(layerIndex))\n",
       "                .attr(\"stroke-opacity\", function (d) {\n",
       "                    return d;\n",
       "                });\n",
       "\n",
       "            var clickRegion = attnContainer.append(\"rect\")\n",
       "                .attr(\"x\", x)\n",
       "                .attr(\"y\", y)\n",
       "                .attr(\"height\", config.thumbnailHeight)\n",
       "                .attr(\"width\", config.thumbnailWidth)\n",
       "                .style(\"opacity\", 0);\n",
       "\n",
       "            clickRegion.on(\"click\", function (d, index) {\n",
       "                var attnBackgroundOther = config.svg.selectAll(\".attn_background\");\n",
       "                attnBackgroundOther.attr(\"fill\", getBackgroundColor());\n",
       "                attnBackgroundOther.attr(\"stroke-opacity\", 0);\n",
       "\n",
       "                config.svg.selectAll(\".detail\").remove();\n",
       "                if (config.detail_layer != layerIndex || config.detail_head != headIndex) {\n",
       "                    renderDetail(att, layerIndex, headIndex);\n",
       "                    config.detail_layer = layerIndex;\n",
       "                    config.detail_head = headIndex;\n",
       "                    attnBackground.attr(\"fill\", getHighlightColor());\n",
       "                    attnBackground.attr(\"stroke-opacity\", .8);\n",
       "                } else {\n",
       "                    config.detail_layer = null;\n",
       "                    config.detail_head = null;\n",
       "                    attnBackground.attr(\"fill\", getBackgroundColor());\n",
       "                    attnBackground.attr(\"stroke-opacity\", 0);\n",
       "                }\n",
       "            });\n",
       "\n",
       "            clickRegion.on(\"mouseover\", function (d) {\n",
       "                d3.select(this).style(\"cursor\", \"pointer\");\n",
       "            });\n",
       "        }\n",
       "\n",
       "        function renderDetailFrame(x, y, layerIndex) {\n",
       "            var detailFrame = config.svg.append(\"rect\")\n",
       "                .classed(\"detail\", true)\n",
       "                .attr(\"x\", x)\n",
       "                .attr(\"y\", y)\n",
       "                .attr(\"height\", config.detailHeight)\n",
       "                .attr(\"width\", DETAIL_WIDTH)\n",
       "                .style(\"opacity\", 1)\n",
       "                .attr(\"stroke-width\", 1.5)\n",
       "                .attr(\"stroke-opacity\", 0.7)\n",
       "                .attr(\"stroke\", getLayerColor(layerIndex));\n",
       "        }\n",
       "\n",
       "        function renderDetailAttn(x, y, att, layerIndex) {\n",
       "            var attnContainer = config.svg.append(\"svg:g\")\n",
       "                .classed(\"detail\", true)\n",
       "                .attr(\"pointer-events\", \"none\");\n",
       "            attnContainer.selectAll(\"g\")\n",
       "                .data(att)\n",
       "                .enter()\n",
       "                .append(\"g\") // Add group for each source token\n",
       "                .classed('attn-line-group', true)\n",
       "                .attr(\"source-index\", function (d, i) { // Save index of source token\n",
       "                    return i;\n",
       "                })\n",
       "                .selectAll(\"line\")\n",
       "                .data(function (d) { // Loop over all target tokens\n",
       "                    return d;\n",
       "                })\n",
       "                .enter()\n",
       "                .append(\"line\")\n",
       "                .attr(\"x1\", x + ATTN_PADDING)\n",
       "                .attr(\"y1\", function (d) {\n",
       "                    var sourceIndex = +this.parentNode.getAttribute(\"source-index\");\n",
       "                    return y + (sourceIndex + .5) * DETAIL_BOX_HEIGHT;\n",
       "                })\n",
       "                .attr(\"x2\", x + DETAIL_ATTENTION_WIDTH - ATTN_PADDING)\n",
       "                .attr(\"y2\", function (d, targetIndex) {\n",
       "                    return y + (targetIndex + .5) * DETAIL_BOX_HEIGHT;\n",
       "                })\n",
       "                .attr(\"stroke-width\", 2.2)\n",
       "                .attr(\"stroke\", getLayerColor(layerIndex))\n",
       "                .attr(\"stroke-opacity\", function (d) {\n",
       "                    return d;\n",
       "                });\n",
       "        }\n",
       "\n",
       "        function getLayerColor(layer) {\n",
       "          return LAYER_COLORS[config.layers[layer] % 10];\n",
       "        }\n",
       "\n",
       "        function getTextColor() {\n",
       "            return PALETTE[config.mode]['text']\n",
       "        }\n",
       "\n",
       "        function getBackgroundColor() {\n",
       "           return PALETTE[config.mode]['background']\n",
       "        }\n",
       "\n",
       "        function getHighlightColor() {\n",
       "           return PALETTE[config.mode]['highlight']\n",
       "        }\n",
       "\n",
       "        function initialize() {\n",
       "            config.attention = params['attention'];\n",
       "            config.filter = params['default_filter'];\n",
       "            config.mode = params['display_mode'];\n",
       "            config.layers = params['include_layers']\n",
       "            config.heads = params['include_heads']\n",
       "            config.totalHeads = params['total_heads']\n",
       "            config.rootDivId = params['root_div_id'];\n",
       "            $(`#${config.rootDivId} #filter`).on('change', function (e) {\n",
       "                config.filter = e.currentTarget.value;\n",
       "                render();\n",
       "            });\n",
       "        }\n",
       "\n",
       "        initialize();\n",
       "        render();\n",
       "\n",
       "    });"
      ],
      "text/plain": [
       "<IPython.core.display.Javascript object>"
      ]
     },
     "metadata": {},
     "output_type": "display_data"
    }
   ],
   "source": [
    "from transformers import AutoTokenizer, AutoModel, utils, AutoModelForCausalLM\n",
    "\n",
    "from bertviz import model_view\n",
    "utils.logging.set_verbosity_error()  # Suppress standard warnings\n",
    "\n",
    "model_name = 'openai-community/gpt2'\n",
    "input_text = \"No, I am your father\"  \n",
    "model = AutoModelForCausalLM.from_pretrained(model_name, output_attentions=True)\n",
    "tokenizer = AutoTokenizer.from_pretrained(model_name)\n",
    "inputs = tokenizer.encode(input_text, return_tensors='pt')  # Tokenize input text\n",
    "outputs = model(inputs)  # Run model\n",
    "attention = outputs[-1]  # Retrieve attention from model outputs\n",
    "tokens = tokenizer.convert_ids_to_tokens(inputs[0])  # Convert input ids to token strings\n",
    "model_view(attention, tokens)  # Display model view"
   ]
  },
  {
   "cell_type": "markdown",
   "metadata": {},
   "source": [
    "## Positional encoding"
   ]
  },
  {
   "cell_type": "markdown",
   "metadata": {
    "id": "IFq78-kjbrWp"
   },
   "source": [
    "Last week, Carlo discussed token embedding, which is when words are encoded into a vocabulary. Now, we just discussed attention mechanisms which account for context between words. Another question we should ask is how do we account for the order of words in an input sentence\n",
    "\n",
    "Consider the following two sentences to see why this is important:\n",
    "\n",
    "``The man ate the sandwich.``\n",
    "\n",
    "``The sandwich ate the man.``\n",
    "\n",
    "Clearly, these are two vastly different situations even though they have the same words. The Transformer can \n",
    "\n",
    "Transformers differentiate between these situations by adding a **Positional encoding** vector to each input embedding. These vectors follow a specific pattern that the model learns, which helps it determine the position of each word."
   ]
  },
  {
   "cell_type": "markdown",
   "metadata": {},
   "source": [
    "<img src=\"images/positional_encoding.png\" alt=\"Drawing\" style=\"width: 500px;\"/>\n",
    "Image credit: https://medium.com/@xuer.chen.human/llm-study-notes-positional-encoding-0639a1002ec0"
   ]
  },
  {
   "cell_type": "markdown",
   "metadata": {},
   "source": [
    "We set up positional encoding similarly as token embedding using the ``nn.Embedding`` tool. We use a simple embedding here but there are more complex positional encodings used such as sinusoidal. \n",
    "\n",
    "For an explanation of different positional encodings, refer to this post: https://machinelearningmastery.com/a-gentle-introduction-to-positional-encoding-in-transformer-models-part-1/"
   ]
  },
  {
   "cell_type": "code",
   "execution_count": 44,
   "metadata": {},
   "outputs": [],
   "source": [
    "vocab_size = 65\n",
    "n_embd = 64\n",
    "\n",
    "token_embedding_table = nn.Embedding(vocab_size, n_embd)\n",
    "block_size = 32 # what is the maximum context length for predictions?\n",
    "position_embedding_table = nn.Embedding(block_size, n_embd)"
   ]
  },
  {
   "cell_type": "markdown",
   "metadata": {},
   "source": [
    "You will notice the positional encoding size is `(block_size, n_embed)` because it encodes for the postion of a token within the sequence of size `block_size`"
   ]
  },
  {
   "cell_type": "markdown",
   "metadata": {},
   "source": [
    "Then, the position embedding used is simply added to the token embedding to apply positional embedding."
   ]
  },
  {
   "cell_type": "markdown",
   "metadata": {},
   "source": [
    "Let's look at token embedding alone:"
   ]
  },
  {
   "cell_type": "code",
   "execution_count": 45,
   "metadata": {
    "scrolled": false,
    "tags": []
   },
   "outputs": [
    {
     "name": "stdout",
     "output_type": "stream",
     "text": [
      "tensor([ 0.7221, -0.9629, -2.0578,  1.9740,  0.7434,  1.1139,  0.6926,  0.0296,\n",
      "         0.6405, -1.6464,  0.4935,  0.7485,  0.9238, -0.4940,  0.4814, -0.3859,\n",
      "        -0.3094,  1.1066, -0.2891,  0.1891,  2.0440, -0.7945, -0.4331,  0.3007,\n",
      "         1.4317,  0.2881, -0.4343,  0.4280,  1.2469,  1.4047, -0.3404, -2.2190,\n",
      "         0.4893,  0.0398, -0.2717, -2.2400, -0.0029, -1.4251,  0.7330,  0.3551,\n",
      "         0.1472, -1.1895, -0.8407,  0.3134, -0.6709, -0.8176,  0.6929, -0.6374,\n",
      "         0.3174,  0.4837, -0.0073, -1.5924,  1.8606, -1.2910, -0.1594,  0.3111,\n",
      "        -0.1536, -0.3414, -0.0170, -0.1633,  0.2794,  0.6755,  0.7066, -1.6665],\n",
      "       grad_fn=<SelectBackward0>)\n"
     ]
    }
   ],
   "source": [
    "x = torch.tensor([1,3,15,4,7,1,4,9])\n",
    "x = token_embedding_table(x)\n",
    "print(x[0])"
   ]
  },
  {
   "cell_type": "markdown",
   "metadata": {},
   "source": [
    "And token + positional embeddings:"
   ]
  },
  {
   "cell_type": "code",
   "execution_count": 46,
   "metadata": {
    "scrolled": false
   },
   "outputs": [
    {
     "name": "stdout",
     "output_type": "stream",
     "text": [
      "tensor([ 0.4326, -1.6287, -0.8684,  3.0704,  0.3646,  1.9826,  0.7582, -0.1918,\n",
      "         1.0491, -2.2562, -0.4931, -0.7808,  1.7206, -1.0297,  2.0798, -1.3427,\n",
      "        -0.7896, -0.1746,  0.0926,  0.0543,  2.3831, -0.6208,  0.3902,  0.1097,\n",
      "         1.0455, -1.4557,  0.3402,  2.6717,  1.8380,  1.2628, -0.4831, -4.6023,\n",
      "         0.6959,  1.0347,  0.5903, -0.7541,  0.4682, -0.3895,  2.1526,  0.6272,\n",
      "        -0.8558, -0.8434,  0.1311, -1.0272, -2.0580,  0.0584,  0.3442, -0.3464,\n",
      "        -0.3444,  2.3134, -1.1142, -1.4629,  3.3503, -2.0594,  1.4105,  0.4558,\n",
      "        -1.3366,  1.9283,  1.5187,  0.3906,  1.1448, -0.8422,  2.2692, -0.7949],\n",
      "       grad_fn=<SelectBackward0>)\n"
     ]
    }
   ],
   "source": [
    "x = torch.tensor([1,3,15,4,7,1,4,9])\n",
    "x= position_embedding_table(x) + token_embedding_table(x)\n",
    "print(x[0])"
   ]
  },
  {
   "cell_type": "markdown",
   "metadata": {},
   "source": [
    "You can see a clear offset between these two embeddings."
   ]
  },
  {
   "cell_type": "markdown",
   "metadata": {},
   "source": [
    "During the training process, these embeddings will be learned to best encode the token and positional embeddings of the sequences."
   ]
  },
  {
   "cell_type": "markdown",
   "metadata": {
    "id": "iF1HzH9xNJ7S"
   },
   "source": [
    "## Output layers\n",
    "\n",
    "At the end of our Transformer model, we are left with a vector, so how do we turn this into a word?\n",
    "\n",
    "<img src=\"images/transformer-decoder-intro.png\" alt=\"Drawing\" style=\"width: 400px;\"/>\n",
    "\n",
    "Using a final Linear layer and a Softmax Layer.\n",
    "The Linear layer projects the vector produced by the stack of decoders, into a larger vector called a logits vector.\n",
    "\n",
    "If our model knows 10,000 unique English words learned from its training dataset the logits vector is 10,000 cells wide – each cell corresponds to the score of a unique word.\n",
    "\n",
    "The softmax layer turns those scores into probabilities. The cell with the highest probability is chosen, and the word associated with it is produced as the output for this time step."
   ]
  },
  {
   "cell_type": "markdown",
   "metadata": {},
   "source": [
    "<img src=\"images/transformer_decoder_output_softmax.png\" alt=\"Drawing\" style=\"width: 450px;\"/>"
   ]
  },
  {
   "cell_type": "markdown",
   "metadata": {
    "id": "HS6r-z8dN_RV"
   },
   "source": [
    "Image credit: https://jalammar.github.io/illustrated-transformer/"
   ]
  },
  {
   "cell_type": "markdown",
   "metadata": {
    "id": "XK8q67P03yr4"
   },
   "source": [
    "## Training\n",
    "\n",
    "How does an LLM improve over time?\n",
    "We want to compare the probabilitiy distribution for each token generated by our model to the ground truths. \n",
    "Our model produces a probability distribution for each token. We want to compare these probability distributions to the ground truths. \n",
    "For example, when translating the sentence: “je suis étudiant” into “i am a student” as can be seen in the example:"
   ]
  },
  {
   "cell_type": "markdown",
   "metadata": {},
   "source": [
    "<img src=\"images/output_target_probability_distributions.png\" alt=\"Drawing\" style=\"width: 500px;\"/>"
   ]
  },
  {
   "cell_type": "markdown",
   "metadata": {
    "id": "HS6r-z8dN_RV"
   },
   "source": [
    "Image credit: https://jalammar.github.io/illustrated-transformer/"
   ]
  },
  {
   "cell_type": "markdown",
   "metadata": {},
   "source": [
    "The model can calculate the loss between the vector it generates and the ground truth vector seen in this example. A commonly used loss function is cross entropy loss:\n",
    "\n",
    "$CE = -\\sum_{x \\in X} p(x) log q(x)$\n",
    "\n",
    "where p(x) represents the true distribution and q(x) represents the predicted distribution."
   ]
  },
  {
   "cell_type": "code",
   "execution_count": 2,
   "metadata": {
    "scrolled": true
   },
   "outputs": [
    {
     "name": "stdout",
     "output_type": "stream",
     "text": [
      "tensor(0.9119)\n"
     ]
    }
   ],
   "source": [
    "from torch.nn import functional as F\n",
    "logits = torch.tensor([0.5, 0.1, 0.3])\n",
    "targets = torch.tensor([1.0, 0.0, 0.0])\n",
    "loss = F.cross_entropy(logits, targets)\n",
    "print(loss)"
   ]
  },
  {
   "cell_type": "markdown",
   "metadata": {},
   "source": [
    "Another important metric commonly used in LLMs is **perplexity**.\n",
    "\n",
    "Intuitively, perplexity means to be surprised. We measure how much the model is surprised by seeing new data. The lower the perplexity, the better the training is."
   ]
  },
  {
   "cell_type": "markdown",
   "metadata": {},
   "source": [
    "Mathematically, perplexity is just the exponent of the negative cross entropy loss:\n",
    "\n",
    "$\\text{perplexity} = exp(\\text{CE})$"
   ]
  },
  {
   "cell_type": "code",
   "execution_count": 3,
   "metadata": {},
   "outputs": [
    {
     "name": "stdout",
     "output_type": "stream",
     "text": [
      "tensor(2.4891)\n"
     ]
    }
   ],
   "source": [
    "perplexity = torch.exp(loss)\n",
    "print(perplexity)"
   ]
  },
  {
   "cell_type": "markdown",
   "metadata": {},
   "source": [
    "In this example, we are using cross entropy loss."
   ]
  },
  {
   "cell_type": "markdown",
   "metadata": {},
   "source": [
    "## Let's train a mini-LLM from scratch"
   ]
  },
  {
   "cell_type": "markdown",
   "metadata": {},
   "source": [
    "### Set up hyperparameters:"
   ]
  },
  {
   "cell_type": "code",
   "execution_count": 4,
   "metadata": {},
   "outputs": [],
   "source": [
    "import torch\n",
    "import torch.nn as nn\n",
    "from torch.nn import functional as F\n",
    "torch.manual_seed(1337)\n",
    "\n",
    "# hyperparameters\n",
    "batch_size = 16 # how many independent sequences will we process in parallel?\n",
    "block_size = 32 # what is the maximum context length for predictions?\n",
    "max_iters = 5000\n",
    "eval_interval = 10\n",
    "learning_rate = 1e-3\n",
    "device = 'cuda' if torch.cuda.is_available() else 'cpu'\n",
    "eval_iters = 200\n",
    "n_embd = 64\n",
    "n_head = 4 ## so head_size = 16\n",
    "n_layer = 4\n",
    "dropout = 0.0\n",
    "# ------------"
   ]
  },
  {
   "cell_type": "markdown",
   "metadata": {},
   "source": [
    "### Load in data and create train and test datasets"
   ]
  },
  {
   "cell_type": "markdown",
   "metadata": {},
   "source": [
    "We're going to be using the tiny Shakespeare dataset. \n",
    "Data is tokenized according to a simple character based tokenizer.\n",
    "Data is split into a train and test set so we have something to test after performing training (9:1 split)."
   ]
  },
  {
   "cell_type": "code",
   "execution_count": 5,
   "metadata": {},
   "outputs": [],
   "source": [
    "with open('dataset/input.txt', 'r', encoding='utf-8') as f:\n",
    "    text = f.read()\n",
    "\n",
    "# here are all the unique characters that occur in this text\n",
    "chars = sorted(list(set(text)))\n",
    "vocab_size = len(chars)\n",
    "# create a mapping from characters to integers\n",
    "stoi = { ch:i for i,ch in enumerate(chars) }\n",
    "itos = { i:ch for i,ch in enumerate(chars) }\n",
    "encode = lambda s: [stoi[c] for c in s] # encoder: take a string, output a list of integers\n",
    "decode = lambda l: ''.join([itos[i] for i in l]) # decoder: take a list of integers, output a string\n",
    "\n",
    "# Train and test splits\n",
    "data = torch.tensor(encode(text), dtype=torch.long)\n",
    "n = int(0.9*len(data)) # first 90% will be train, rest val\n",
    "train_data = data[:n]\n",
    "val_data = data[n:]\n",
    "\n",
    "# data loading\n",
    "def get_batch(split):\n",
    "    # generate a small batch of data of inputs x and targets y\n",
    "    data = train_data if split == 'train' else val_data\n",
    "    ix = torch.randint(len(data) - block_size, (batch_size,))\n",
    "    x = torch.stack([data[i:i+block_size] for i in ix])\n",
    "    y = torch.stack([data[i+1:i+block_size+1] for i in ix])\n",
    "    x, y = x.to(device), y.to(device)\n",
    "    return x, y"
   ]
  },
  {
   "cell_type": "markdown",
   "metadata": {},
   "source": [
    "### Set up the components of the Decoder block: \n",
    "* MultiHeadAttention\n",
    "* FeedForward Network"
   ]
  },
  {
   "cell_type": "code",
   "execution_count": 6,
   "metadata": {},
   "outputs": [],
   "source": [
    "\n",
    "\n",
    "class Head(nn.Module):\n",
    "    \"\"\" one head of self-attention \"\"\"\n",
    "\n",
    "    def __init__(self, head_size):\n",
    "        super().__init__()\n",
    "        self.key = nn.Linear(n_embd, head_size, bias=False)\n",
    "        self.query = nn.Linear(n_embd, head_size, bias=False)\n",
    "        self.value = nn.Linear(n_embd, head_size, bias=False)\n",
    "        self.register_buffer('tril', torch.tril(torch.ones(block_size, block_size)))\n",
    "\n",
    "        self.dropout = nn.Dropout(dropout)\n",
    "\n",
    "    def forward(self, x):\n",
    "        B,T,C = x.shape\n",
    "        k = self.key(x)   # (B,T,C) 16,32,16\n",
    "        q = self.query(x) # (B,T,C)\n",
    "        # compute attention scores (\"affinities\")\n",
    "        wei = q @ k.transpose(-2,-1) * C**-0.5 # (B, T, C) @ (B, C, T) -> (B, T, T)\n",
    "        wei = wei.masked_fill(self.tril[:T, :T] == 0, float('-inf')) # (B, T, T)\n",
    "        wei = F.softmax(wei, dim=-1) # (B, T, T)\n",
    "        wei = self.dropout(wei)\n",
    "        # perform the weighted aggregation of the values\n",
    "        v = self.value(x) # (B,T,C)\n",
    "        out = wei @ v # (B, T, T) @ (B, T, C) -> (B, T, C)\n",
    "        return out\n",
    "\n",
    "class MultiHeadAttention(nn.Module):\n",
    "    \"\"\" multiple heads of self-attention in parallel \"\"\"\n",
    "\n",
    "    def __init__(self, num_heads, head_size):\n",
    "        super().__init__()\n",
    "        self.heads = nn.ModuleList([Head(head_size) for _ in range(num_heads)])\n",
    "        self.proj = nn.Linear(n_embd, n_embd)\n",
    "        self.dropout = nn.Dropout(dropout)\n",
    "\n",
    "    def forward(self, x):\n",
    "        out = torch.cat([h(x) for h in self.heads], dim=-1)\n",
    "        out = self.dropout(self.proj(out))\n",
    "        return out\n",
    "\n",
    "class FeedFoward(nn.Module):\n",
    "    \"\"\" a simple linear layer followed by a non-linearity \"\"\"\n",
    "\n",
    "    def __init__(self, n_embd):\n",
    "        super().__init__()\n",
    "        self.net = nn.Sequential(\n",
    "            nn.Linear(n_embd, 4 * n_embd),\n",
    "            nn.ReLU(),\n",
    "            nn.Linear(4 * n_embd, n_embd), # Projection layer going back into the residual pathway\n",
    "            nn.Dropout(dropout),\n",
    "        )\n",
    "\n",
    "    def forward(self, x):\n",
    "        return self.net(x)\n"
   ]
  },
  {
   "cell_type": "markdown",
   "metadata": {},
   "source": [
    "### Combine components into the Decoder block"
   ]
  },
  {
   "cell_type": "code",
   "execution_count": 7,
   "metadata": {},
   "outputs": [],
   "source": [
    "class Block(nn.Module):\n",
    "    \"\"\" Transformer block: communication followed by computation \"\"\"\n",
    "\n",
    "    def __init__(self, n_embd, n_head):\n",
    "        # n_embd: embedding dimension, n_head: the number of heads we'd like\n",
    "        super().__init__()\n",
    "        head_size = n_embd // n_head\n",
    "        self.sa = MultiHeadAttention(n_head, head_size)\n",
    "        self.ffwd = FeedFoward(n_embd)\n",
    "        self.ln1 = nn.LayerNorm(n_embd)\n",
    "        self.ln2 = nn.LayerNorm(n_embd)\n",
    "\n",
    "    def forward(self, x):\n",
    "        x = x + self.sa(self.ln1(x))    # Communication\n",
    "        x = x + self.ffwd(self.ln2(x))  # Computation\n",
    "        return x"
   ]
  },
  {
   "cell_type": "markdown",
   "metadata": {},
   "source": [
    "### Set up the full Transformer model \n",
    "This is a combination of the Token embeddings, Positional embeddings, a stack of Transformer blocks and an output block."
   ]
  },
  {
   "cell_type": "code",
   "execution_count": 8,
   "metadata": {},
   "outputs": [],
   "source": [
    "# super simple language model\n",
    "class LanguageModel(nn.Module):\n",
    "\n",
    "    def __init__(self):\n",
    "        super().__init__()\n",
    "        # each token directly reads off the logits for the next token from a lookup table\n",
    "        self.token_embedding_table = nn.Embedding(vocab_size, n_embd)\n",
    "        self.position_embedding_table = nn.Embedding(block_size, n_embd)\n",
    "        self.blocks = nn.Sequential(*[Block(n_embd, n_head=n_head) for _ in range(n_layer)])\n",
    "        self.ln_f = nn.LayerNorm(n_embd) # final layer norm\n",
    "        self.lm_head = nn.Linear(n_embd, vocab_size)\n",
    "\n",
    "    def forward(self, idx, targets=None):\n",
    "        B, T = idx.shape\n",
    "\n",
    "        # idx and targets are both (B,T) tensor of integers\n",
    "        tok_emb = self.token_embedding_table(idx) # (B,T,C)\n",
    "        pos_emb = self.position_embedding_table(torch.arange(T, device=device)) # (T,C)\n",
    "        x = tok_emb + pos_emb # (B,T,C)\n",
    "        x = self.blocks(x) # (B,T,C)\n",
    "        x = self.ln_f(x) # (B,T,C)\n",
    "        logits = self.lm_head(x) # (B,T,vocab_size)\n",
    "\n",
    "        if targets is None:\n",
    "            loss = None\n",
    "        else:\n",
    "            B, T, C = logits.shape\n",
    "            logits = logits.view(B*T, C)\n",
    "            targets = targets.view(B*T)\n",
    "            loss = F.cross_entropy(logits, targets)\n",
    "\n",
    "        return logits, loss\n",
    "\n",
    "    def generate(self, idx, max_new_tokens):\n",
    "        # idx is (B, T) array of indices in the current context\n",
    "        for _ in range(max_new_tokens):\n",
    "            # crop idx to the last block_size tokens\n",
    "            idx_cond = idx[:, -block_size:]\n",
    "            # get the predictions\n",
    "            logits, loss = self(idx_cond)\n",
    "            # focus only on the last time step\n",
    "            logits = logits[:, -1, :] # becomes (B, C)\n",
    "            # apply softmax to get probabilities\n",
    "            probs = F.softmax(logits, dim=-1) # (B, C)\n",
    "            # sample from the distribution\n",
    "            idx_next = torch.multinomial(probs, num_samples=1) # (B, 1)\n",
    "            # append sampled index to the running sequence\n",
    "            idx = torch.cat((idx, idx_next), dim=1) # (B, T+1)\n",
    "        return idx\n",
    "\n"
   ]
  },
  {
   "cell_type": "markdown",
   "metadata": {},
   "source": [
    "We will be training a larger LLM on distributed resources in session 6."
   ]
  },
  {
   "cell_type": "markdown",
   "metadata": {},
   "source": [
    "## Homework\n",
    "\n",
    "1. In this notebook, we learned the various components of an LLM. \n",
    "    Your homework this week is to take the mini LLM we created from scratch and run your own training loop. Show how the training and validation perplexity change over the steps.\n",
    "      \n",
    "    Hint: this function might be useful for you:"
   ]
  },
  {
   "cell_type": "code",
   "execution_count": 9,
   "metadata": {},
   "outputs": [],
   "source": [
    "def train_loop():\n",
    "    model.train()\n",
    "    for k in range(1000):\n",
    "        X, Y = get_batch('train')\n",
    "        logits, loss = model(X, Y)\n",
    "        loss.backward()\n",
    "        optimizer.step()\n",
    "        optimizer.zero_grad()"
   ]
  },
  {
   "cell_type": "code",
   "execution_count": 10,
   "metadata": {},
   "outputs": [],
   "source": [
    "@torch.no_grad()\n",
    "def estimate_loss():\n",
    "    out = {}\n",
    "    model.eval()\n",
    "    for split in ['train', 'val']:\n",
    "        losses = torch.zeros(eval_iters)\n",
    "        for k in range(eval_iters):\n",
    "            X, Y = get_batch(split)\n",
    "            logits, loss = model(X, Y)\n",
    "            losses[k] = loss.item()\n",
    "        out[split] = losses.mean()\n",
    "    model.train()\n",
    "    return out"
   ]
  },
  {
   "cell_type": "code",
   "execution_count": 11,
   "metadata": {},
   "outputs": [],
   "source": [
    "import numpy as np\n",
    "\n",
    "@torch.no_grad()\n",
    "def estimate_perplexity():\n",
    "    out = {}\n",
    "    model.eval()\n",
    "    for split in ['train', 'val']:\n",
    "        perplex = torch.ones(eval_iters)\n",
    "        for k in range(eval_iters):\n",
    "            X, Y = get_batch(split)\n",
    "            logits, loss = model(X, Y)\n",
    "            perplex[k] = np.exp(loss.item())\n",
    "        out[split] = perplex.mean()\n",
    "    model.train()\n",
    "    return out"
   ]
  },
  {
   "cell_type": "code",
   "execution_count": 15,
   "metadata": {},
   "outputs": [
    {
     "name": "stdout",
     "output_type": "stream",
     "text": [
      "{'train': tensor(82.4295), 'val': tensor(81.6686)}\n",
      "{'train': tensor(6.5738), 'val': tensor(7.1267)}\n",
      "{'train': tensor(5.5962), 'val': tensor(6.5580)}\n",
      "{'train': tensor(5.2039), 'val': tensor(6.1146)}\n",
      "{'train': tensor(4.9363), 'val': tensor(5.8973)}\n",
      "{'train': tensor(4.8315), 'val': tensor(5.5976)}\n",
      "{'train': tensor(4.7091), 'val': tensor(5.7271)}\n",
      "{'train': tensor(4.6564), 'val': tensor(5.4945)}\n",
      "{'train': tensor(4.5588), 'val': tensor(5.4961)}\n",
      "{'train': tensor(4.4899), 'val': tensor(5.4463)}\n"
     ]
    }
   ],
   "source": [
    "print(estimate_perplexity())\n",
    "for i in range(9):\n",
    "    train_loop()\n",
    "    print(estimate_perplexity())"
   ]
  },
  {
   "cell_type": "code",
   "execution_count": 37,
   "metadata": {},
   "outputs": [
    {
     "data": {
      "text/plain": [
       "'the woman cried because our laints,\\nOr brother court is'"
      ]
     },
     "execution_count": 37,
     "metadata": {},
     "output_type": "execute_result"
    }
   ],
   "source": [
    "index = torch.tensor([encode('the woman cried because')])\n",
    "phrase = decode(model.generate(index, 32)[0].tolist())\n",
    "phrase"
   ]
  },
  {
   "cell_type": "markdown",
   "metadata": {},
   "source": [
    "2. Run the same training loop but modify one of the hyperparameters from this list: "
   ]
  },
  {
   "cell_type": "code",
   "execution_count": 9,
   "metadata": {},
   "outputs": [],
   "source": [
    "# hyperparameters\n",
    "n_embd = 64\n",
    "n_head = 4 ## so head_size = 16\n",
    "n_layer = 4"
   ]
  },
  {
   "cell_type": "code",
   "execution_count": 23,
   "metadata": {},
   "outputs": [
    {
     "name": "stdout",
     "output_type": "stream",
     "text": [
      "{'train': tensor(78.0121), 'val': tensor(78.3757)}\n",
      "{'train': tensor(8.6822), 'val': tensor(9.0010)}\n",
      "{'train': tensor(7.0919), 'val': tensor(7.7310)}\n",
      "{'train': tensor(6.3543), 'val': tensor(7.1967)}\n",
      "{'train': tensor(5.9181), 'val': tensor(6.8096)}\n",
      "{'train': tensor(5.6748), 'val': tensor(6.5487)}\n",
      "{'train': tensor(5.4825), 'val': tensor(6.4814)}\n",
      "{'train': tensor(5.3310), 'val': tensor(6.2091)}\n",
      "{'train': tensor(5.2436), 'val': tensor(6.1955)}\n",
      "{'train': tensor(5.1353), 'val': tensor(6.1323)}\n",
      "the woman cried because. You lady, therabus, her you ri\n",
      "\n",
      "the woman cried because\n",
      "She patural thou hang for their\n",
      "\n",
      "the woman cried because,\n",
      "Wadmochethonereones vannaly no\n",
      "\n",
      "the woman cried because a pretement\n",
      "Thou tost bid.\n",
      "\n",
      "JUR\n",
      "\n",
      "the woman cried becaused him;\n",
      "And where is to go this, \n",
      "\n"
     ]
    },
    {
     "data": {
      "image/png": "[encoded data removed]",
      "text/plain": [
       "<Figure size 432x288 with 1 Axes>"
      ]
     },
     "metadata": {
      "needs_background": "light"
     },
     "output_type": "display_data"
    },
    {
     "name": "stdout",
     "output_type": "stream",
     "text": [
      "{'train': tensor(83.2954), 'val': tensor(83.2617)}\n",
      "{'train': tensor(8.3189), 'val': tensor(8.6828)}\n",
      "{'train': tensor(6.8214), 'val': tensor(7.4991)}\n",
      "{'train': tensor(6.0401), 'val': tensor(6.9240)}\n",
      "{'train': tensor(5.6318), 'val': tensor(6.5973)}\n",
      "{'train': tensor(5.4989), 'val': tensor(6.3376)}\n",
      "{'train': tensor(5.3251), 'val': tensor(6.2827)}\n",
      "{'train': tensor(5.1174), 'val': tensor(6.0464)}\n",
      "{'train': tensor(5.0249), 'val': tensor(6.0240)}\n",
      "{'train': tensor(4.9605), 'val': tensor(5.9254)}\n",
      "the woman cried because him bead?\n",
      "\n",
      "HENRSIO:\n",
      " I centling\n",
      "\n",
      "the woman cried because,\n",
      "That is call scarge thoee is b\n",
      "\n",
      "the woman cried because\n",
      "And news by noblage one loves\n",
      "Y\n",
      "\n",
      "the woman cried because make atturney;\n",
      "Go: what swallia\n",
      "\n",
      "the woman cried because that shall the death, and were \n",
      "\n"
     ]
    },
    {
     "data": {
      "image/png": "[encoded data removed]",
      "text/plain": [
       "<Figure size 432x288 with 1 Axes>"
      ]
     },
     "metadata": {
      "needs_background": "light"
     },
     "output_type": "display_data"
    },
    {
     "name": "stdout",
     "output_type": "stream",
     "text": [
      "{'train': tensor(76.7245), 'val': tensor(76.6885)}\n",
      "{'train': tensor(8.1069), 'val': tensor(8.4242)}\n",
      "{'train': tensor(6.4754), 'val': tensor(7.2373)}\n",
      "{'train': tensor(5.8503), 'val': tensor(6.7144)}\n",
      "{'train': tensor(5.4988), 'val': tensor(6.3733)}\n",
      "{'train': tensor(5.2256), 'val': tensor(6.1694)}\n",
      "{'train': tensor(5.0542), 'val': tensor(5.9473)}\n",
      "{'train': tensor(4.9942), 'val': tensor(5.8491)}\n",
      "{'train': tensor(4.8672), 'val': tensor(5.7789)}\n",
      "{'train': tensor(4.7570), 'val': tensor(5.8199)}\n",
      "the woman cried because!\n",
      "\n",
      "First guest Rome:\n",
      "Let us is i\n",
      "\n",
      "the woman cried because ever, from by like the\n",
      "In oldon\n",
      "\n",
      "the woman cried because womb\n",
      "on leave to must piering h\n",
      "\n",
      "the woman cried because\n",
      "When of Cusina\n",
      "call wermmer his\n",
      "\n",
      "the woman cried becauseed anster offer for guing,\n",
      "is 't\n",
      "\n"
     ]
    },
    {
     "data": {
      "image/png": "[encoded data removed]",
      "text/plain": [
       "<Figure size 432x288 with 1 Axes>"
      ]
     },
     "metadata": {
      "needs_background": "light"
     },
     "output_type": "display_data"
    },
    {
     "name": "stdout",
     "output_type": "stream",
     "text": [
      "{'train': tensor(80.6264), 'val': tensor(79.2688)}\n",
      "{'train': tensor(7.9930), 'val': tensor(8.2358)}\n",
      "{'train': tensor(6.4346), 'val': tensor(7.1307)}\n",
      "{'train': tensor(5.7404), 'val': tensor(6.5015)}\n",
      "{'train': tensor(5.3456), 'val': tensor(6.1651)}\n",
      "{'train': tensor(5.1290), 'val': tensor(5.9620)}\n",
      "{'train': tensor(4.9426), 'val': tensor(5.8429)}\n",
      "{'train': tensor(4.8303), 'val': tensor(5.8039)}\n",
      "{'train': tensor(4.7774), 'val': tensor(5.7211)}\n",
      "{'train': tensor(4.6796), 'val': tensor(5.6641)}\n",
      "the woman cried becausemy.\n",
      "\n",
      "PAULIS:\n",
      "I'll for you have g\n",
      "\n",
      "the woman cried because like go\n",
      "to uncle him thereward.\n",
      "\n",
      "the woman cried because cannetheers.\n",
      "\n",
      "GLOUCESTER:\n",
      "A, i \n",
      "\n",
      "the woman cried because; where, is blesse here?\n",
      "\n",
      "QUEEN \n",
      "\n",
      "the woman cried because\n",
      "Somen, Grows name thee swerve o\n",
      "\n"
     ]
    },
    {
     "data": {
      "image/png": "[encoded data removed]",
      "text/plain": [
       "<Figure size 432x288 with 1 Axes>"
      ]
     },
     "metadata": {
      "needs_background": "light"
     },
     "output_type": "display_data"
    },
    {
     "name": "stdout",
     "output_type": "stream",
     "text": [
      "{'train': tensor(81.1801), 'val': tensor(80.5197)}\n",
      "{'train': tensor(8.0618), 'val': tensor(8.4816)}\n",
      "{'train': tensor(6.2994), 'val': tensor(7.1476)}\n",
      "{'train': tensor(5.6382), 'val': tensor(6.6199)}\n",
      "{'train': tensor(5.3442), 'val': tensor(6.2943)}\n",
      "{'train': tensor(5.1593), 'val': tensor(6.0450)}\n",
      "{'train': tensor(4.9445), 'val': tensor(5.9128)}\n",
      "{'train': tensor(4.8322), 'val': tensor(5.7198)}\n",
      "{'train': tensor(4.7713), 'val': tensor(5.6483)}\n",
      "{'train': tensor(4.6442), 'val': tensor(5.5423)}\n",
      "the woman cried because.\n",
      "\n",
      "MENENIO:\n",
      "I any I for in armbe\n",
      "\n",
      "the woman cried because to womans\n",
      "We caurt whose thy ha\n",
      "\n",
      "the woman cried becaused had fair\n",
      "That hand hand could \n",
      "\n",
      "the woman cried because milder's\n",
      "This fault's sweet or \n",
      "\n",
      "the woman cried becaused.\n",
      "\n",
      "KING HENRY VI:\n",
      "Sir, it your \n",
      "\n"
     ]
    },
    {
     "data": {
      "image/png": "[encoded data removed]",
      "text/plain": [
       "<Figure size 432x288 with 1 Axes>"
      ]
     },
     "metadata": {
      "needs_background": "light"
     },
     "output_type": "display_data"
    }
   ],
   "source": [
    "from matplotlib import pyplot as plt\n",
    "\n",
    "for n_layer in range(2,7):\n",
    "    model = LanguageModel()\n",
    "    optimizer = torch.optim.AdamW(model.parameters(), lr=learning_rate, weight_decay=0.01)\n",
    "    #n_layer = 2\n",
    "    perplexity = estimate_perplexity()\n",
    "    perplex_train = [perplexity['train'].item()]\n",
    "    perplex_val = [perplexity['val'].item()]\n",
    "    print(perplexity)\n",
    "    for i in range(9):\n",
    "        train_loop()\n",
    "        perplexity = estimate_perplexity()\n",
    "        perplex_train.append(perplexity['train'].item())\n",
    "        perplex_val.append(perplexity['val'].item())\n",
    "        print(perplexity)\n",
    "    for i in range(5):\n",
    "        index = torch.tensor([encode('the woman cried because')])\n",
    "        phrase = decode(model.generate(index, 32)[0].tolist())\n",
    "        print(phrase+\"\\n\")\n",
    "    t = range(10)\n",
    "    fig, ax = plt.subplots(1, 1)\n",
    "    ax.plot(t, perplex_train, label='train')\n",
    "    ax.plot(t, perplex_val, label='validation')\n",
    "    #ax.set_xlim(0, 9)\n",
    "    ax.set_ylim([0, 10])\n",
    "    ax.set_xlabel('1000 train steps')\n",
    "    ax.set_ylabel('avg perplexity')\n",
    "    ax.grid(True)\n",
    "    ax.set_title('perplexity v training with '+str(n_layer)+' decoder blocks')\n",
    "    #ax.grid(True)\n",
    "    ax.legend()\n",
    "    #plt.legend()\n",
    "    plt.show()"
   ]
  },
  {
   "cell_type": "markdown",
   "metadata": {},
   "source": [
    "Run this at least 4 times with a different value and plot each perplexity over training step. Write a sentence on how the perplexity changed."
   ]
  },
  {
   "cell_type": "markdown",
   "metadata": {},
   "source": [
    "Looking at the graphs, it looks like the perplexity decreases as n_layers increases. This makes sense since the neural network is now deeper. "
   ]
  },
  {
   "cell_type": "markdown",
   "metadata": {},
   "source": [
    "Bonus 1: output some generated text from each model you trained. Did the output make more sense with some hyperparameters than others? "
   ]
  },
  {
   "cell_type": "markdown",
   "metadata": {},
   "source": [
    "The output seems comparable across models. The performance of the models are not that different. "
   ]
  },
  {
   "cell_type": "markdown",
   "metadata": {},
   "source": [
    "Bonus 2: We saw a cool visualization of attention mechanisms with BertViz. Take a more complicated model than GPT2 such as \"meta-llama/Llama-2-7b-chat-hf\" and see how the attention mechanisms are different "
   ]
  },
  {
   "cell_type": "markdown",
   "metadata": {
    "id": "nDXLTusqxXHf"
   },
   "source": [
    "## References"
   ]
  },
  {
   "cell_type": "markdown",
   "metadata": {},
   "source": [
    "Here are some recommendations for further reading and additional code for review.\n",
    "\n",
    "* \"The Illustrated Transformer\" by Jay Alammar\n",
    "* \"Visualizing A Neural Machine Translation Model (Mechanics of Seq2seq Models With Attention)\"\n",
    "* \"The Illustrated GPT-2 (Visualizing Transformer Language Models)\"\n",
    "* \"A gentle introduction to positional encoding\"\n",
    "* \"LLM Tutorial Workshop (Argonne National Laboratory)\"\n",
    "* \"LLM Tutorial Workshop Part 2 (Argonne National Laboratory)\""
   ]
  },
  {
   "cell_type": "code",
   "execution_count": 1,
   "metadata": {},
   "outputs": [
    {
     "data": {
      "text/plain": [
       "tensor(3)"
      ]
     },
     "execution_count": 1,
     "metadata": {},
     "output_type": "execute_result"
    }
   ],
   "source": [
    "import torch\n",
    "torch.tensor(3)"
   ]
  },
  {
   "cell_type": "code",
   "execution_count": 4,
   "metadata": {},
   "outputs": [
    {
     "data": {
      "text/plain": [
       "3"
      ]
     },
     "execution_count": 4,
     "metadata": {},
     "output_type": "execute_result"
    }
   ],
   "source": [
    "torch.tensor(3).item()"
   ]
  },
  {
   "cell_type": "code",
   "execution_count": 16,
   "metadata": {},
   "outputs": [
    {
     "data": {
      "image/png": "[encoded data removed]",
      "text/plain": [
       "<Figure size 432x288 with 1 Axes>"
      ]
     },
     "metadata": {
      "needs_background": "light"
     },
     "output_type": "display_data"
    }
   ],
   "source": [
    "from matplotlib import pyplot as plt\n",
    "\n",
    "t = range(10)\n",
    "fig, ax = plt.subplots(1, 1)\n",
    "ax.plot(t, t, label='train')\n",
    "ax.plot(t, t, label='validation')\n",
    "#ax.set_xlim(0, 9)\n",
    "ax.set_xlabel('1000 train steps')\n",
    "ax.set_ylabel('perplexity')\n",
    "ax.set_ylim([5, 10])\n",
    "ax.set_title('perplexity v training with '+str(2)+' decoder blocks')\n",
    "#ax.grid(True)\n",
    "ax.legend()\n",
    "#plt.legend()\n",
    "plt.show()"
   ]
  },
  {
   "cell_type": "code",
   "execution_count": null,
   "metadata": {},
   "outputs": [],
   "source": []
  }
 ],
 "metadata": {
  "colab": {
   "provenance": []
  },
  "kernelspec": {
   "display_name": "Python 3",
   "language": "python",
   "name": "python3"
  },
  "language_info": {
   "codemirror_mode": {
    "name": "ipython",
    "version": 3
   },
   "file_extension": ".py",
   "mimetype": "text/x-python",
   "name": "python",
   "nbconvert_exporter": "python",
   "pygments_lexer": "ipython3",
   "version": "3.9.11"
  }
 },
 "nbformat": 4,
 "nbformat_minor": 4
}
